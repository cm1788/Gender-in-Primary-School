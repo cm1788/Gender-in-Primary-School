{
 "cells": [
  {
   "cell_type": "markdown",
   "metadata": {},
   "source": [
    "Note: this notebook users conda environment: genderenv\n",
    "\n",
    "#### Warning: do not use the file conversion here - it does not preserve page numbering reliably. Please use docto (see script: convert_all.py)\n",
    "\n",
    "#### Note on naming: books names were taken from the directory names in 'Books'. This was occasionally inconsistent with the names in the excel spreadsheet. Usually this was due to punctuation (?!,:etc), capitalisation, or subtitle exclusion (e.g. 'a book about being nice' etc). This is worth remembering when trying to link to new book lists from new schools."
   ]
  },
  {
   "cell_type": "code",
   "execution_count": 1,
   "metadata": {},
   "outputs": [],
   "source": [
    "CONVERT_DOCS = True  # Whether to convert doc files to pdf."
   ]
  },
  {
   "cell_type": "code",
   "execution_count": 2,
   "metadata": {},
   "outputs": [],
   "source": [
    "import pandas as pd\n",
    "import matplotlib.pyplot as plt\n",
    "import numpy as np\n",
    "import pdfplumber\n",
    "import os \n",
    "import subprocess\n",
    "\n",
    "%matplotlib inline"
   ]
  },
  {
   "cell_type": "markdown",
   "metadata": {},
   "source": [
    "#### First we convert all doc files to pdf with:\n",
    " \n",
    "libreoffice --headless --convert-to pdf Careful\\ Santa\\!.doc --outdir ./test.pdf\n",
    "\n",
    "Note: tried docx2txt and docx2python but both required conversion from doc to docx first (which did not preserve formatting) and also docx does not contain page information (this is handled on rendering) meaning that relevant pages could not easily be selected."
   ]
  },
  {
   "cell_type": "code",
   "execution_count": 3,
   "metadata": {},
   "outputs": [
    {
     "name": "stdout",
     "output_type": "stream",
     "text": [
      "No-Bot\n",
      "No-Bot.doc\n",
      "Santa is Coming to Devon\n",
      "Santa is Coming to Devon.doc\n",
      "All Year Round\n",
      "All Year Round.doc\n",
      "Keith The Cat With The Magic Hat\n",
      "Keith The Cat With The Magic Hat.doc\n",
      "Ten in the Bed and Other Counting Rhymes\n",
      "Ten in the Bed and Other Counting Rhymes.doc\n",
      "Sir Charlie Stinky Socks and the Really Big Adventure\n",
      "Sir Charlie Stinky Socks and the Really Big Adventure.doc\n",
      "Barry the Fish With Fingers and the Hairy Scary Monster\n",
      "Barry the Fish With Fingers and the Hairy Scary Monster.doc\n",
      "The Christmas Extravaganza Hotel\n",
      "The Christmas Extravaganza Hotel.doc\n",
      "Elmer and the Stranger\n",
      "Elmer and the Stranger.doc\n",
      "Open Very Carefully. A Book With Bite!\n",
      "Open Very Carefully, A Book With Bite!.doc\n",
      "Room on the Broom\n",
      "Room on the Broom.doc\n",
      "The Cross Rabbit\n",
      "The Cross Rabbit.doc\n",
      "Lion's in a Flap\n",
      "Lion's in a Flap.doc\n",
      "Harry and the Dinosaurs Go Wild\n",
      "Harry and the Dinosaurs Go Wild.doc\n",
      "The Rescue Party\n",
      "The Rescue Party.doc\n",
      "Elmer and the Lost Teddy\n",
      "Elmer and the Lost Teddy.doc\n",
      "The Hungry Caterpillar\n",
      "The Hungry Caterpillar.doc\n",
      "The Monstrous Tale of Celery Crumble\n",
      "The Monstrous Tale of Celery Crumble.doc\n",
      "Stick Man\n",
      "Stick Man.doc\n",
      "A Letter to Santa\n",
      "A Letter to Santa.doc\n",
      "All In One Piece\n",
      "All In One Piece.doc\n",
      "The Dinosaur That Pooped Christmas\n",
      "The Dinosaur That Pooped Christmas.doc\n",
      "The Gingerbread Man\n",
      "The Gingerbread Man.doc\n",
      "When Granny Saved Christmas\n",
      "When Granny Saved Christmas.doc\n",
      "Elmer and Rose\n",
      "Elmer and Rose.doc\n",
      "Where's My Teddy\n",
      "Where's My Teddy.doc\n",
      "Kipper's A to Z\n",
      "Kipper's A to Z.doc\n",
      "One Snowy Night\n",
      "One Snowy Night.doc\n",
      "Owl Babies\n",
      "Owl Babies.doc\n",
      "We're Going On A Lion Hunt\n",
      "We're Going On A Lion Hunt.doc\n",
      "Doug The Bug That Went Boing!\n",
      "Doug The Bug That Went Boing.doc\n",
      "Tiger Has a Tantrum\n",
      "Tiger Has a Tantrum.doc\n",
      "Where's My Cuddle\n",
      "Where's My Cuddle.doc\n",
      "Knock Knock Dinosaur\n",
      "Knock Knock Dinosaur.doc\n",
      "Harry and the Bucketful of Dinosaurs\n",
      "Harry and the Bucketful of Dinosaurs.doc\n",
      "Zog and the Flying Doctors\n",
      "Zog and the Flying Doctors.doc\n",
      "Supertato Veggies Assemble\n",
      "Supertato Veggies Assemble.doc\n",
      "The Very Busy Spider\n",
      "The Very Busy Spider.doc\n",
      "Elmer on Stilts\n",
      "Elmer on Stilts.doc\n",
      "A Thing Called Snow\n",
      "A Thing Called Snow.docx\n",
      "Little Monkey\n",
      "Little Monkey.doc\n",
      "After the Storm\n",
      "After the Storm.doc\n",
      "Superworm\n",
      "Superworm.doc\n",
      "Elmer and Grandpa Eldo\n",
      "Elmer and Grandpa Eldo.doc\n",
      "The Wheels on the Bus\n",
      "The Wheels on the Bus.doc\n",
      "The Enormous Crocodile\n",
      "The Enormous Crocodile.doc\n",
      "The Tree That's Meant To Be\n",
      "The Tree That's Meant To Be.doc\n",
      "Eleanor Won't Share\n",
      "Eleanor Won't Share.doc\n",
      "The Fox's Hiccups\n",
      "The Fox's Hiccups.doc\n",
      "Oi Dog!\n",
      "Oi Dog!.docx\n",
      "The Bad-Tempered Ladybird\n",
      "The Bad-Tempered Ladybird.doc\n",
      "The Snail and the Whale\n",
      "The Snail and the Whale.doc\n",
      "Elmer in the Snow\n",
      "Elmer in the Snow.doc\n",
      "Dinosaurs Love Underpants\n",
      "Dinosaurs Love Underpants.doc\n",
      "The Owl's Lesson\n",
      "The Owl's Lesson.doc\n",
      "Knock Knock Alien\n",
      "Knock Knock Alien.doc\n",
      "The Polar Express\n",
      "The Polar Express.doc\n",
      "Father Christmas Needs A Wee\n",
      "Father Christmas Needs A Wee.doc\n",
      "The Squirrels Who Squabbled\n",
      "The Squirrels Who Squabbled.doc\n",
      "Elmer and the Wind\n",
      "Elmer and the Wind.doc\n",
      "Yoga Babies\n",
      "Yoga Babies.doc\n",
      "Santa to the Rescue\n",
      "Santa to the Rescue.doc\n",
      "Born to be a Butterfly\n",
      "Born to be a Butterfly.doc\n",
      "These Are Animals\n",
      "These Are Animals.doc\n",
      "Monkey Puzzle\n",
      "Monkey Puzzle.doc\n",
      "Harry and the Robots\n",
      "Harry and the Robots.doc\n",
      "The Hedgehog's Balloon\n",
      "The Hedgehog's Balloon.doc\n",
      "Caterpillar Butterfly\n",
      "Caterpillar Butterfly.doc\n",
      "The Jolly Postman or Other People's Letters\n",
      "The Jolly Postman or Other People's Letters.doc\n",
      "Charlie Cook's Favourite Book\n",
      "Charlie Cook's Favourite Book.doc\n",
      "The Way Home For Wolf\n",
      "The Way Home For Wolf.doc\n",
      "The Pirates Next Door\n",
      "The Pirates Next Door.doc\n",
      "Supertato\n",
      "Supertato.doc\n",
      "Barry The Fish With Fingers\n",
      "Barry The Fish With Fingers.doc\n",
      "Harry and the Dinosaurs go to School\n",
      "Harry and the Dinosaurs go to School.doc\n",
      "How to Catch a Star\n",
      "How to Catch a Star.doc\n",
      "Harry and the Dinosaurs at the Museum\n",
      "Harry and the Dinosaurs at the Museum.doc\n",
      "Careful Santa!\n",
      "Careful Santa!.doc\n",
      "We're Going on a Bear Hunt\n",
      "We're Going on a Bear Hunt.doc\n",
      "Peace at Last\n",
      "Peace at Last.doc\n",
      "Elephant Learns to Share\n",
      "Elephant Learns to Share.doc\n",
      "Kipper's Toybox\n",
      "Kipper's Toybox.doc\n",
      "Romp in the Swamp\n",
      "Romp in the Swamp.doc\n",
      "Is It Bedtime Wibbly Pig\n",
      "Is It Betime Wibbly Pig.doc\n",
      "Who Will Save Us\n",
      "Who Will Save Us.doc\n",
      "The Runaway Pea\n",
      "The Runaway Pea.doc\n",
      "Bottoms Up!\n",
      "Bottoms Up!.doc\n",
      "Super Sid The Silly Sausage Dog\n",
      "Super Sid The Silly Sausage Dog.doc\n",
      "How The Grinch Stole Christmas\n",
      "How The Grinch Stole Christmas.doc\n",
      "One Starry Night\n",
      "One Starry Night.doc\n",
      "The Truth According to Arthur\n",
      "The Truth According to Arthur.doc\n",
      "Farmer Duck\n",
      "Farmer Duck.doc\n",
      "The Gruffalo\n",
      "The Gruffalo.doc\n",
      "Can't You Sleep Little Bear\n",
      "Can't You Sleep Little Bear.doc\n",
      "Little Red Riding Hood\n",
      "Little Red Riding Hood.doc\n",
      "Tabby McTat\n",
      "Tabby McTat.doc\n",
      "All For One\n",
      "All For One.doc\n",
      "Little by Little\n",
      "Little by Little.doc\n",
      "Elmer and Wilbur\n",
      "Elmer and Wilbur.doc\n",
      "You Choose\n",
      "You Choose.doc\n",
      "Jesus' Christmas Party\n",
      "Jesus' Christmas Party.doc\n",
      "Each Peach Pear Plum\n",
      "Each Peach Pear Plum.doc\n",
      "Lost and Found\n",
      "Lost and Found.doc\n",
      "Who Will Sing My Puff-a-bye\n",
      "Who Will Sing My Puff-a-bye.doc\n",
      "The Gruffalo's Child\n",
      "The Gruffalo's Child.docx\n",
      "Hippo Owns Up\n",
      "Hippo Owns Up.doc\n",
      "The First Christmas\n",
      "The First Christmas.doc\n",
      "Dogger\n",
      "Dogger.doc\n",
      "Ten Wriggly, Wiggly Caterpillars\n",
      "Ten Wriggly, Wiggly Caterpillars.doc\n",
      "Monkey Needs to Listen\n",
      "Monkey Needs to Listen.doc\n",
      "Norman The Slug With The Silly Shell\n",
      "Norman The Slug With The Silly Shell.doc\n",
      "The Very Lazy Ladybird\n",
      "The Very Lazy Ladybird.doc\n",
      "It's Christmas\n",
      "It's Christmas.doc\n",
      "The Tiger Who Came to Tea\n",
      "WARNING: FILE NOT CONVERTED! ^\n",
      "The Enormous Turnip\n",
      "The Enormous Turnip.doc\n",
      "The Smeds and The Smoos\n",
      "The Smeds and The Smoos.doc\n",
      "Cinder the Bubble-Blowing Dragon\n",
      "Cinder the Bubble-Blowing Dragon.doc\n",
      "Zog\n",
      "Zog.doc\n",
      "Ten Tall Giraffes\n",
      "Ten Tall Giraffes.doc\n",
      "Gruff the Grump\n",
      "Gruff the Grump.doc\n",
      "The Bumblebear\n",
      "The Bumblebear.doc\n",
      "Giraffe is Left Out\n",
      "Giraffe is Left Out.doc\n",
      "Scruffy Bear and the Six White Mice\n",
      "Scruffy Bear and the Six White Mice.doc\n",
      "Squash the Spider\n",
      "Squash the Spider.doc\n",
      "Jasper's Jungle Journey\n",
      "Jasper's Jungle Journey.doc\n",
      "Harry and the Dinosaurs say Raahh!\n",
      "Harry and the Dinosaurs say Raahh!.doc\n",
      "The Night Before Christmas\n",
      "The Night Before Christmas.doc\n",
      "The Christmas Story\n",
      "The Christmas Story.doc\n",
      "Lost in the Snow\n",
      "Lost in the Snow.doc\n",
      "Whatever Next!\n",
      "Whatever Next!.doc\n"
     ]
    }
   ],
   "source": [
    "if CONVERT_DOCS:\n",
    "\n",
    "    os.chdir('../Books')\n",
    "\n",
    "    for b in os.listdir():\n",
    "        print(b)\n",
    "        os.chdir(b)\n",
    "        file_list = os.listdir()\n",
    "\n",
    "        found = False\n",
    "        for file in file_list:\n",
    "            if file[-4:] == '.doc' or file[-5:] == '.docx':\n",
    "                print(file)\n",
    "                found = True\n",
    "                subprocess.call([\"libreoffice\",\n",
    "                     \"--headless\",\n",
    "                     \"--convert-to\",\n",
    "                     \"pdf\",\n",
    "                     file,\n",
    "                     \"--outdir\", \n",
    "                     \"../../text_pdfs/\"])\n",
    "        if not found:\n",
    "            print(\"WARNING: FILE NOT CONVERTED! ^\")\n",
    "        os.chdir('..')"
   ]
  },
  {
   "cell_type": "markdown",
   "metadata": {},
   "source": [
    "#### Now we can grab the text from the pdf files:\n",
    "\n",
    "Note: need to record what page the main text starts and end (at the moment we are grabbing everything including authors, publication details, summary)."
   ]
  },
  {
   "cell_type": "code",
   "execution_count": 4,
   "metadata": {},
   "outputs": [],
   "source": [
    "#labels = pd.read_excel('../Book List Exel April.xlsx', sheet_name='Sheet1')\n",
    "labels = pd.read_excel('../Book List Clean Titles.xlsx', sheet_name='Sheet1')\n",
    "labels = labels.rename(columns={'Author ': 'Author'})"
   ]
  },
  {
   "cell_type": "code",
   "execution_count": 5,
   "metadata": {
    "scrolled": true
   },
   "outputs": [],
   "source": [
    "os.chdir('../text_pdfs/')"
   ]
  },
  {
   "cell_type": "code",
   "execution_count": 6,
   "metadata": {},
   "outputs": [],
   "source": [
    "df = pd.DataFrame()\n",
    "\n",
    "def grab_text(title, labels):\n",
    "    \n",
    "    start = labels.loc[labels.Title==title]['Starting Page']\n",
    "    if len(start)==0:\n",
    "        print(title, \"no start\")\n",
    "        start = 0\n",
    "    else:\n",
    "        start = start.values[0]\n",
    "    end = labels.loc[labels.Title==title]['Ending Page']\n",
    "    if len(end)==0:\n",
    "        print(title, \"no end\")\n",
    "        end = 0\n",
    "    else:\n",
    "        end = end.values[0]\n",
    "    \n",
    "    title = title + '.pdf'\n",
    "    all_text = ''\n",
    "    with pdfplumber.open(title) as pdf:\n",
    "        for i, page in enumerate(pdf.pages):\n",
    "            if i+1 >= start and i < end:\n",
    "                single_page_text = page.extract_text()\n",
    "\n",
    "                if single_page_text is not None:\n",
    "                    all_text = all_text + '\\n' + single_page_text\n",
    "                \n",
    "    return all_text\n",
    "\n",
    "df['Title'] = [file.split('.')[0] for file in os.listdir() if file.split('.')[1]=='pdf']\n",
    "df['Text'] = [grab_text(title, labels) for title in df.Title]"
   ]
  },
  {
   "cell_type": "code",
   "execution_count": 7,
   "metadata": {},
   "outputs": [
    {
     "data": {
      "text/html": [
       "<div>\n",
       "<style scoped>\n",
       "    .dataframe tbody tr th:only-of-type {\n",
       "        vertical-align: middle;\n",
       "    }\n",
       "\n",
       "    .dataframe tbody tr th {\n",
       "        vertical-align: top;\n",
       "    }\n",
       "\n",
       "    .dataframe thead th {\n",
       "        text-align: right;\n",
       "    }\n",
       "</style>\n",
       "<table border=\"1\" class=\"dataframe\">\n",
       "  <thead>\n",
       "    <tr style=\"text-align: right;\">\n",
       "      <th></th>\n",
       "      <th>Title</th>\n",
       "      <th>Text</th>\n",
       "    </tr>\n",
       "  </thead>\n",
       "  <tbody>\n",
       "    <tr>\n",
       "      <th>0</th>\n",
       "      <td>The Night Before Christmas</td>\n",
       "      <td>\\n'Twas the night before Christmas\\nwhen all t...</td>\n",
       "    </tr>\n",
       "    <tr>\n",
       "      <th>1</th>\n",
       "      <td>The Gruffalo</td>\n",
       "      <td>\\nA mouse took a stroll through the deep dark ...</td>\n",
       "    </tr>\n",
       "    <tr>\n",
       "      <th>2</th>\n",
       "      <td>The Monstrous Tale of Celery Crumble</td>\n",
       "      <td>\\nHave you met Celery Crumble?\\nThat’s her rig...</td>\n",
       "    </tr>\n",
       "    <tr>\n",
       "      <th>3</th>\n",
       "      <td>Peace at Last</td>\n",
       "      <td>\\nThe hour was late.\\nMr Bear was tired, Mrs B...</td>\n",
       "    </tr>\n",
       "    <tr>\n",
       "      <th>4</th>\n",
       "      <td>Barry The Fish With Fingers</td>\n",
       "      <td>\\nPuffy the puffer fish, could blow\\nthe BEST ...</td>\n",
       "    </tr>\n",
       "  </tbody>\n",
       "</table>\n",
       "</div>"
      ],
      "text/plain": [
       "                                  Title  \\\n",
       "0            The Night Before Christmas   \n",
       "1                          The Gruffalo   \n",
       "2  The Monstrous Tale of Celery Crumble   \n",
       "3                         Peace at Last   \n",
       "4           Barry The Fish With Fingers   \n",
       "\n",
       "                                                Text  \n",
       "0  \\n'Twas the night before Christmas\\nwhen all t...  \n",
       "1  \\nA mouse took a stroll through the deep dark ...  \n",
       "2  \\nHave you met Celery Crumble?\\nThat’s her rig...  \n",
       "3  \\nThe hour was late.\\nMr Bear was tired, Mrs B...  \n",
       "4  \\nPuffy the puffer fish, could blow\\nthe BEST ...  "
      ]
     },
     "execution_count": 7,
     "metadata": {},
     "output_type": "execute_result"
    }
   ],
   "source": [
    "df.head()"
   ]
  },
  {
   "cell_type": "code",
   "execution_count": 8,
   "metadata": {},
   "outputs": [
    {
     "name": "stdout",
     "output_type": "stream",
     "text": [
      "129\n"
     ]
    }
   ],
   "source": [
    "print(len(df))"
   ]
  },
  {
   "cell_type": "markdown",
   "metadata": {},
   "source": [
    "#### Let's check out the summary information from the excel spreadsheet:"
   ]
  },
  {
   "cell_type": "code",
   "execution_count": 9,
   "metadata": {},
   "outputs": [],
   "source": [
    "labels = labels.dropna(subset=['Protagonist Gender'])"
   ]
  },
  {
   "cell_type": "code",
   "execution_count": 10,
   "metadata": {},
   "outputs": [
    {
     "data": {
      "text/html": [
       "<div>\n",
       "<style scoped>\n",
       "    .dataframe tbody tr th:only-of-type {\n",
       "        vertical-align: middle;\n",
       "    }\n",
       "\n",
       "    .dataframe tbody tr th {\n",
       "        vertical-align: top;\n",
       "    }\n",
       "\n",
       "    .dataframe thead th {\n",
       "        text-align: right;\n",
       "    }\n",
       "</style>\n",
       "<table border=\"1\" class=\"dataframe\">\n",
       "  <thead>\n",
       "    <tr style=\"text-align: right;\">\n",
       "      <th></th>\n",
       "      <th>Number</th>\n",
       "      <th>AW Has</th>\n",
       "      <th>Title</th>\n",
       "      <th>Author</th>\n",
       "      <th>Cost</th>\n",
       "      <th>Source</th>\n",
       "      <th>Starting Page</th>\n",
       "      <th>Ending Page</th>\n",
       "      <th>Protagonist Gender</th>\n",
       "      <th>Protagonist Human/ Non-human</th>\n",
       "      <th>Protagonist Name</th>\n",
       "      <th>Secondary Character Gender</th>\n",
       "      <th>SC Human/Non Human</th>\n",
       "      <th>SC Names</th>\n",
       "      <th>Notes</th>\n",
       "      <th>Year of First Publication</th>\n",
       "      <th>Unnamed: 16</th>\n",
       "      <th>Unnamed: 17</th>\n",
       "      <th>Unnamed: 18</th>\n",
       "    </tr>\n",
       "  </thead>\n",
       "  <tbody>\n",
       "    <tr>\n",
       "      <th>1</th>\n",
       "      <td>2.0</td>\n",
       "      <td>NaN</td>\n",
       "      <td>Owl Babies</td>\n",
       "      <td>Martin Waddell</td>\n",
       "      <td>2.75</td>\n",
       "      <td>ebay</td>\n",
       "      <td>6.0</td>\n",
       "      <td>29.0</td>\n",
       "      <td>F/M/M</td>\n",
       "      <td>NH</td>\n",
       "      <td>Sarah/Percy/Bill</td>\n",
       "      <td>F</td>\n",
       "      <td>NH</td>\n",
       "      <td>Owl Mother</td>\n",
       "      <td>NaN</td>\n",
       "      <td>NaN</td>\n",
       "      <td>NaN</td>\n",
       "      <td>NaN</td>\n",
       "      <td>NaN</td>\n",
       "    </tr>\n",
       "    <tr>\n",
       "      <th>2</th>\n",
       "      <td>3.0</td>\n",
       "      <td>Yes</td>\n",
       "      <td>Where's My Teddy</td>\n",
       "      <td>Jez Alborough</td>\n",
       "      <td>NaN</td>\n",
       "      <td>NaN</td>\n",
       "      <td>6.0</td>\n",
       "      <td>29.0</td>\n",
       "      <td>M</td>\n",
       "      <td>H</td>\n",
       "      <td>Eddy</td>\n",
       "      <td>M</td>\n",
       "      <td>NH</td>\n",
       "      <td>NaN</td>\n",
       "      <td>NaN</td>\n",
       "      <td>NaN</td>\n",
       "      <td>NaN</td>\n",
       "      <td>NaN</td>\n",
       "      <td>NaN</td>\n",
       "    </tr>\n",
       "  </tbody>\n",
       "</table>\n",
       "</div>"
      ],
      "text/plain": [
       "   Number AW Has             Title          Author  Cost Source  \\\n",
       "1     2.0    NaN        Owl Babies  Martin Waddell  2.75   ebay   \n",
       "2     3.0    Yes  Where's My Teddy   Jez Alborough   NaN    NaN   \n",
       "\n",
       "   Starting Page  Ending Page Protagonist Gender Protagonist Human/ Non-human  \\\n",
       "1            6.0         29.0              F/M/M                           NH   \n",
       "2            6.0         29.0                  M                            H   \n",
       "\n",
       "   Protagonist Name Secondary Character Gender SC Human/Non Human    SC Names  \\\n",
       "1  Sarah/Percy/Bill                          F                 NH  Owl Mother   \n",
       "2              Eddy                          M                 NH         NaN   \n",
       "\n",
       "  Notes Year of First Publication Unnamed: 16 Unnamed: 17 Unnamed: 18  \n",
       "1   NaN                       NaN         NaN         NaN         NaN  \n",
       "2   NaN                       NaN         NaN         NaN         NaN  "
      ]
     },
     "execution_count": 10,
     "metadata": {},
     "output_type": "execute_result"
    }
   ],
   "source": [
    "labels.head(2)"
   ]
  },
  {
   "cell_type": "markdown",
   "metadata": {},
   "source": [
    "#### This gives us a crude way of plotting the gender of the protagonists:\n",
    "\n",
    "#### Note: check the 'gender_map'. Is 'NA' NGS?"
   ]
  },
  {
   "cell_type": "code",
   "execution_count": 11,
   "metadata": {},
   "outputs": [],
   "source": [
    "def plot_gender_freqs(df, normalise=False, title=None):\n",
    "    \n",
    "    denominator = len(df) if normalise else 1\n",
    "    \n",
    "    plt.hist(df['Protagonist Gender'], \n",
    "            bins=np.arange(1 + len(df['Protagonist Gender'].unique())) - 0.5,\n",
    "            weights=[1/denominator for i in df.Number])\n",
    "    plt.xticks(rotation=90)\n",
    "    plt.ylabel('frequency')\n",
    "    \n",
    "    title = 'Protagonist Gender' if title is None else title\n",
    "    plt.title(title);"
   ]
  },
  {
   "cell_type": "code",
   "execution_count": 12,
   "metadata": {},
   "outputs": [],
   "source": [
    "gender_map = {\n",
    "    'M':'M',\n",
    "    'M  ':'M',\n",
    "    'M ':'M',\n",
    "    'M PLURAL ': 'M', \n",
    "    'M/M': 'M',\n",
    "    'F/M': 'B',\n",
    "    'F/M/M': 'B', \n",
    "    'NGS SINGULAR AND PLURAL': 'N',\n",
    "    'NGS': 'N', \n",
    "    'NGS/NGS ': 'N',\n",
    "    'NGS PLURAL': 'N', \n",
    "    'F': 'F', \n",
    "    'NGS MANY': 'N',\n",
    "    'M/NGS/NGS/NGS/NGS': 'M/NGS/NGS/NGS/NGS', # Not sure about this one \n",
    "    'PLURAL NGS': 'N',\n",
    "    'NGS FIRST PERSON': 'N',\n",
    "    'F/F/F/M/M/M/M/M PLURAL': 'B',\n",
    "    'NA ': 'NA',\n",
    "    'M/F/F/M/F/M/F/F/M': 'B',\n",
    "    'NA 2nd Person': 'NA',\n",
    "    'M/F ': 'B',\n",
    "    '2nd person voice/NGS': 'NGS',\n",
    "    'NA plural': 'NA',\n",
    "    'F ': 'F',\n",
    "    'NA First Person': 'NA',\n",
    "    'M/F': 'B',\n",
    "    'Many NGS': 'N',\n",
    "    'he Way': 'N',\n",
    "    'F/F/F/M/M/M/M PLURAL': 'B'\n",
    "}"
   ]
  },
  {
   "cell_type": "code",
   "execution_count": 13,
   "metadata": {},
   "outputs": [
    {
     "data": {
      "text/html": [
       "<div>\n",
       "<style scoped>\n",
       "    .dataframe tbody tr th:only-of-type {\n",
       "        vertical-align: middle;\n",
       "    }\n",
       "\n",
       "    .dataframe tbody tr th {\n",
       "        vertical-align: top;\n",
       "    }\n",
       "\n",
       "    .dataframe thead th {\n",
       "        text-align: right;\n",
       "    }\n",
       "</style>\n",
       "<table border=\"1\" class=\"dataframe\">\n",
       "  <thead>\n",
       "    <tr style=\"text-align: right;\">\n",
       "      <th></th>\n",
       "      <th>Number</th>\n",
       "      <th>AW Has</th>\n",
       "      <th>Title</th>\n",
       "      <th>Author</th>\n",
       "      <th>Cost</th>\n",
       "      <th>Source</th>\n",
       "      <th>Starting Page</th>\n",
       "      <th>Ending Page</th>\n",
       "      <th>Protagonist Gender</th>\n",
       "      <th>Protagonist Human/ Non-human</th>\n",
       "      <th>Protagonist Name</th>\n",
       "      <th>Secondary Character Gender</th>\n",
       "      <th>SC Human/Non Human</th>\n",
       "      <th>SC Names</th>\n",
       "      <th>Notes</th>\n",
       "      <th>Year of First Publication</th>\n",
       "      <th>Unnamed: 16</th>\n",
       "      <th>Unnamed: 17</th>\n",
       "      <th>Unnamed: 18</th>\n",
       "    </tr>\n",
       "  </thead>\n",
       "  <tbody>\n",
       "  </tbody>\n",
       "</table>\n",
       "</div>"
      ],
      "text/plain": [
       "Empty DataFrame\n",
       "Columns: [Number, AW Has, Title, Author, Cost, Source, Starting Page, Ending Page, Protagonist Gender, Protagonist Human/ Non-human, Protagonist Name, Secondary Character Gender, SC Human/Non Human, SC Names, Notes, Year of First Publication, Unnamed: 16, Unnamed: 17, Unnamed: 18]\n",
       "Index: []"
      ]
     },
     "execution_count": 13,
     "metadata": {},
     "output_type": "execute_result"
    }
   ],
   "source": [
    "#str(labels.loc[labels['Protagonist Gender']=='NA plural'].Notes.values)\n",
    "labels.loc[labels['Protagonist Gender']=='he Way']"
   ]
  },
  {
   "cell_type": "code",
   "execution_count": 14,
   "metadata": {},
   "outputs": [],
   "source": [
    "labels_agg_gender = labels.copy()\n",
    "labels_agg_gender['Protagonist Gender'] = [gender_map[g] for g in labels_agg_gender['Protagonist Gender']]\n",
    "labels_agg_gender['Protagonist Human/ Non-human'] = [h if h!='H ' else 'H' for h in labels_agg_gender['Protagonist Human/ Non-human']]"
   ]
  },
  {
   "cell_type": "code",
   "execution_count": 15,
   "metadata": {},
   "outputs": [
    {
     "data": {
      "image/png": "[encoded data removed]",
      "text/plain": [
       "<Figure size 720x360 with 3 Axes>"
      ]
     },
     "metadata": {
      "needs_background": "light"
     },
     "output_type": "display_data"
    }
   ],
   "source": [
    "plt.figure(figsize=(10,5))\n",
    "\n",
    "plt.subplot(1,3,1)\n",
    "plot_gender_freqs(labels_agg_gender, normalise=True)\n",
    "plt.ylim([0,1.0])\n",
    "\n",
    "plt.subplot(1,3,2)\n",
    "plot_gender_freqs(\n",
    "    labels_agg_gender.loc[labels_agg_gender['Protagonist Human/ Non-human'] == 'NH'],\n",
    "    normalise=True,\n",
    "    title='(single non-human protagonist)' \n",
    ")\n",
    "plt.ylim([0,1.0])\n",
    "\n",
    "plt.subplot(1,3,3)\n",
    "plot_gender_freqs(\n",
    "    labels_agg_gender.loc[labels_agg_gender['Protagonist Human/ Non-human'] == 'H'],\n",
    "    normalise=True,\n",
    "    title='(single human characters protagonist)' \n",
    ")\n",
    "plt.ylim([0,1.0])\n",
    "\n",
    "\n",
    "plt.tight_layout()"
   ]
  },
  {
   "cell_type": "code",
   "execution_count": 16,
   "metadata": {},
   "outputs": [],
   "source": [
    "def count_table(df, column):\n",
    "    return (\n",
    "        df.groupby(column)\n",
    "        .agg({'Number':'count'})\n",
    "        .rename(columns={'Number':'count'})\n",
    "        .sort_values(by='count', ascending=False)\n",
    "    )"
   ]
  },
  {
   "cell_type": "code",
   "execution_count": 17,
   "metadata": {},
   "outputs": [
    {
     "data": {
      "text/html": [
       "<div>\n",
       "<style scoped>\n",
       "    .dataframe tbody tr th:only-of-type {\n",
       "        vertical-align: middle;\n",
       "    }\n",
       "\n",
       "    .dataframe tbody tr th {\n",
       "        vertical-align: top;\n",
       "    }\n",
       "\n",
       "    .dataframe thead th {\n",
       "        text-align: right;\n",
       "    }\n",
       "</style>\n",
       "<table border=\"1\" class=\"dataframe\">\n",
       "  <thead>\n",
       "    <tr style=\"text-align: right;\">\n",
       "      <th></th>\n",
       "      <th>count</th>\n",
       "    </tr>\n",
       "    <tr>\n",
       "      <th>Protagonist Gender</th>\n",
       "      <th></th>\n",
       "    </tr>\n",
       "  </thead>\n",
       "  <tbody>\n",
       "    <tr>\n",
       "      <th>M</th>\n",
       "      <td>79</td>\n",
       "    </tr>\n",
       "    <tr>\n",
       "      <th>F</th>\n",
       "      <td>10</td>\n",
       "    </tr>\n",
       "    <tr>\n",
       "      <th>M/M</th>\n",
       "      <td>7</td>\n",
       "    </tr>\n",
       "    <tr>\n",
       "      <th>F/M</th>\n",
       "      <td>4</td>\n",
       "    </tr>\n",
       "    <tr>\n",
       "      <th>NGS PLURAL</th>\n",
       "      <td>4</td>\n",
       "    </tr>\n",
       "    <tr>\n",
       "      <th>NGS</th>\n",
       "      <td>3</td>\n",
       "    </tr>\n",
       "    <tr>\n",
       "      <th>F</th>\n",
       "      <td>2</td>\n",
       "    </tr>\n",
       "    <tr>\n",
       "      <th>M</th>\n",
       "      <td>2</td>\n",
       "    </tr>\n",
       "    <tr>\n",
       "      <th>M/F</th>\n",
       "      <td>2</td>\n",
       "    </tr>\n",
       "    <tr>\n",
       "      <th>NA</th>\n",
       "      <td>1</td>\n",
       "    </tr>\n",
       "    <tr>\n",
       "      <th>NGS SINGULAR AND PLURAL</th>\n",
       "      <td>1</td>\n",
       "    </tr>\n",
       "    <tr>\n",
       "      <th>NGS MANY</th>\n",
       "      <td>1</td>\n",
       "    </tr>\n",
       "    <tr>\n",
       "      <th>NGS FIRST PERSON</th>\n",
       "      <td>1</td>\n",
       "    </tr>\n",
       "    <tr>\n",
       "      <th>NA plural</th>\n",
       "      <td>1</td>\n",
       "    </tr>\n",
       "    <tr>\n",
       "      <th>NA First Person</th>\n",
       "      <td>1</td>\n",
       "    </tr>\n",
       "    <tr>\n",
       "      <th>NA 2nd Person</th>\n",
       "      <td>1</td>\n",
       "    </tr>\n",
       "    <tr>\n",
       "      <th>2nd person voice/NGS</th>\n",
       "      <td>1</td>\n",
       "    </tr>\n",
       "    <tr>\n",
       "      <th>Many NGS</th>\n",
       "      <td>1</td>\n",
       "    </tr>\n",
       "    <tr>\n",
       "      <th>M/NGS/NGS/NGS/NGS</th>\n",
       "      <td>1</td>\n",
       "    </tr>\n",
       "    <tr>\n",
       "      <th>M/F/F/M/F/M/F/F/M</th>\n",
       "      <td>1</td>\n",
       "    </tr>\n",
       "    <tr>\n",
       "      <th>M/F</th>\n",
       "      <td>1</td>\n",
       "    </tr>\n",
       "    <tr>\n",
       "      <th>M PLURAL</th>\n",
       "      <td>1</td>\n",
       "    </tr>\n",
       "    <tr>\n",
       "      <th>M</th>\n",
       "      <td>1</td>\n",
       "    </tr>\n",
       "    <tr>\n",
       "      <th>F/M/M</th>\n",
       "      <td>1</td>\n",
       "    </tr>\n",
       "    <tr>\n",
       "      <th>F/F/F/M/M/M/M PLURAL</th>\n",
       "      <td>1</td>\n",
       "    </tr>\n",
       "    <tr>\n",
       "      <th>NGS/NGS</th>\n",
       "      <td>1</td>\n",
       "    </tr>\n",
       "  </tbody>\n",
       "</table>\n",
       "</div>"
      ],
      "text/plain": [
       "                         count\n",
       "Protagonist Gender            \n",
       "M                           79\n",
       "F                           10\n",
       "M/M                          7\n",
       "F/M                          4\n",
       "NGS PLURAL                   4\n",
       "NGS                          3\n",
       "F                            2\n",
       "M                            2\n",
       "M/F                          2\n",
       "NA                           1\n",
       "NGS SINGULAR AND PLURAL      1\n",
       "NGS MANY                     1\n",
       "NGS FIRST PERSON             1\n",
       "NA plural                    1\n",
       "NA First Person              1\n",
       "NA 2nd Person                1\n",
       "2nd person voice/NGS         1\n",
       "Many NGS                     1\n",
       "M/NGS/NGS/NGS/NGS            1\n",
       "M/F/F/M/F/M/F/F/M            1\n",
       "M/F                          1\n",
       "M PLURAL                     1\n",
       "M                            1\n",
       "F/M/M                        1\n",
       "F/F/F/M/M/M/M PLURAL         1\n",
       "NGS/NGS                      1"
      ]
     },
     "execution_count": 17,
     "metadata": {},
     "output_type": "execute_result"
    }
   ],
   "source": [
    "count_table(labels, 'Protagonist Gender')\n",
    "#count_table(labels.loc[labels['Protagonist Human/ Non-human'] == 'NH'], 'Protagonist Gender')\n",
    "#count_table(labels, 'Protagonist Human/ Non-human')"
   ]
  },
  {
   "cell_type": "markdown",
   "metadata": {},
   "source": [
    "#### We can also count the genders of all characters (conditioned on H/NH if desired):\n",
    "\n",
    "#### Note: this count plural characters (e.g. 'the cavemen': NGS PLURAL) as a single character, which is appropriate for e.g. normalisation of speech counts ('the cavemen said \"...\"')."
   ]
  },
  {
   "cell_type": "code",
   "execution_count": 18,
   "metadata": {},
   "outputs": [
    {
     "name": "stdout",
     "output_type": "stream",
     "text": [
      "NA \n",
      "NA 2nd Person\n",
      "2nd person voice\n",
      "NA plural\n",
      "NA First Person\n",
      "he Way\n"
     ]
    }
   ],
   "source": [
    "male_genders = ['M', 'M PLURAL ', 'M  ', 'M ', 'M PLURAL']\n",
    "female_genders = ['F', 'F ']\n",
    "ngs_genders = ['NGS SINGULAR AND PLURAL', 'NGS', 'NGS PLURAL', 'NGS, PLURAL', 'MANY NGS',\n",
    "               'NGS MANY', 'PLURAL NGS', 'NGS ', 'NGS FIRST PERSON', 'Many NGS']\n",
    "\n",
    "for key in gender_map.keys():\n",
    "    for i in key.split('/'):\n",
    "        if i not in male_genders + female_genders + ngs_genders:\n",
    "            print(i)"
   ]
  },
  {
   "cell_type": "code",
   "execution_count": 19,
   "metadata": {},
   "outputs": [
    {
     "name": "stdout",
     "output_type": "stream",
     "text": [
      "Warning: NA 2nd Person not in a gender list.\n",
      "Warning: 2nd person voice not in a gender list.\n",
      "Warning: NA plural not in a gender list.\n",
      "Warning: NA First Person not in a gender list.\n"
     ]
    }
   ],
   "source": [
    "male_count = {'H': 0, 'NH': 0}\n",
    "female_count = {'H': 0, 'NH': 0}\n",
    "ngs_count = {'H': 0, 'NH': 0}\n",
    "\n",
    "for gender,species in zip(labels['Protagonist Gender'], labels['Protagonist Human/ Non-human']):\n",
    "    \n",
    "    if isinstance(gender, float) or  isinstance(species, float):\n",
    "        continue\n",
    "        \n",
    "    _genders = gender.split('/')\n",
    "    _species = species.split('/')\n",
    "    \n",
    "    \n",
    "    if len(_species) != len(_genders):\n",
    "        # replace for cases like: 'F/M/M', 'NH' (Owl Babies)\n",
    "        if len(_species) == 1:\n",
    "            _species = [_species[0] for g in _genders]\n",
    "        \n",
    "        # replace for cases like: 'M PLURAL', 'NH/H' (Dinosaurs Love Underpants)\n",
    "        elif len(_genders) == 1:\n",
    "            _genders = [_genders[0] for g in _species]\n",
    "        else:\n",
    "            print('Warning: list length mismatch: ', _genders, _species)\n",
    "            break\n",
    "    \n",
    "    for g,s in zip(_genders, _species):\n",
    "        if g in female_genders:\n",
    "            female_count[s.strip()] += 1\n",
    "        elif g in male_genders:\n",
    "            male_count[s.strip()] += 1\n",
    "        elif g in ngs_genders:\n",
    "            ngs_count[s.strip()] += 1\n",
    "        else:\n",
    "            print('Warning: %s not in a gender list.' % g)"
   ]
  },
  {
   "cell_type": "code",
   "execution_count": 20,
   "metadata": {},
   "outputs": [
    {
     "data": {
      "image/png": "[encoded data removed]",
      "text/plain": [
       "<Figure size 432x288 with 1 Axes>"
      ]
     },
     "metadata": {
      "needs_background": "light"
     },
     "output_type": "display_data"
    }
   ],
   "source": [
    "plt.bar(['F', 'M', 'NGS'], [female_count['H'], male_count['H'], ngs_count['H']], label='human');\n",
    "plt.bar(['F', 'M', 'NGS'], \n",
    "        [female_count['NH'], male_count['NH'], ngs_count['NH']], \n",
    "        bottom=[female_count['H'], male_count['H'], ngs_count['H']],\n",
    "        label='non-human');\n",
    "\n",
    "plt.legend()\n",
    "plt.xlabel('gender')\n",
    "plt.ylabel('number of characters')\n",
    "plt.title('Protagonists by gender and species');"
   ]
  },
  {
   "cell_type": "markdown",
   "metadata": {},
   "source": [
    "#### Now adding secondary/minor characters:"
   ]
  },
  {
   "cell_type": "code",
   "execution_count": 21,
   "metadata": {},
   "outputs": [
    {
     "name": "stdout",
     "output_type": "stream",
     "text": [
      "Warning:  not in a gender list.\n"
     ]
    }
   ],
   "source": [
    "sc_male_count = {'H': 0, 'NH': 0}\n",
    "sc_female_count = {'H': 0, 'NH': 0}\n",
    "sc_ngs_count = {'H': 0, 'NH': 0}\n",
    "\n",
    "for gender,species in zip(labels['Secondary Character Gender'], labels['SC Human/Non Human']):\n",
    "    \n",
    "    if isinstance(gender, float) or isinstance(species, float):\n",
    "        continue\n",
    "    else:\n",
    "        _genders = gender.split('/')\n",
    "        _species = species.split('/')\n",
    "\n",
    "        if len(_species) != len(_genders):\n",
    "            # replace for cases like: 'F/M/M', 'NH' (Owl Babies)\n",
    "            if len(_species) == 1:\n",
    "                _species = [_species[0] for g in _genders]\n",
    "\n",
    "            # replace for cases like: 'M PLURAL', 'NH/H' (Dinosaurs Love Underpants)\n",
    "            elif len(_genders) == 1:\n",
    "                _genders = [_genders[0] for g in _species]\n",
    "            else:\n",
    "                print('Warning: list length mismatch: ', _genders, _species)\n",
    "                break\n",
    "                #continue\n",
    "\n",
    "        for g,s in zip(_genders, _species):\n",
    "            if g.strip() in female_genders:\n",
    "                sc_female_count[s.strip()] += 1\n",
    "            elif g.strip() in male_genders:\n",
    "                sc_male_count[s.strip()] += 1\n",
    "            elif g.strip() in ngs_genders:\n",
    "                sc_ngs_count[s.strip()] += 1\n",
    "            else:\n",
    "                print('Warning: %s not in a gender list.' % g)"
   ]
  },
  {
   "cell_type": "code",
   "execution_count": 22,
   "metadata": {},
   "outputs": [
    {
     "data": {
      "text/plain": [
       "array(['F', 'M', 'NGS', 'M/F/M/', 'M ', 'M/M/F', 'NGS/NGS/M', nan,\n",
       "       'M/NGS', 'M/M/M/M/M', 'M/F/M', 'NGS/M', 'F/M', 'M/M/M ',\n",
       "       'M/F/M/NGS/NGS', 'M/M/M', 'F/F/NGS/NGS/NGS', 'M/F/F', 'F/F/F',\n",
       "       'F/M/F/M', 'F/F/F/M', 'F/F/F/F/M', 'F/F/M/M', 'M/M/M/F/NGS', 'M/M',\n",
       "       'M/M/M/M', 'F/F', 'F/M/M/F/M',\n",
       "       'M/F/M/M/F/M/F/F/F/F/M/F/F/M/F/F/M/F/',\n",
       "       'M/NGS/NGS/NGS/NGS/NGS/NGS/NGS/NGS/NGS', 'M/F/NGS/F',\n",
       "       'M/M/F/F/NGS', 'F/M/M/F/NGS', 'F/M/M/F/M/F/M', 'MANY NGS',\n",
       "       'M/NGS ', 'F/NGS/NGS/NGS', 'NGS/NGS/NGS/NGS', 'M/F/F/M',\n",
       "       'F/NGS/NGS PLURAL/NGS', 'NGS PLURAL/F', 'NGS, PLURAL', 'M/F ',\n",
       "       'M/F', 'F/M/M/M/M/NGS', 'M/M/F/M/F', 'F/F/M', 'NGS/NGS/F',\n",
       "       'M/M/M/F/F', 'M/M/M/F', 'NGS/M/M/NGS/M/M/F/F', 'M/NGS/NGS/NGS',\n",
       "       'F/M/M/F'], dtype=object)"
      ]
     },
     "execution_count": 22,
     "metadata": {},
     "output_type": "execute_result"
    }
   ],
   "source": [
    "labels['Secondary Character Gender'].unique()"
   ]
  },
  {
   "cell_type": "code",
   "execution_count": 23,
   "metadata": {},
   "outputs": [
    {
     "data": {
      "image/png": "[encoded data removed]",
      "text/plain": [
       "<Figure size 576x288 with 1 Axes>"
      ]
     },
     "metadata": {
      "needs_background": "light"
     },
     "output_type": "display_data"
    }
   ],
   "source": [
    "plt.figure(figsize=(8,4))\n",
    "plt.bar(['F', 'M', 'NGS'], [female_count['H'], male_count['H'], ngs_count['H']], label='human, protagonist');\n",
    "\n",
    "baseline = [female_count['H'], male_count['H'], ngs_count['H']]\n",
    "plt.bar(['F', 'M', 'NGS'], \n",
    "        [female_count['NH'], male_count['NH'], ngs_count['NH']], \n",
    "        bottom=baseline,\n",
    "        label='non-human, protagonist');\n",
    "\n",
    "baseline[0] += female_count['NH']\n",
    "baseline[1] += male_count['NH']\n",
    "baseline[2] += ngs_count['NH']\n",
    "plt.bar(['F', 'M', 'NGS'], \n",
    "        [sc_female_count['H'], sc_male_count['H'], sc_ngs_count['H']], \n",
    "        bottom=baseline,\n",
    "        label='human, secondary');\n",
    "\n",
    "baseline[0] += sc_female_count['H']\n",
    "baseline[1] += sc_male_count['H']\n",
    "baseline[2] += sc_ngs_count['H']\n",
    "plt.bar(['F', 'M', 'NGS'], \n",
    "        [sc_female_count['NH'], sc_male_count['NH'], sc_ngs_count['NH']], \n",
    "        bottom=baseline,\n",
    "        label='non-human, secondary');\n",
    "\n",
    "plt.legend()\n",
    "plt.xlabel('gender')\n",
    "plt.ylabel('number of characters')\n",
    "plt.title('All characters by gender and species');\n",
    "#plt.ylim([0,130]);    "
   ]
  },
  {
   "cell_type": "code",
   "execution_count": 24,
   "metadata": {},
   "outputs": [
    {
     "data": {
      "text/plain": [
       "85"
      ]
     },
     "execution_count": 24,
     "metadata": {},
     "output_type": "execute_result"
    }
   ],
   "source": [
    "sum(sc_female_count.values())"
   ]
  },
  {
   "cell_type": "code",
   "execution_count": 33,
   "metadata": {},
   "outputs": [
    {
     "data": {
      "text/plain": [
       "0.522633744855967"
      ]
     },
     "execution_count": 33,
     "metadata": {},
     "output_type": "execute_result"
    }
   ],
   "source": [
    "sum(sc_male_count.values()) / (sum(sc_male_count.values()) + sum(male_count.values()))"
   ]
  },
  {
   "cell_type": "code",
   "execution_count": 32,
   "metadata": {
    "scrolled": true
   },
   "outputs": [
    {
     "data": {
      "text/plain": [
       "0.7456140350877193"
      ]
     },
     "execution_count": 32,
     "metadata": {},
     "output_type": "execute_result"
    }
   ],
   "source": [
    "sum(sc_female_count.values()) / (sum(sc_female_count.values()) + sum(female_count.values()))"
   ]
  },
  {
   "cell_type": "code",
   "execution_count": 29,
   "metadata": {},
   "outputs": [
    {
     "data": {
      "text/plain": [
       "114"
      ]
     },
     "execution_count": 29,
     "metadata": {},
     "output_type": "execute_result"
    }
   ],
   "source": [
    "sum(female_count.values()) + sum(sc_female_count.values())"
   ]
  },
  {
   "cell_type": "code",
   "execution_count": 30,
   "metadata": {},
   "outputs": [
    {
     "data": {
      "text/plain": [
       "243"
      ]
     },
     "execution_count": 30,
     "metadata": {},
     "output_type": "execute_result"
    }
   ],
   "source": [
    "sum(male_count.values()) + sum(sc_male_count.values())"
   ]
  },
  {
   "cell_type": "code",
   "execution_count": 31,
   "metadata": {},
   "outputs": [
    {
     "data": {
      "text/plain": [
       "0.31932773109243695"
      ]
     },
     "execution_count": 31,
     "metadata": {},
     "output_type": "execute_result"
    }
   ],
   "source": [
    "114 / (114 + 243)"
   ]
  },
  {
   "cell_type": "markdown",
   "metadata": {},
   "source": [
    "#### Now we can link to the summary information from the excel spreedsheet:"
   ]
  },
  {
   "cell_type": "code",
   "execution_count": 33,
   "metadata": {},
   "outputs": [],
   "source": [
    "df = df.merge(\n",
    "    labels[['Title', 'Author', 'Protagonist Gender', 'Protagonist Human/ Non-human', 'Secondary Character Gender', 'SC Human/Non Human']],\n",
    "    on='Title',\n",
    "    how='left'\n",
    ")"
   ]
  },
  {
   "cell_type": "code",
   "execution_count": 34,
   "metadata": {},
   "outputs": [
    {
     "data": {
      "text/html": [
       "<div>\n",
       "<style scoped>\n",
       "    .dataframe tbody tr th:only-of-type {\n",
       "        vertical-align: middle;\n",
       "    }\n",
       "\n",
       "    .dataframe tbody tr th {\n",
       "        vertical-align: top;\n",
       "    }\n",
       "\n",
       "    .dataframe thead th {\n",
       "        text-align: right;\n",
       "    }\n",
       "</style>\n",
       "<table border=\"1\" class=\"dataframe\">\n",
       "  <thead>\n",
       "    <tr style=\"text-align: right;\">\n",
       "      <th></th>\n",
       "      <th>Title</th>\n",
       "      <th>Text</th>\n",
       "      <th>Author</th>\n",
       "      <th>Protagonist Gender</th>\n",
       "      <th>Protagonist Human/ Non-human</th>\n",
       "      <th>Secondary Character Gender</th>\n",
       "      <th>SC Human/Non Human</th>\n",
       "    </tr>\n",
       "  </thead>\n",
       "  <tbody>\n",
       "    <tr>\n",
       "      <th>0</th>\n",
       "      <td>The Gruffalo</td>\n",
       "      <td>\\nA mouse took a stroll through the deep dark ...</td>\n",
       "      <td>Julia Donaldson</td>\n",
       "      <td>M</td>\n",
       "      <td>NH</td>\n",
       "      <td>M/M/M/M</td>\n",
       "      <td>NH</td>\n",
       "    </tr>\n",
       "    <tr>\n",
       "      <th>1</th>\n",
       "      <td>Peace at Last</td>\n",
       "      <td>\\n \\nThe hour was late. \\n \\nMr Bear was tired...</td>\n",
       "      <td>Jill Murphy</td>\n",
       "      <td>M</td>\n",
       "      <td>NH</td>\n",
       "      <td>F/M</td>\n",
       "      <td>NH</td>\n",
       "    </tr>\n",
       "    <tr>\n",
       "      <th>2</th>\n",
       "      <td>Kipper's Toybox</td>\n",
       "      <td>\\nSomeone or something had been \\nnibbling a h...</td>\n",
       "      <td>Mick Inkpen</td>\n",
       "      <td>M</td>\n",
       "      <td>NH</td>\n",
       "      <td>M</td>\n",
       "      <td>NH</td>\n",
       "    </tr>\n",
       "    <tr>\n",
       "      <th>3</th>\n",
       "      <td>The Hungry Caterpillar</td>\n",
       "      <td>\\n \\nIn the light of the moon a little egg lay...</td>\n",
       "      <td>Eric Carle</td>\n",
       "      <td>M</td>\n",
       "      <td>NH</td>\n",
       "      <td>NaN</td>\n",
       "      <td>NaN</td>\n",
       "    </tr>\n",
       "    <tr>\n",
       "      <th>4</th>\n",
       "      <td>Harry and the Dinosaurs Go Wild</td>\n",
       "      <td>\\nIt was a long drive to the safari park but i...</td>\n",
       "      <td>Ian Whybrow and Adrian Reynolds</td>\n",
       "      <td>M</td>\n",
       "      <td>H</td>\n",
       "      <td>F/F/F/M</td>\n",
       "      <td>H</td>\n",
       "    </tr>\n",
       "    <tr>\n",
       "      <th>...</th>\n",
       "      <td>...</td>\n",
       "      <td>...</td>\n",
       "      <td>...</td>\n",
       "      <td>...</td>\n",
       "      <td>...</td>\n",
       "      <td>...</td>\n",
       "      <td>...</td>\n",
       "    </tr>\n",
       "    <tr>\n",
       "      <th>65</th>\n",
       "      <td>One Snowy Night</td>\n",
       "      <td>\\n \\nIt’s cold in the park in winter.\\n \\nBut ...</td>\n",
       "      <td>Nick Butterworth</td>\n",
       "      <td>M</td>\n",
       "      <td>H</td>\n",
       "      <td>NGS/NGS/M</td>\n",
       "      <td>NH</td>\n",
       "    </tr>\n",
       "    <tr>\n",
       "      <th>66</th>\n",
       "      <td>The Squirrels Who Squabbled</td>\n",
       "      <td>\\nIn a towering forest, where summer had been,...</td>\n",
       "      <td>Rachel Bright and Jim Field</td>\n",
       "      <td>M/M</td>\n",
       "      <td>NH</td>\n",
       "      <td>NaN</td>\n",
       "      <td>NaN</td>\n",
       "    </tr>\n",
       "    <tr>\n",
       "      <th>67</th>\n",
       "      <td>The Truth According to Arthur</td>\n",
       "      <td>\\nThis is\\n \\nArthur.\\n \\nAnd this is\\n \\nThe ...</td>\n",
       "      <td>Tim Hopgood</td>\n",
       "      <td>M</td>\n",
       "      <td>H</td>\n",
       "      <td>M/F/NGS/F</td>\n",
       "      <td>H</td>\n",
       "    </tr>\n",
       "    <tr>\n",
       "      <th>68</th>\n",
       "      <td>Monkey Puzzle</td>\n",
       "      <td>\\n \\n“I’ve lost my mum!”  \\n“Hush, little monk...</td>\n",
       "      <td>Julia Donaldson</td>\n",
       "      <td>NGS</td>\n",
       "      <td>NH</td>\n",
       "      <td>NGS</td>\n",
       "      <td>NH</td>\n",
       "    </tr>\n",
       "    <tr>\n",
       "      <th>69</th>\n",
       "      <td>Little Monkey</td>\n",
       "      <td>\\nMonkey loved living in the jungle. \\nThere w...</td>\n",
       "      <td>Marta Altes</td>\n",
       "      <td>F</td>\n",
       "      <td>NH</td>\n",
       "      <td>NaN</td>\n",
       "      <td>NaN</td>\n",
       "    </tr>\n",
       "  </tbody>\n",
       "</table>\n",
       "<p>70 rows × 7 columns</p>\n",
       "</div>"
      ],
      "text/plain": [
       "                              Title  \\\n",
       "0                      The Gruffalo   \n",
       "1                     Peace at Last   \n",
       "2                   Kipper's Toybox   \n",
       "3            The Hungry Caterpillar   \n",
       "4   Harry and the Dinosaurs Go Wild   \n",
       "..                              ...   \n",
       "65                  One Snowy Night   \n",
       "66      The Squirrels Who Squabbled   \n",
       "67    The Truth According to Arthur   \n",
       "68                    Monkey Puzzle   \n",
       "69                    Little Monkey   \n",
       "\n",
       "                                                 Text  \\\n",
       "0   \\nA mouse took a stroll through the deep dark ...   \n",
       "1   \\n \\nThe hour was late. \\n \\nMr Bear was tired...   \n",
       "2   \\nSomeone or something had been \\nnibbling a h...   \n",
       "3   \\n \\nIn the light of the moon a little egg lay...   \n",
       "4   \\nIt was a long drive to the safari park but i...   \n",
       "..                                                ...   \n",
       "65  \\n \\nIt’s cold in the park in winter.\\n \\nBut ...   \n",
       "66  \\nIn a towering forest, where summer had been,...   \n",
       "67  \\nThis is\\n \\nArthur.\\n \\nAnd this is\\n \\nThe ...   \n",
       "68  \\n \\n“I’ve lost my mum!”  \\n“Hush, little monk...   \n",
       "69  \\nMonkey loved living in the jungle. \\nThere w...   \n",
       "\n",
       "                             Author Protagonist Gender  \\\n",
       "0                   Julia Donaldson                  M   \n",
       "1                       Jill Murphy                  M   \n",
       "2                       Mick Inkpen                M     \n",
       "3                        Eric Carle                  M   \n",
       "4   Ian Whybrow and Adrian Reynolds                  M   \n",
       "..                              ...                ...   \n",
       "65                 Nick Butterworth                  M   \n",
       "66      Rachel Bright and Jim Field                M/M   \n",
       "67                      Tim Hopgood                  M   \n",
       "68                  Julia Donaldson                NGS   \n",
       "69                      Marta Altes                  F   \n",
       "\n",
       "   Protagonist Human/ Non-human Secondary Character Gender SC Human/Non Human  \n",
       "0                            NH                    M/M/M/M                 NH  \n",
       "1                            NH                        F/M                 NH  \n",
       "2                            NH                          M                 NH  \n",
       "3                            NH                        NaN                NaN  \n",
       "4                             H                    F/F/F/M                  H  \n",
       "..                          ...                        ...                ...  \n",
       "65                            H                  NGS/NGS/M                 NH  \n",
       "66                           NH                        NaN                NaN  \n",
       "67                            H                  M/F/NGS/F                  H  \n",
       "68                           NH                        NGS                 NH  \n",
       "69                           NH                        NaN                NaN  \n",
       "\n",
       "[70 rows x 7 columns]"
      ]
     },
     "execution_count": 34,
     "metadata": {},
     "output_type": "execute_result"
    }
   ],
   "source": [
    "df"
   ]
  },
  {
   "cell_type": "markdown",
   "metadata": {},
   "source": [
    "#### We can now try extracting some features from the text:\n",
    "\n",
    "Note: see example here https://kavita-ganesan.com/tfidftransformer-tfidfvectorizer-usage-differences/"
   ]
  },
  {
   "cell_type": "code",
   "execution_count": 35,
   "metadata": {},
   "outputs": [],
   "source": [
    "import nltk\n",
    "from nltk.stem import WordNetLemmatizer\n",
    "nltk.download('stopwords', quiet=True)\n",
    "nltk.download('wordnet', quiet=True)\n",
    "from nltk.corpus import stopwords\n",
    "\n",
    "import re"
   ]
  },
  {
   "cell_type": "code",
   "execution_count": 36,
   "metadata": {},
   "outputs": [],
   "source": [
    "from sklearn.feature_extraction.text import CountVectorizer\n",
    "from sklearn.feature_extraction.text import TfidfTransformer\n",
    "from sklearn.feature_extraction.text import TfidfVectorizer"
   ]
  },
  {
   "cell_type": "code",
   "execution_count": 37,
   "metadata": {},
   "outputs": [],
   "source": [
    "stemmer = WordNetLemmatizer()"
   ]
  },
  {
   "cell_type": "code",
   "execution_count": 38,
   "metadata": {},
   "outputs": [],
   "source": [
    "X,y = df.Text, df['Protagonist Gender']"
   ]
  },
  {
   "cell_type": "code",
   "execution_count": 39,
   "metadata": {},
   "outputs": [],
   "source": [
    "def lemmatize_text(text, stemmer, remove_nan=False):\n",
    "\n",
    "    documents = []\n",
    "\n",
    "    for sen in range(0, len(text)):\n",
    "\n",
    "        # Remove all the special characters\n",
    "        document = re.sub(r'\\W', ' ', str(text.iloc[sen]))\n",
    "\n",
    "        # remove all single characters\n",
    "        document = re.sub(r'\\s+[a-zA-Z]\\s+', ' ', document)\n",
    "        # document = re.sub(r'\\s+[a-zA-Z]\\s+', ' ', str(X[sen]))\n",
    "\n",
    "        # Remove single characters from the start\n",
    "        document = re.sub(r'\\^[a-zA-Z]\\s+', ' ', document)\n",
    "\n",
    "        # Substituting multiple spaces with single space\n",
    "        document = re.sub(r'\\s+', ' ', document, flags=re.I)\n",
    "\n",
    "        # Removing prefixed 'b'\n",
    "        document = re.sub(r'^b\\s+', '', document)\n",
    "\n",
    "        # Converting to Lowercase\n",
    "        document = document.lower()\n",
    "\n",
    "        if remove_nan:\n",
    "            document = re.sub('nan', '', document)\n",
    "\n",
    "        # Lemmatization\n",
    "        document = document.split()\n",
    "\n",
    "        document = [stemmer.lemmatize(word) for word in document]\n",
    "        document = ' '.join(document)\n",
    "\n",
    "        documents.append(document)\n",
    "\n",
    "    return documents"
   ]
  },
  {
   "cell_type": "code",
   "execution_count": 40,
   "metadata": {},
   "outputs": [],
   "source": [
    "documents = lemmatize_text(X, stemmer)"
   ]
  },
  {
   "cell_type": "code",
   "execution_count": 41,
   "metadata": {},
   "outputs": [],
   "source": [
    "vectorizer = TfidfVectorizer()"
   ]
  },
  {
   "cell_type": "code",
   "execution_count": 42,
   "metadata": {},
   "outputs": [],
   "source": [
    "X_tfidf = vectorizer.fit_transform(documents)"
   ]
  },
  {
   "cell_type": "code",
   "execution_count": 43,
   "metadata": {},
   "outputs": [],
   "source": [
    "# dfidf = pd.DataFrame(X_tfidf[0].T.todense(), index=vectorizer.get_feature_names(), columns=[\"tfidf\"])\n",
    "# dfidf.sort_values(by=[\"tfidf\"],ascending=False)"
   ]
  },
  {
   "cell_type": "code",
   "execution_count": 44,
   "metadata": {},
   "outputs": [],
   "source": [
    "dfidf = pd.DataFrame(X_tfidf.T.todense(), index=vectorizer.get_feature_names(), columns=df.Title)"
   ]
  },
  {
   "cell_type": "code",
   "execution_count": 45,
   "metadata": {},
   "outputs": [
    {
     "data": {
      "text/html": [
       "<div>\n",
       "<style scoped>\n",
       "    .dataframe tbody tr th:only-of-type {\n",
       "        vertical-align: middle;\n",
       "    }\n",
       "\n",
       "    .dataframe tbody tr th {\n",
       "        vertical-align: top;\n",
       "    }\n",
       "\n",
       "    .dataframe thead th {\n",
       "        text-align: right;\n",
       "    }\n",
       "</style>\n",
       "<table border=\"1\" class=\"dataframe\">\n",
       "  <thead>\n",
       "    <tr style=\"text-align: right;\">\n",
       "      <th>Title</th>\n",
       "      <th>The Gruffalo</th>\n",
       "      <th>Peace at Last</th>\n",
       "      <th>Kipper's Toybox</th>\n",
       "      <th>The Hungry Caterpillar</th>\n",
       "      <th>Harry and the Dinosaurs Go Wild</th>\n",
       "      <th>Open Very Carefully, A Book With Bite!</th>\n",
       "      <th>Tabby McTat</th>\n",
       "      <th>Harry and the Dinosaurs at the Museum</th>\n",
       "      <th>The Hedgehog's Balloon</th>\n",
       "      <th>Jasper's Jungle Journey</th>\n",
       "      <th>...</th>\n",
       "      <th>We're Going On A Lion Hunt</th>\n",
       "      <th>The Wheels on the Bus</th>\n",
       "      <th>Where's My Teddy</th>\n",
       "      <th>The Gruffalo's Child</th>\n",
       "      <th>Elephant Learns to Share</th>\n",
       "      <th>One Snowy Night</th>\n",
       "      <th>The Squirrels Who Squabbled</th>\n",
       "      <th>The Truth According to Arthur</th>\n",
       "      <th>Monkey Puzzle</th>\n",
       "      <th>Little Monkey</th>\n",
       "    </tr>\n",
       "  </thead>\n",
       "  <tbody>\n",
       "    <tr>\n",
       "      <th>gruffalo</th>\n",
       "      <td>0.657472</td>\n",
       "      <td>0.000000</td>\n",
       "      <td>0.000000</td>\n",
       "      <td>0.000000</td>\n",
       "      <td>0.000000</td>\n",
       "      <td>0.000000</td>\n",
       "      <td>0.000000</td>\n",
       "      <td>0.000000</td>\n",
       "      <td>0.000000</td>\n",
       "      <td>0.000000</td>\n",
       "      <td>...</td>\n",
       "      <td>0.000000</td>\n",
       "      <td>0.000000</td>\n",
       "      <td>0.000000</td>\n",
       "      <td>0.544317</td>\n",
       "      <td>0.000000</td>\n",
       "      <td>0.000000</td>\n",
       "      <td>0.000000</td>\n",
       "      <td>0.000000</td>\n",
       "      <td>0.000000</td>\n",
       "      <td>0.000000</td>\n",
       "    </tr>\n",
       "    <tr>\n",
       "      <th>mouse</th>\n",
       "      <td>0.352492</td>\n",
       "      <td>0.000000</td>\n",
       "      <td>0.083793</td>\n",
       "      <td>0.000000</td>\n",
       "      <td>0.000000</td>\n",
       "      <td>0.000000</td>\n",
       "      <td>0.000000</td>\n",
       "      <td>0.000000</td>\n",
       "      <td>0.144649</td>\n",
       "      <td>0.000000</td>\n",
       "      <td>...</td>\n",
       "      <td>0.000000</td>\n",
       "      <td>0.000000</td>\n",
       "      <td>0.000000</td>\n",
       "      <td>0.244124</td>\n",
       "      <td>0.000000</td>\n",
       "      <td>0.062737</td>\n",
       "      <td>0.000000</td>\n",
       "      <td>0.000000</td>\n",
       "      <td>0.000000</td>\n",
       "      <td>0.000000</td>\n",
       "    </tr>\n",
       "    <tr>\n",
       "      <th>the</th>\n",
       "      <td>0.218404</td>\n",
       "      <td>0.205833</td>\n",
       "      <td>0.129795</td>\n",
       "      <td>0.114371</td>\n",
       "      <td>0.222801</td>\n",
       "      <td>0.136836</td>\n",
       "      <td>0.291237</td>\n",
       "      <td>0.225118</td>\n",
       "      <td>0.256070</td>\n",
       "      <td>0.113352</td>\n",
       "      <td>...</td>\n",
       "      <td>0.066297</td>\n",
       "      <td>0.338085</td>\n",
       "      <td>0.162486</td>\n",
       "      <td>0.383190</td>\n",
       "      <td>0.162489</td>\n",
       "      <td>0.369282</td>\n",
       "      <td>0.247879</td>\n",
       "      <td>0.124086</td>\n",
       "      <td>0.096618</td>\n",
       "      <td>0.309375</td>\n",
       "    </tr>\n",
       "    <tr>\n",
       "      <th>snake</th>\n",
       "      <td>0.155981</td>\n",
       "      <td>0.000000</td>\n",
       "      <td>0.053559</td>\n",
       "      <td>0.000000</td>\n",
       "      <td>0.000000</td>\n",
       "      <td>0.000000</td>\n",
       "      <td>0.000000</td>\n",
       "      <td>0.000000</td>\n",
       "      <td>0.000000</td>\n",
       "      <td>0.058467</td>\n",
       "      <td>...</td>\n",
       "      <td>0.000000</td>\n",
       "      <td>0.000000</td>\n",
       "      <td>0.000000</td>\n",
       "      <td>0.020805</td>\n",
       "      <td>0.000000</td>\n",
       "      <td>0.000000</td>\n",
       "      <td>0.000000</td>\n",
       "      <td>0.000000</td>\n",
       "      <td>0.029902</td>\n",
       "      <td>0.000000</td>\n",
       "    </tr>\n",
       "    <tr>\n",
       "      <th>and</th>\n",
       "      <td>0.153349</td>\n",
       "      <td>0.113866</td>\n",
       "      <td>0.078982</td>\n",
       "      <td>0.099424</td>\n",
       "      <td>0.069527</td>\n",
       "      <td>0.092519</td>\n",
       "      <td>0.437375</td>\n",
       "      <td>0.125966</td>\n",
       "      <td>0.121196</td>\n",
       "      <td>0.076641</td>\n",
       "      <td>...</td>\n",
       "      <td>0.000000</td>\n",
       "      <td>0.041146</td>\n",
       "      <td>0.214230</td>\n",
       "      <td>0.149997</td>\n",
       "      <td>0.129482</td>\n",
       "      <td>0.164265</td>\n",
       "      <td>0.234060</td>\n",
       "      <td>0.086520</td>\n",
       "      <td>0.146984</td>\n",
       "      <td>0.199669</td>\n",
       "    </tr>\n",
       "    <tr>\n",
       "      <th>...</th>\n",
       "      <td>...</td>\n",
       "      <td>...</td>\n",
       "      <td>...</td>\n",
       "      <td>...</td>\n",
       "      <td>...</td>\n",
       "      <td>...</td>\n",
       "      <td>...</td>\n",
       "      <td>...</td>\n",
       "      <td>...</td>\n",
       "      <td>...</td>\n",
       "      <td>...</td>\n",
       "      <td>...</td>\n",
       "      <td>...</td>\n",
       "      <td>...</td>\n",
       "      <td>...</td>\n",
       "      <td>...</td>\n",
       "      <td>...</td>\n",
       "      <td>...</td>\n",
       "      <td>...</td>\n",
       "      <td>...</td>\n",
       "      <td>...</td>\n",
       "    </tr>\n",
       "    <tr>\n",
       "      <th>gleamed</th>\n",
       "      <td>0.000000</td>\n",
       "      <td>0.000000</td>\n",
       "      <td>0.000000</td>\n",
       "      <td>0.000000</td>\n",
       "      <td>0.000000</td>\n",
       "      <td>0.000000</td>\n",
       "      <td>0.000000</td>\n",
       "      <td>0.000000</td>\n",
       "      <td>0.000000</td>\n",
       "      <td>0.000000</td>\n",
       "      <td>...</td>\n",
       "      <td>0.000000</td>\n",
       "      <td>0.000000</td>\n",
       "      <td>0.000000</td>\n",
       "      <td>0.029866</td>\n",
       "      <td>0.000000</td>\n",
       "      <td>0.000000</td>\n",
       "      <td>0.000000</td>\n",
       "      <td>0.000000</td>\n",
       "      <td>0.000000</td>\n",
       "      <td>0.000000</td>\n",
       "    </tr>\n",
       "    <tr>\n",
       "      <th>gleaming</th>\n",
       "      <td>0.000000</td>\n",
       "      <td>0.000000</td>\n",
       "      <td>0.000000</td>\n",
       "      <td>0.000000</td>\n",
       "      <td>0.000000</td>\n",
       "      <td>0.000000</td>\n",
       "      <td>0.000000</td>\n",
       "      <td>0.000000</td>\n",
       "      <td>0.000000</td>\n",
       "      <td>0.000000</td>\n",
       "      <td>...</td>\n",
       "      <td>0.000000</td>\n",
       "      <td>0.000000</td>\n",
       "      <td>0.000000</td>\n",
       "      <td>0.000000</td>\n",
       "      <td>0.000000</td>\n",
       "      <td>0.000000</td>\n",
       "      <td>0.000000</td>\n",
       "      <td>0.000000</td>\n",
       "      <td>0.000000</td>\n",
       "      <td>0.000000</td>\n",
       "    </tr>\n",
       "    <tr>\n",
       "      <th>glee</th>\n",
       "      <td>0.000000</td>\n",
       "      <td>0.000000</td>\n",
       "      <td>0.000000</td>\n",
       "      <td>0.000000</td>\n",
       "      <td>0.000000</td>\n",
       "      <td>0.000000</td>\n",
       "      <td>0.000000</td>\n",
       "      <td>0.000000</td>\n",
       "      <td>0.000000</td>\n",
       "      <td>0.000000</td>\n",
       "      <td>...</td>\n",
       "      <td>0.000000</td>\n",
       "      <td>0.000000</td>\n",
       "      <td>0.000000</td>\n",
       "      <td>0.000000</td>\n",
       "      <td>0.000000</td>\n",
       "      <td>0.000000</td>\n",
       "      <td>0.000000</td>\n",
       "      <td>0.000000</td>\n",
       "      <td>0.000000</td>\n",
       "      <td>0.000000</td>\n",
       "    </tr>\n",
       "    <tr>\n",
       "      <th>glided</th>\n",
       "      <td>0.000000</td>\n",
       "      <td>0.000000</td>\n",
       "      <td>0.000000</td>\n",
       "      <td>0.000000</td>\n",
       "      <td>0.000000</td>\n",
       "      <td>0.000000</td>\n",
       "      <td>0.000000</td>\n",
       "      <td>0.000000</td>\n",
       "      <td>0.000000</td>\n",
       "      <td>0.000000</td>\n",
       "      <td>...</td>\n",
       "      <td>0.000000</td>\n",
       "      <td>0.000000</td>\n",
       "      <td>0.000000</td>\n",
       "      <td>0.000000</td>\n",
       "      <td>0.000000</td>\n",
       "      <td>0.000000</td>\n",
       "      <td>0.000000</td>\n",
       "      <td>0.000000</td>\n",
       "      <td>0.000000</td>\n",
       "      <td>0.000000</td>\n",
       "    </tr>\n",
       "    <tr>\n",
       "      <th>zpg</th>\n",
       "      <td>0.000000</td>\n",
       "      <td>0.000000</td>\n",
       "      <td>0.000000</td>\n",
       "      <td>0.000000</td>\n",
       "      <td>0.000000</td>\n",
       "      <td>0.000000</td>\n",
       "      <td>0.000000</td>\n",
       "      <td>0.000000</td>\n",
       "      <td>0.000000</td>\n",
       "      <td>0.000000</td>\n",
       "      <td>...</td>\n",
       "      <td>0.000000</td>\n",
       "      <td>0.000000</td>\n",
       "      <td>0.000000</td>\n",
       "      <td>0.000000</td>\n",
       "      <td>0.000000</td>\n",
       "      <td>0.000000</td>\n",
       "      <td>0.000000</td>\n",
       "      <td>0.000000</td>\n",
       "      <td>0.000000</td>\n",
       "      <td>0.000000</td>\n",
       "    </tr>\n",
       "  </tbody>\n",
       "</table>\n",
       "<p>3967 rows × 70 columns</p>\n",
       "</div>"
      ],
      "text/plain": [
       "Title     The Gruffalo  Peace at Last  Kipper's Toybox  \\\n",
       "gruffalo      0.657472       0.000000         0.000000   \n",
       "mouse         0.352492       0.000000         0.083793   \n",
       "the           0.218404       0.205833         0.129795   \n",
       "snake         0.155981       0.000000         0.053559   \n",
       "and           0.153349       0.113866         0.078982   \n",
       "...                ...            ...              ...   \n",
       "gleamed       0.000000       0.000000         0.000000   \n",
       "gleaming      0.000000       0.000000         0.000000   \n",
       "glee          0.000000       0.000000         0.000000   \n",
       "glided        0.000000       0.000000         0.000000   \n",
       "zpg           0.000000       0.000000         0.000000   \n",
       "\n",
       "Title     The Hungry Caterpillar  Harry and the Dinosaurs Go Wild  \\\n",
       "gruffalo                0.000000                         0.000000   \n",
       "mouse                   0.000000                         0.000000   \n",
       "the                     0.114371                         0.222801   \n",
       "snake                   0.000000                         0.000000   \n",
       "and                     0.099424                         0.069527   \n",
       "...                          ...                              ...   \n",
       "gleamed                 0.000000                         0.000000   \n",
       "gleaming                0.000000                         0.000000   \n",
       "glee                    0.000000                         0.000000   \n",
       "glided                  0.000000                         0.000000   \n",
       "zpg                     0.000000                         0.000000   \n",
       "\n",
       "Title     Open Very Carefully, A Book With Bite!  Tabby McTat  \\\n",
       "gruffalo                                0.000000     0.000000   \n",
       "mouse                                   0.000000     0.000000   \n",
       "the                                     0.136836     0.291237   \n",
       "snake                                   0.000000     0.000000   \n",
       "and                                     0.092519     0.437375   \n",
       "...                                          ...          ...   \n",
       "gleamed                                 0.000000     0.000000   \n",
       "gleaming                                0.000000     0.000000   \n",
       "glee                                    0.000000     0.000000   \n",
       "glided                                  0.000000     0.000000   \n",
       "zpg                                     0.000000     0.000000   \n",
       "\n",
       "Title     Harry and the Dinosaurs at the Museum  The Hedgehog's Balloon  \\\n",
       "gruffalo                               0.000000                0.000000   \n",
       "mouse                                  0.000000                0.144649   \n",
       "the                                    0.225118                0.256070   \n",
       "snake                                  0.000000                0.000000   \n",
       "and                                    0.125966                0.121196   \n",
       "...                                         ...                     ...   \n",
       "gleamed                                0.000000                0.000000   \n",
       "gleaming                               0.000000                0.000000   \n",
       "glee                                   0.000000                0.000000   \n",
       "glided                                 0.000000                0.000000   \n",
       "zpg                                    0.000000                0.000000   \n",
       "\n",
       "Title     Jasper's Jungle Journey  ...  We're Going On A Lion Hunt  \\\n",
       "gruffalo                 0.000000  ...                    0.000000   \n",
       "mouse                    0.000000  ...                    0.000000   \n",
       "the                      0.113352  ...                    0.066297   \n",
       "snake                    0.058467  ...                    0.000000   \n",
       "and                      0.076641  ...                    0.000000   \n",
       "...                           ...  ...                         ...   \n",
       "gleamed                  0.000000  ...                    0.000000   \n",
       "gleaming                 0.000000  ...                    0.000000   \n",
       "glee                     0.000000  ...                    0.000000   \n",
       "glided                   0.000000  ...                    0.000000   \n",
       "zpg                      0.000000  ...                    0.000000   \n",
       "\n",
       "Title     The Wheels on the Bus  Where's My Teddy  The Gruffalo's Child  \\\n",
       "gruffalo               0.000000          0.000000              0.544317   \n",
       "mouse                  0.000000          0.000000              0.244124   \n",
       "the                    0.338085          0.162486              0.383190   \n",
       "snake                  0.000000          0.000000              0.020805   \n",
       "and                    0.041146          0.214230              0.149997   \n",
       "...                         ...               ...                   ...   \n",
       "gleamed                0.000000          0.000000              0.029866   \n",
       "gleaming               0.000000          0.000000              0.000000   \n",
       "glee                   0.000000          0.000000              0.000000   \n",
       "glided                 0.000000          0.000000              0.000000   \n",
       "zpg                    0.000000          0.000000              0.000000   \n",
       "\n",
       "Title     Elephant Learns to Share  One Snowy Night  \\\n",
       "gruffalo                  0.000000         0.000000   \n",
       "mouse                     0.000000         0.062737   \n",
       "the                       0.162489         0.369282   \n",
       "snake                     0.000000         0.000000   \n",
       "and                       0.129482         0.164265   \n",
       "...                            ...              ...   \n",
       "gleamed                   0.000000         0.000000   \n",
       "gleaming                  0.000000         0.000000   \n",
       "glee                      0.000000         0.000000   \n",
       "glided                    0.000000         0.000000   \n",
       "zpg                       0.000000         0.000000   \n",
       "\n",
       "Title     The Squirrels Who Squabbled  The Truth According to Arthur  \\\n",
       "gruffalo                     0.000000                       0.000000   \n",
       "mouse                        0.000000                       0.000000   \n",
       "the                          0.247879                       0.124086   \n",
       "snake                        0.000000                       0.000000   \n",
       "and                          0.234060                       0.086520   \n",
       "...                               ...                            ...   \n",
       "gleamed                      0.000000                       0.000000   \n",
       "gleaming                     0.000000                       0.000000   \n",
       "glee                         0.000000                       0.000000   \n",
       "glided                       0.000000                       0.000000   \n",
       "zpg                          0.000000                       0.000000   \n",
       "\n",
       "Title     Monkey Puzzle  Little Monkey  \n",
       "gruffalo       0.000000       0.000000  \n",
       "mouse          0.000000       0.000000  \n",
       "the            0.096618       0.309375  \n",
       "snake          0.029902       0.000000  \n",
       "and            0.146984       0.199669  \n",
       "...                 ...            ...  \n",
       "gleamed        0.000000       0.000000  \n",
       "gleaming       0.000000       0.000000  \n",
       "glee           0.000000       0.000000  \n",
       "glided         0.000000       0.000000  \n",
       "zpg            0.000000       0.000000  \n",
       "\n",
       "[3967 rows x 70 columns]"
      ]
     },
     "execution_count": 45,
     "metadata": {},
     "output_type": "execute_result"
    }
   ],
   "source": [
    "dfidf.sort_values(by=[\"The Gruffalo\"],ascending=False)"
   ]
  },
  {
   "cell_type": "markdown",
   "metadata": {},
   "source": [
    "#### Let's try visualising this data based on these features:"
   ]
  },
  {
   "cell_type": "code",
   "execution_count": 46,
   "metadata": {},
   "outputs": [],
   "source": [
    "from sklearn.manifold import TSNE"
   ]
  },
  {
   "cell_type": "code",
   "execution_count": 47,
   "metadata": {},
   "outputs": [],
   "source": [
    "X_embedded = TSNE(n_components=2).fit_transform(dfidf.T)"
   ]
  },
  {
   "cell_type": "markdown",
   "metadata": {},
   "source": [
    "Note: if you embed the transpose you see the book strucutre, which is interesting but probably not useful. "
   ]
  },
  {
   "cell_type": "markdown",
   "metadata": {},
   "source": [
    "#### Here we reduce the number of gender categories using the following mapping:"
   ]
  },
  {
   "cell_type": "code",
   "execution_count": 48,
   "metadata": {},
   "outputs": [
    {
     "data": {
      "text/plain": [
       "array(['M', 'M  ', 'F', 'M PLURAL ', 'M/M', 'F/M', 'NGS/NGS ', 'F/M/M',\n",
       "       'NGS SINGULAR AND PLURAL', 'M/NGS/NGS/NGS/NGS', 'NGS',\n",
       "       'NGS PLURAL', 'NGS MANY'], dtype=object)"
      ]
     },
     "execution_count": 48,
     "metadata": {},
     "output_type": "execute_result"
    }
   ],
   "source": [
    "gender_map = {\n",
    "    'M':'M',\n",
    "    'M  ':'M',\n",
    "    'M PLURAL ': 'M', \n",
    "    'M/M': 'M',\n",
    "    'F/M': 'B',\n",
    "    'F/M/M': 'B', \n",
    "    'NGS SINGULAR AND PLURAL': 'N',\n",
    "    'NGS': 'N', \n",
    "    'NGS/NGS ': 'N',\n",
    "    'NGS PLURAL': 'N', \n",
    "    'F': 'F', \n",
    "    'NGS MANY': 'N',\n",
    "    'M/NGS/NGS/NGS/NGS': 'N', # Not sure about this one \n",
    "    ' ': 'N', # Not sure about this one\n",
    "    'PLURAL NGS': 'N'\n",
    "}\n",
    "\n",
    "df['Protagonist Gender'].unique()"
   ]
  },
  {
   "cell_type": "code",
   "execution_count": 49,
   "metadata": {},
   "outputs": [
    {
     "data": {
      "text/html": [
       "<div>\n",
       "<style scoped>\n",
       "    .dataframe tbody tr th:only-of-type {\n",
       "        vertical-align: middle;\n",
       "    }\n",
       "\n",
       "    .dataframe tbody tr th {\n",
       "        vertical-align: top;\n",
       "    }\n",
       "\n",
       "    .dataframe thead th {\n",
       "        text-align: right;\n",
       "    }\n",
       "</style>\n",
       "<table border=\"1\" class=\"dataframe\">\n",
       "  <thead>\n",
       "    <tr style=\"text-align: right;\">\n",
       "      <th></th>\n",
       "      <th>Title</th>\n",
       "      <th>Text</th>\n",
       "      <th>Author</th>\n",
       "      <th>Protagonist Gender</th>\n",
       "      <th>Protagonist Human/ Non-human</th>\n",
       "      <th>Secondary Character Gender</th>\n",
       "      <th>SC Human/Non Human</th>\n",
       "    </tr>\n",
       "  </thead>\n",
       "  <tbody>\n",
       "  </tbody>\n",
       "</table>\n",
       "</div>"
      ],
      "text/plain": [
       "Empty DataFrame\n",
       "Columns: [Title, Text, Author, Protagonist Gender, Protagonist Human/ Non-human, Secondary Character Gender, SC Human/Non Human]\n",
       "Index: []"
      ]
     },
     "execution_count": 49,
     "metadata": {},
     "output_type": "execute_result"
    }
   ],
   "source": [
    "df.loc[df['Protagonist Gender']==' ']"
   ]
  },
  {
   "cell_type": "code",
   "execution_count": 50,
   "metadata": {},
   "outputs": [],
   "source": [
    "# colour_dict = {\n",
    "#     g: i\n",
    "#     for i,g in enumerate(df['Protagonist Gender'].unique())\n",
    "# }\n",
    "colour_dict = {\n",
    "    'F': 'b',\n",
    "    'M': 'g',\n",
    "    'N': 'k',\n",
    "    'B': 'c'\n",
    "}"
   ]
  },
  {
   "cell_type": "code",
   "execution_count": 51,
   "metadata": {},
   "outputs": [],
   "source": [
    "colours = [colour_dict[gender_map[g]] for g in df['Protagonist Gender']]"
   ]
  },
  {
   "cell_type": "code",
   "execution_count": 52,
   "metadata": {},
   "outputs": [
    {
     "data": {
      "image/png": "[encoded data removed]",
      "text/plain": [
       "<Figure size 432x288 with 1 Axes>"
      ]
     },
     "metadata": {
      "needs_background": "light"
     },
     "output_type": "display_data"
    }
   ],
   "source": [
    "plt.scatter(X_embedded[:,0], X_embedded[:,1], c=colours)\n",
    "plt.title('Feature space embedding of books');"
   ]
  },
  {
   "cell_type": "markdown",
   "metadata": {},
   "source": [
    "#### Now we try looking for bigrams in the text:"
   ]
  },
  {
   "cell_type": "code",
   "execution_count": 53,
   "metadata": {},
   "outputs": [],
   "source": [
    "from nltk.collocations import BigramCollocationFinder\n",
    "from nltk.metrics import BigramAssocMeasures"
   ]
  },
  {
   "cell_type": "code",
   "execution_count": 54,
   "metadata": {},
   "outputs": [],
   "source": [
    "all_text = ' '.join(documents)    "
   ]
  },
  {
   "cell_type": "code",
   "execution_count": 55,
   "metadata": {},
   "outputs": [],
   "source": [
    "finder = BigramCollocationFinder.from_words(all_text.split())\n",
    "#word_filter = lambda w1, w2: \"he\" in (w1, w2) or \"she\" in (w1, w2)\n",
    "word_filter = lambda w1, w2: w1 != \"he\" and w1 != \"she\"\n",
    "finder.apply_ngram_filter(word_filter)\n",
    "\n",
    "bigram_measures = nltk.collocations.BigramAssocMeasures()\n",
    "raw_freq_ranking = finder.nbest(bigram_measures.raw_freq, 20)"
   ]
  },
  {
   "cell_type": "code",
   "execution_count": 56,
   "metadata": {},
   "outputs": [
    {
     "data": {
      "text/plain": [
       "[('he', 'said'),\n",
       " ('he', 'wa'),\n",
       " ('she', 'said'),\n",
       " ('he', 'had'),\n",
       " ('he', 'could'),\n",
       " ('he', 'got'),\n",
       " ('he', 'did'),\n",
       " ('he', 'didn'),\n",
       " ('he', 'thought'),\n",
       " ('he', 'went'),\n",
       " ('she', 'wa'),\n",
       " ('he', 'took'),\n",
       " ('he', 'told'),\n",
       " ('he', 'would'),\n",
       " ('he', 'felt'),\n",
       " ('he', 'found'),\n",
       " ('he', 'see'),\n",
       " ('he', 'flew'),\n",
       " ('he', 'wanted'),\n",
       " ('he', 'called')]"
      ]
     },
     "execution_count": 56,
     "metadata": {},
     "output_type": "execute_result"
    }
   ],
   "source": [
    "raw_freq_ranking"
   ]
  },
  {
   "cell_type": "markdown",
   "metadata": {},
   "source": [
    "### Now we try training a word embedding:\n",
    "\n",
    "Note: spacy has default -PRON- lemma for pronouns. Repalce with original stirng?\n",
    "https://stackoverflow.com/questions/56966754/how-can-i-make-spacy-not-produce-the-pron-lemma"
   ]
  },
  {
   "cell_type": "code",
   "execution_count": 57,
   "metadata": {},
   "outputs": [],
   "source": [
    "import fasttext\n",
    "import spacy\n",
    "nlp = spacy.load('en_core_web_lg')"
   ]
  },
  {
   "cell_type": "code",
   "execution_count": 58,
   "metadata": {},
   "outputs": [
    {
     "data": {
      "text/plain": [
       "\"/home/rustybilges/Documents/Work/Research/gender/Gender in Children's Literature/text_pdfs\""
      ]
     },
     "execution_count": 58,
     "metadata": {},
     "output_type": "execute_result"
    }
   ],
   "source": [
    "os.getcwd()"
   ]
  },
  {
   "cell_type": "code",
   "execution_count": 59,
   "metadata": {},
   "outputs": [],
   "source": [
    "text_data = [' '.join(xi.replace('\\n', ' ').split()) for xi in X]\n",
    "text_data = '/n'.join(text_data)"
   ]
  },
  {
   "cell_type": "code",
   "execution_count": 60,
   "metadata": {},
   "outputs": [],
   "source": [
    "# Remove all the special characters\n",
    "document = re.sub(r'\\W', ' ', text_data)\n",
    "\n",
    "# remove all single characters\n",
    "document = re.sub(r'\\s+[a-zA-Z]\\s+', ' ', document)\n",
    "# document = re.sub(r'\\s+[a-zA-Z]\\s+', ' ', str(X[sen]))\n",
    "\n",
    "# Remove single characters from the start\n",
    "document = re.sub(r'\\^[a-zA-Z]\\s+', ' ', document)\n",
    "\n",
    "# Substituting multiple spaces with single space\n",
    "document = re.sub(r'\\s+', ' ', document, flags=re.I)\n",
    "\n",
    "# Removing prefixed 'b'\n",
    "document = re.sub(r'^b\\s+', '', document)\n",
    "\n",
    "# Converting to Lowercase\n",
    "document = document.lower()"
   ]
  },
  {
   "cell_type": "code",
   "execution_count": 61,
   "metadata": {},
   "outputs": [],
   "source": [
    "doc = nlp(document)"
   ]
  },
  {
   "cell_type": "code",
   "execution_count": 62,
   "metadata": {},
   "outputs": [],
   "source": [
    "text_data = ' '.join([token.lemma_ if token.lemma_!='-PRON-' else token.orth_ for token in doc])"
   ]
  },
  {
   "cell_type": "code",
   "execution_count": 63,
   "metadata": {},
   "outputs": [
    {
     "data": {
      "text/plain": [
       "'a mouse take stroll through the deep dark wood fox see the mouse and the mouse look good where be you go to little brown mouse come and have lunch in my underground house it terribly kind of you fox but no m go to have lunch with gruffalo gruffalo what a gruffalo gruffalo why didn you know he have terrible tusk and terrible claws and terrible tooth in his terrible jaw where be you meet him here by these rock and his favourite food be roast fox roast fox m off fox say goodbye little mouse and away he speed silly old fox doesn he know there no such thing as gruffalo on go the mouse through the deep dark wood an owl see the mouse and the mouse look good where be you go to little brown mouse come and have tea in my treetop house it frightfully nice of you owl hut no m go to have tea with gruffalo gruffalo what a gruffalo gruffalo why didn you know he have knobbly knee and turn out toe and poisonous wart at the end of his nose where be you meeti ng him here by this stream and his favourite food be owl ice cream owl ice cream toowhit toowhoo goodbye little mouse and away owl fly silly old owl doesn he know there no such thing as gruffalo on go the mouse through the deep dark wood snake see the mouse and the mouse look good where be you go to little brown mouse come for feast in my logpile house it wonderfully good of you snake but no m have feast with gruffalo gruffalo what a gruffalo gruffalo why didn you know his eye be orange his tongue be black he have purple prickle all over his back where be you me ete him here by this lake and his favourite food be scramble snake scramble snake it time hide goodbye little mouse and away snake slide silly old snake doesn he know there no such thing as gruffal oh but who be this creature with terrible claws and terrible tooth in his terrible jaw he have knobbly knee and turn out toe and poisonous wart at the end of his nose his eye be orange his tongue be black he have purple prickle all over his back oh help oh no it a gruffalo my favourite food the gruffalo say you will taste good on slice of bread good say the mouse don call me good m the scary creature in this wood just walk behind me and soon you will see everyone be afraid of me all right say the gruffalo burst ith laughter you go ahead and will follow after they walk and walk till the gruffalo say hear hiss in the leave ahead it snake say the mouse why snake hello snake take one look at the gruffalo oh crumb he say goodbye little mouse and off he slide to his logpile house you see say the mouse tell you so amazing say the gruffalo they wait some more till the gruffalo say hear hoot in the tree ahead it owl say the mouse why owl hello owl take one look at the gruffalo oh dear he say goodbye little mouse and off he fly to his treetop house you see say the mouse tell you so astounding say the gruffalo they walk some more till the gruffalo say can hear foot on the path ahead it fox say the mouse why fox hello fox tool one look at the gruffalo oh help he say goodbye little mouse and off he run to his underground house well gruffalo say the mouse you see everyone be afraid of me but now my tummy beginning to rumble my favourite food be gruffalo crumble gruffalo crumble the gruffalo say and quick as the wind he turn and flee all be quiet in the deep dark wood the mouse find nut and the nut be good nthe hour be late mr bear be tired mrs bear be tired and baby bear be tired so they all go to bed mrs bear fall asleep mr bear didn mrs bear begin to snore snore go mrs bear snore snore snore oh no say mr bear can stand this so he get up and go to sleep in baby bear room baby bear be not asleep either he be lie in bed pretend to be an aeroplane nyaaow go baby bear nyaaow nyaaow oh no say mr bear can stand this so he get up and go to sleep in the living room tick tock go the living room clock tick tock tick tock cuckoo cuckoo oh no say mr bear can stand this so he go off to sleep in the kitchen drip drip go the leaky kitchen tap hmmmmmmmmmmm go the refrigerator oh no say mr bear can stand this so he get up and go to sleep in the garden well you would not believe what noise there be in the garden at night too whit too whoo go the owl snuffle snuffle go the hedgehog miaaaow sing the cat on the wall oh no say mr bear can stand this so he go off to sleep in the car it be cold in the car and uncomfortable but mr bear be so tired that he didn notice he be just fall asleep when all the bird start to sing and the sun peep in at the window tweet tweet go the bird shine shine go the sun oh no say mr bear can stand this so he get up and go back into the house in the house baby bear be fast asleep and mrs bear have turn over and wasn snore any more mr bear get into bed and close his eye peace at last he say to himself brrrrrrrrrrrrrrr go the alarm clock brrrrrr mrs bear sit up and rub her eye good morning dear she say do you sleep well not very well dear yawn mr bear never mind say mrs bear will bring you nice cup of tea and she do nsomeone or something have be nibble hole in kipper toybox hope my toy be safe say kipper he empty them out and count them one two three four five six seven that wrong he say there should only be six _ _ _ _ _ _ _ kipper count his toy again this time he line them up to make it easy big owl one hippopotamus two sock thing three slipper four rabbit five mr snake six that well he say kipper put his toy back in the toybox then he count them one more time just to make sure one two three four five six seven eight nose that two too many nose say kipper kipper grab big owl and throw him out of the toybox one he say crossly out go hippopotamus two outwent rabbit three out go mr snake four outwent slipper five but where be six where be sock thing kipper be upset next to rabbit sock thing be his favourite now he be go win lose any more of you say kipper he pick up the rest of his toy and put them in his basket then he climb in and keep watch until bedtime that night kipper be wake by strange noise it be come from the corner of the room kipper turn on the light there wriggle across the floor be sock thing it must have be sock thing who have be eat his toybox kipper be not sure what to do none of his toy have ever come to life before he jump back in his basket and hide behind big owl sock thing wiggle slowly round in circle and bump into the basket then he begin to wriggle back the way he have come he do not seem to know where he be go kipper follow quickly kipper grab him by the nose sock thing squeak and wriggle hard then little tail appear little pink tail and little voice say don hurt him so it be you you have be make the hole in my toybox say kipper it be true the mice have be nibble piece of kipper toybox to make their nest you must promise not to nibble it again say kipper we promise say the mouse n lt in return kipper let the mouse share his basket it be much cosy than nest make of cardboard and the two little mouse never nibble kipper toybox again but their baby do they nibble everything nin the light of the moon little egg lie on leaf one sunday morning the wa rm sun come up and pop out of the egg come tiny and very hungry caterpillar he start to look for some foo on monday he eat through one apple but he be still hungry on tuesday he eat through two pear but he as still hungry on wednesday he eat through three plum but he be till hungry on thursday he eat through four strawberry but he be still hungry on friday he eat through five orange but he as still hungry on saturday he eat throu gh one piece of chocolate cake one ice cream cone one pickle one slice of swiss cheese one slice of salami one lollipop one piece of ch erry pie one sausage one cupcake and one slice of watermelon that night he have stomachache the next day be su nday again the caterpillar eat through one nice green leaf and after that he feel much well now he be t hungry any more and he wasn a little caterpillar any more he be big fat he build small house call cocoon around himself he stay inside for caterpillar more than two week then he nibble hole in the cocoon push his way out and he be b eautiful butterfly nit be long drive to the safari park but it be worth it apatosaurus see an animal just like triceratop that a rhinoceros say hany triceratops have get more horn mum like the giraffe good and nan like the zebra the monkey be funny but the man say not to feed them sam ask him if they have panda but the man say no they be endanger animal harry want to know what endanger mean sam say he be too little to understand nan help she buy harry book about endanger animal she think it be sad about the sumatran tiger people keep hunt them so there be only few leave in the whole world harry really want to help but he have no money want to save some animal he say what can do mum sam say tuh what waste of time she say he be mile too small to make any difference that why harry make her do smudge with her lipstick mum take harry off to settle down then they look on the internet and find lot of endanger animal mum say why not do poster harry could put it up in his window then maybe other people would help the animal too harry like that idea he get out his draw stuff straight away trouble be it be hard to know which animal to save first the dinosaur say raaaah we want to save some big animal 1 so they start draw tyrannosaurus do polar bear pterodactyl ask harry to help him do gorilla wait till ve finish my blue whale say harry blue whale be big than train big than dinosaur big than thirty two elephant stegosaurus do an army tank army tank don need save say triceratop do tree frog instead mum say the drawing be excellent she help put the word on lev save these endanger animal nan say why not talk to mr bopsom he may put up poster in his shop window then people can see the picture when they go shop mr bopsom love the picture but he think they may be bit too small for poster he ask harry if he could draw them big harry say no sorry his picture always come out small that a shame say mr bopsom because save animal be important poor harry he go home feeling maybe sam be right maybe you have to be big before you could be any use the very next day mr bopsom be on the phone ve have an idea he say can you do me lot more picture so harry and the dinosaur do more bird and bug and reptile and lot more dinosaur when harry go into the shop two week later he be amazed mr bopsom have make all the drawing into card he say that every time somebody buy card some of the money go to save endangered animal everybody love them they say marvellous what brilliant idea so original four card for me please the lady from the paper come and be very impressed what wonderful thing you ve do she say raahh say apatosaurus save the strawberry poison arrow frog raahh say pterodactyl save the teeny blue tongued skink and harry say quite right my dinosaur because even if you be as tiny as tick on the tail of green turtle you can still do something that make big difference endosaurus nonce upon time there be mother duck with three pretty duckling and one wait minute what that m try to read you the story of the ugly duckling but there something in this book that shouldn be here hang on where it go now perhaps it escape or could it be hide do you dare keep on look you do then let turn the page very very carefully it a crocodile really big scary one what he do in this book he may bite your finger or scratch your nose ve hear crocodile like to do that stay back just in case he on the move what be be do he eat letter the 1 think his favourite letter eat be and st mr cr dile u can eat the letter now he gobble up whole word and sentence we can have book without word what will we read if there aren any sentence we ve get to make him stop let try rock the book backwards and forwards that it look he nod off aaahh he sleep like baby know let find crayon if you re go to eat our word mr crocodile then we re go to draw on you ssshhh he not such scary crocodile now oh no maybe he be scary crocodile after all all that drawing have wake him up and he not look too happy about that tutu crocodile don do ballet watch out it look as if he have enough of this book think he go to make run for it here he go h 1 ouch well who would have think it be so hard to get out of book maybe if you shake the book he will fall out hmm that didn work either but look he work out what to do he munch hole through the page and he be nearly out goodbye mr crocodile wasn scare be you wonder where he will turn up next ntabby mctat be busker cat with miaow that be loud and strong the two of them sing of this and that and people throw coin in the old check hat and this be their favourite song me you and the old guitar how perfectly perfectly happy we be meee ew and the old guitar how purrrr fectly happy we be one morning while fred eat some bacon and bread mctat take stroll round the block then stop for there on doorstep sit gorgeously glossy and green eyed cat she be black with one snowy white sock sock and mctat have cat to cat chat and that how their story begin for while they be chat of this and of that thief have his eye on the old check hat he eye it he snatch it he run the lush give chase but he trip on lace and crash in flash he be down he break his leg and he bang his head and he end up in hospital bed in faraway part of town goodbye mctat say must get back to fred but where have the busker go the sun go down and the sky grow black the star come out hut he didn come hack mctat linger on and on week later sock take stroll round the block and find her new friend look thin he go off and leave me say tabby mctat then sock say my people prunella and pat would gladly find room for fine tabby cat she be right and they take mctat in next morning old fred leave his hospital bed and find his way back to the square but brass hand stand where the pair once sit and the hand play this and the band play that and fred look all round for his loud miaowed cat but tabby mctat wasn there now mctat have wife and very full life with plenty of thing to do like wash prunella and pounce on pat and hide the car key under the mat and keep the newspaper nice and flat and give the pen n occasional bat and nibble this and nibble that but he dream of his friend with the old check hat and always wake up with mew and often he say what happen to fred and his paw take him hack to the square but conjuror stand where the pair once sit and he pull out this and he pull out that and people throw coin in the tall black hat but the busker be never there one morning sock say look under the bed and see the three kitten ve have and soame look like this and susan like that and the little kitten call samuel sprat look exactly the same as his dad the three kitten grow and they learn how to mew and mctat sometimes sing them his song and samuel sprat with his tahhy grey fur have deafen miaow and very loud purr and he simply love singing along me you and the old guitar how perfectly perfectly happy we be meee ew and the old guitar how purrrr fectly happy we be when susan and soames find very good home their parent be happy and proud there be one home like this and another like that but nohody want poor samuel sprat they all say his voice be too loud now tabby mctat be home love cat but be couldn stop dream of fred and one day be call for his wife and his son and be tell them there something that have to be do must go and find him he say so up and down and all over town he wander whole week long for many morning and afternoon by the light of the sun and the light of the moon till he hear familiar song just me and the old guitar if have cat d be happy far just me and the old guitar with my cat d he happier far it tabby mctat it my long lose cat old fred be ecstatically glad then the two of them sing of this and that and people throw coin in the new check hat but why do mctat feel sad he be miss his wife and his comfortable life and the dozen of thing to do like wash prunella and pounce on pat and hide the car key under the mat and keep the newspaper nice and flat and give the pen an occasional bat but how could he tell the busker that then out from shadow sprang samuel sprat oh please let me be the busker cat he say with his deafen mew c now samuel sprat be the busker cat with miaow that be loud and strong the two of them sing of this and that though samuel sing just little bit flat and people throw coin in the old check hat 2 and this be their favourite song me you and the old guitar how perfectly perfectly happy we be meee ew and the old guitar how purrrr fectly happy we be nsam want mum to take her to the museum she have to study the romans for homework what be romans ask harry sam say they be our ancestor but he be too young to understand harry want to take the dinosaur to see them sam say no way she say harry would just get bored and silly that be why sam homework get smudge mum make them both settle down she say museum would be fine outing for everybody d love to go say nan the museum be big than hospital you have to have map on the way to the romans they pass the caveman be these ancestor ask harry mum say yes everybody in the world come from caveman they light fire and do hunt harry like the stone axis the dinosaur like the sabre toothed tiger raaah sharp tooth next stop be the egyptians they see mummy in box and funny writing like picture be egyptians ancestor ask harry yes but not the right one say sam we want the romans come on hurry up finally they reach the romans they have good sword and spear and helmet with brush on but what lot of old pot break one too sam start do draw we ve see the romans now say harry m hungry let go raaah anchisaurus pinch me say stegosaurus he take up all the room say anchisaurus behave say harry in loud voice look harry be be silly groan sam know it think the dinosaur need run about say harry mum say well not they may get lose come on let get something to eat she say afterwards we will come back here so sam can finish her study the cafeteria be very busy nan and harry and the dinosaur wait at table while mum and sam go to queue up look m caveman raaah say triceratops look m roman raaah say pterodactyl look m mummy raaah say tyrannosaurus after lunch everyone feel lot well and they set off back to the romans but it wasn long before anchisaurus get bore m bore too say tyrannosaurus never mind say harry it your turn to do study pay attention my dinosaur he teach them climb up display case then teach them slide on the slippery floor be how they get lose oh no where harry say mum quick let find the person in charge sam say harry be stupid bet he go off on bus she say nonsense say nan know where we will find him they follow nan to the prehistoric hall there he be say nan know it harry be still teach his dinosaur boy come from caveman and romans and egyptians he explain but these be your ancestor so tyrannosaurus say raaah to his ancestor so do apatosaurus and scelidosaur and triceratops and the rest of the bucketful of dinosaur all except pterodactyl who give his ancestor nose rub now young man say the person in charge we have well look for your mum could you tell me your name harry say his name address and telephone number no problem at all all the people say very good clever boy nan rush over he with us she call proudly harry say mum we think we lose you wasn lose say harry 1 be with my dinosaur and we be with our ancestor say the dinosaurs raaaah endosaurus npercy the park keeper look up from his work and gaze in wonder two red one blue one there a yellow one and another blue one percy be count balloon wonder where they re come from he say to himself somebody must have have party he put down his trowel and wipe his hand well if nobody want them he say think will help myself percy chase after the balloon as they float past him on the breeze it didn take him long to collect as many as he could carry he begin to walk back towards his hut whistle happily suddenly percy stop he could hear faint sound coin from tree stump nearby it be not happy sound someone cry say percy oh dear he let go of his balloon and hurry over to the stump sit on the tree stump and look very upset be hedgehog two mouse be do their good to comfort him goodness me say percy whatever be the matter it all these balloon say the hedgehog then in between sniff and sob he explain to percy how he have always love balloon the trouble be that he could never have them because they would always burst on his spine it just not fair and the hedgehog burst into tear again you poor thing say percy he try to put his arm around the hedgehog but take it away at once ouch he say then percy take one of his thick gardening glove out of his pocket and put it on the hedgehog nestle into his hand think everyone should be able to play with balloon say percy and that include hedgehog he put on the other glove and gently carry the hedgehog towards an old store shed the two mouse follow the mouse watch percy through the window he set the hedgehog down on workbench and then he take tin from shelf he open the lid what percy do say one of the mice what in that box don know say the other mouse can see properly the mice didn have to wait long to find out percy pick up the hedgehog and bring him outside there say percy good idea even if say so myself think those balloon will be safe now the mouse clap and the hedgehog beam he think how smart he must look wear his cork percy catch hold of bright yellow balloon here you be say percy as he hand it to the hedgehog your very first balloon the hedgehog take the balloon and with great big smile on his face he scamper off with the balloon float beside him another satisfied customer say percy feel pleased with himself percy turn to go back to his hut but suddenly there come loud bang oops say percy one of the cork must have come off it a good job we ve get plenty of balloon don worry percy call to the hedgehog m come njasper the little elephant have lose his teddy bear in the jungle first he search the tall green grass what do he see snake in coil bright as brass then behind twisted tree what do he see two chimp have chip and tea by some rough and rugged rock what do he see what do he see lion wear purple sock on the bank of reedy river what do he see croc with cold all shiver in the swampy slushy ooze what do he see hippo yawn before his snooze jasper on his search for bear what do he see giraffe without care by some tree all toss and tear what do he see rhino with an enormous horn in stripey shaded nook what do he see zebra read cookery book search for bear under the tree what do he see camel wear dungeree then he get fearful fright what do he see roar tiger what sight jasper run home and when he get there what do he see mum who have find his teddy bear nit be bright cold winter day snow have fall in the night and now everything in the park have be turn into guess game it look wonderful say percy the park keeper but it make lot of work stand next to percy be rather old and cross look rabbit well quite so say the rabbit but now what about these mouse they re make dreadful nuisance of themselves _ _ percy find it hard not to laugh when he see what be make the rabbit so cross the mouse be have great fun percy begin to chuckle but quickly turn the chuckle into cough after all this be no fun for an old rabbit who only want to curl up and sleep through the cold weather now come along you mouse say percy you must go and play somewhere else and he add try to stay out of mischief the mouse look very disappointed slowly they walk away drag their toboggan behind them the old rabbit say thank you to percy and then disappear into his burrow s percy get on with clear the snow it be hot work even in the cold weather first he take off his cap then his scarf and then even his glove percy work hard all morning he mop his brow again and look at his work very good he say to himself think deserve spot of lunch percy reach for his bag and pull out flask that funny he say m sure put the cup on the top this morning know will have mg yogurt first and drink from the empty carton percy take out strawberry yogurt and begin to rummage through his bag that odd he say no spoon hmm it be strange lunch lid be miss from small box of date and the bottom half of one of percy cheese roll have disappear and percy be sure he have pack an orange but there be no sign of it now it be all very puzzling it feel cold to percy as he go back to work he reach for his scarf and his cap but now they have disappear too this be most peculiar say percy then as he gaze around look for his cap and scarf percy be amazed to see his glove walk off by themselves must be dream say percy d like to be dream say cross voice it be the old rabbit again those mouse be make terrible noise would you speak to them please and with that the rabbit stump off percy follow look say the rabbit percy look the mice have be very busy indeed and they be have marvellous time hello percy they call but suddenly they look worried you re not go to tell us to stop be you percy glance at the old rabbit well no he say to the mice we just wonder if you could have marvellous time little more quietly the mouse cheer we will try they squeak loudly come on say percy to the rabbit think ve get some cotton wool in my bag little in each ear should do the trick nmum have her coat on but harry be be slow they be go to see mr drake the dentist harry be only bit scared that be because of sam show him her fill harry want to take his dinosaur but they be hide all over the place he call all their name he say get in the bucket my stegosaurus and out come stegosaurus from under the pillow he say get in the bucket my triceratops and out come triceratops from inside the drawer and one by one apatosaurus and scelidosaurus and anchisaurus all come out of their hiding place and they jump into the bucket all except for tyrannosaurus he didn want to go because he have lot of tooth he think mr drake may do drilling on them harry say don worry because when we get there shall press magic button on my bucket and that will make you grow big in the waiting room the nurse say hello harry be you good boy harry say be but my dinosaur bite mr drake call next please the nurse take harry into mr drake room harry wasn sure about the big chair he think maybe that be where mr drake do the drilling come and have ride in my chair say mr drake it go up and down harry didn want to ride would one of your dinosaur like go ask mr drake harry put tyrannosaurus on the chair he whisper to him not to worry then he press the magic button tyrannosaurus grow very big open wide say mr drake and then he turn around raaaahh say tyrannosaurus help cry mr drake hide behind the door harry what shall do harry press the magic button straight away tyrannosaurus go back to be bucket sized harry feel safe now about get into the chair so he climb in with his bucket then harry and his dinosaur all have ride together they open their mouth wide for mr drake and all go raaaahh mr drake say what lot of tooth will they bite me harry say they only bite drill you be all good brusher say mr drake so no drill today only look and rinse all the dinosaur like ride and they like rinse another bucket of mouthwash joan call mr drake go home mum let harry choose book from the library for be so good let have shark book say harry raaaahh say the dinosaur sharp tooth we like shark endosaurus nswallows and swift fly high above the head of percy the park keeper soon they would be off on their long winter holiday some bird have already go percy be think how nice it would be to join them but his thought be soon bring back down to earth percy look what we ve find just ahead of him squirrel friend and the mole be stand over heap of twig hello say percy that look like an old nest he pick it up shouldn think anyone live in it now then you be wrong say little voice small feathery head stick itself out from beneath the twig live in it and you re hold me upside down m so sorry say percy he turn the nest over thought you would have go with your friend and relation can fly say the little bird didn get the hang of it oh dear percy begin but he wasn allow to finish good morning it be the owl owl call percy can you help this little fellow can fly fly say the owl as she swoop overhead nothing to it she hoot as she go into an impressive spin just flap and go the owl shoot up into the air and out of sight almost at once she be back again fly just above their head you see she coo it easy look out shout percy thump the owl hit pine tree pine cone rain down on the squirrel and the mole follow by the owl in dazed and untidy heap well say percy think there a lesson for us all percy say the squirrel have you get any string percy feel in his pocket here a piece he say why do you want it the squirrel jump to his foot come on he say to the little bird will give you piggy back percy look puzzle as the squirrel begin to climb tree with very nervous passenger on his back he need to get use to height explain the squirrel when he reach the top the squirrel tie the string between two branch it a tightrope he say follow me balance carefully the squirrel step onto the string the little bird bravely follow hooray cheer the mole well do call percy we will have you take to the air in no time at that very moment with twang one of the squirrel knot come undone and the tightrope walker find themselves fall the squirrel manage to grab the end of the string the little bird didn as he look down he expect to see the ground rush towards him instead he see percy hold out his cap the little bird fall right into percy cap but so hard that he bounce straight out again oh no shout percy he go to fall into those thorn bush fly fly and as if he be do it all his life that just what the little bird do he fly away from the thorn up into the air and perch at the top of the tree don stop call the owl you can go after your friend and relation now the little bird look delighted will he call back thank you everybody and with that he be off over the tree top 1 don mention it say voice dangle from piece of string halfway up tree don mention it nthis be the story of very lazy ladybird she like to sleep all day and all night and because she sleep all day and all night this lazy ladybird didn know how to fly one day the lazy ladybird want to sleep somewhere else but what could she do if she couldn fly then the lazy ladybird have very good idea when kangaroo bound by she hop into her pouch but the kangaroo like to jump can sleep in here cry the lazy ladybird it far too bumpy so when tiger pad by she hop onto his back but the tiger like to roar can sleep here say the lazy ladybird it far too noisy so when crocodile swim by she hop onto his tail but the crocodile like to swish his tail in the water can sleep here say the lazy ladybird will fall into the river so when monkey swing by she hop onto her head but the monkey like to swing from branch to branch can sleep here say the lazy ladybird m feel dizzy so when bear amble by she hop onto his ear but the bear like to scratch can sleep here say the lazy ladybird he will never sit still so when tortoise plod by she hop onto her shell but the tortoise like to snooze in the sun can sleep here say the lazy ladybird it far too hot so when an elephant trundle by she hop onto his trunk at last thought lazy ladybird ve find someone who doesn jump or roar or swish his tail or scratch or swing or snooze but at that very moment the elephant sneeze aaachooo and poor old ladybird have to fly at last nthe first star be begin to show in the sky as percy the park keeper make his way home to his hut in the park he have be work hard all day and he be tired and hungry now he be look forward to his supper and good rest as percy plod on he see his friend the fox come up the path towards him the fox be on his way home too good night say percy as they pass each other good night hic percy answer the fox the fox have hiccup the fox have be drink some fizzy lemonade when squirrel tell him funny joke about parrot worm and cricket bat the fox explode with laughter it be then that he have learn that it be not good idea to laugh and drink at the same time he have have hiccup all afternoon wonder if hic percy know good cure for hic cup the fox say to himself th hic will ask him he say and with that he turn and follow after percy when he get back to his hut percy remember that he still have one or two job to do first he water some plant d better get my washing in too say percy then it two boil egg for me and pile of toast soldier the fox hurry on he wasn afraid of the dark he just like the light well that all but where be percy he run round the side of the hut but instead of find percy he find percy washing then with crash and tumble which hurt his foot he find pile of flower pot oooowww hic ooww wail the fox percy be surprised by the crash he stick his head round the corner but when percy see what have make the crash he quickly pull it back again it it a ghost he gasp percy have never meet ghost before he feel he should introduce himself but what should he say to ghost percy listen hard he could hear the ghost still moan and thump about suddenly there be another loud crash then silence percy be just begin to wonder if perhaps the ghost have disappear when there come another sound small sound it be not the sort of sound that percy expect to hear from ghost hie burp smile spread over percy face percy poke his head round the corner again this time what he see make him roar with laughter do you need any help mr ghost say percy still laugh yes please come muffle reply from inside the barrel could you possibly turn me the right way up percy help the fox back on to his foot you give me quite shock say percy give myself one say the fox but it seem to have cure my hiccup can go to the moon ask baby bear no you can say mrs bear it bathtime anyway you have to find rocket first baby bear find rocket in the cupboard under the stair he find space helmet on the drain board in the kitchen and pair of space boot on the mat by the front door he pack his teddy and some food for the journey and take off up the chimney whoosh out into the night an owl fly past that a smart rocket he say where be you off to the moon say baby bear would you like to come too yes please say the owl an aeroplane roar out of the cloud baby bear wave and some of the passenger wave back on and on they fly up and up above the cloud past million of star till at last they land on the moon there nobody here say baby bear there be no tree say the owl it a bit boring say baby bear shall we have picnic what good idea say the owl we well go say baby bear my bath must be ready by now off they go down and down the owl get out and fly away goodbye he say it be so nice to meet you it rain and the rain drip through baby bear helmet home go baby bear back down the chimney and on to the live room carpet with bump 1 mrs bear come into the room look at the state of you she gasp as she lead him away to the bathroom why you look as if you ve be up the chimney as matter of fact say baby bear have be up the chimney find rocket and go to visit the moon mrs bear laugh you and your story she say whatever next ndinosaur be all wipe out long way back in history no one know quite how or why now this book solve the mystery it all begin when caveman feel embarrassed in the nude so someone dream up underpant to stop them look rude the dinosaur roam everywhere all tooth and huge long neck but scary and mean be tyrannosaurus rex when rex see man knicker he roar with deafen rant don want to eat you up want your underpant rex pinch furry pair but his pant quickly rip he couldn get them past his foot oh whoops watch out he trip triceratops be happy wear pant on every horn till styracosaurus snatch them and they end up all tear the pant from woolly mammoth coat make stegosaurus itchy diplodocus be really cross his pant be far too titchy we ve too few knicker to go around the caveman quake in shock these dino be pant crazy they ve completely run amok soon pant be fly everywhere all slit by tooth and claw the dinosaur be fight in great pant tug of war the mighty pant war rage all night thump pow bash 1hwack clout the fighting get so crazy all the dino be wipe out the next day out the caveman creep and cheer at what they see hooray our big enemy be now at last no more so when you put your pant on always treat them with great care pant and knicker save mankind they re not just underwear nmadam dragon run school many moon ago she teach young dragon all the thing that dragon need to know zpg the big dragon be the keen est one by far he try his hard every day to win golden star all the dragon in year one be learn how to fly high say madam dragon way up in the sky now that you ve be show you can practise on your own and you will all be expert flier by the time you re fully grow zog go off to practis fly fast and free he soar and swoop and loop the loop then crash into tree just then little girl ca me by oh please don cry she say perhaps you like nice sticky plaster for your head what good idea say zog then up and off he fly his plaster gleam pinkly as he zigzag through the blue year go by and in year two the dragon lear ned to roar more say madam dragon louder implore now that you ve be show you can practise on your own and you will all be champion roarer by the time you re fully grow zog go off to practise he roar with fearsome force he keep it up for hour on end but then his throat grow hoarse just then the girl come by again she say what rotten luck perhaps you like nice soothing peppermint to suck what good idea say zog then up and off he fly and breathing fume of peppermint he zigzag through the blue year go by and in year three the dragon learn to blow no say madam dragon breathe out fire not snow now that you ve be show you can practis on your own and you will all be breathe bonfire by the time you re fully grow zog go off to practise he blow with all his might he twirl around in triumph and his wing tip catch alight just then the girl come by again she say you poor old th ing perhaps you like nice stretchy bandage for your wing what good idea say zog then up nd off he fly his bandage flap wildly as he zigzag through the blue all the year four dragon be learn an you guess yes say madam dragon how to capture princess now that you ve be show you can practise on your own you will need to capture hundred by the time you re fully grow zog go off to practise he try and try and try but he simply couldn manage m no good at this he cry will never win golden star just then he see the girl perhaps she say you like to capture met m princess pearl what good idea say zog then up and off hey fly the princess grip tightly as they zigzag through the blue ah say madam dragon our first princess so far congratulation zog my dear you ve win golden star zog be proud and happy and pearl feel good as well she take the dragon temperature and nurse them when they fall year go by and in year five the dragon learn to fight right say madam dragon here come real live knight up speak the knight my name he say be gadabout the great ve come to rescue princ ess pearl hope m not too late zog breathe fire and beat his wing you can she m ine he roar oh no she not yell gadabout and wave his trusty sword the other dragon crowd round and watch them all agog who be go to win the fight sir gadabout or zog then princess pearl step forward cry stop you sil ly chump the world already far too full of cut and burn and bump don rescue me win go back to be princess and prance round the palace in silly frilly dress want to be doc tor and travel here and there listen to people chest and give them my care rao daime the and take offh 1 rather wear nice twisty stethoscope he say perhaps princess you will train me up and pearl repl ied of course but don see how the two of us could fit upon your horse then zog say fly doctor d love to join the crew if you will let me be your ambulance then can carry you bravo say madam dragon an excellent career and all the year five dragon give loud resounding cheer then madam dragon tell the horse really hope you will stay will let you be my pupil pet and feed you lot of hay what good idea say zog then up and off he fly the fly doctor wave as they zigzag through the blue nmr croc be very busy he be in the shed at jungle school he be try to think of some good idea for the after school club mr croc be in charge of the after school club he like to think of interesting and exciting thing for everyone to do he find some old wheel and some wood the wheel and the wood give him good idea he go to tell everyone about it mr croc tell everyone to sit still and to listen everyone sit still and listen carefully but monkey do not sit still and he do not listen mr croc tell everyone his good idea he tell them they be go to work in team he say each team be go to build go kart out of the wood and the wheel he say that when the go kart be finish they would race them round the swamp then mr croc ask who would like to drive the go kart everyone want to drive them everyone put up their hand mr croc have good idea he put everyone name in hat first he pull out elephant name elephant be very excited then he pull out monkey name he tell monkey that he be go to drive go kart too monkey be very excited mr croc say that everyone need to listen to the instruction he say it be important to listen carefully he say everyone have to work as team they have to work together to build the go kart he say they have to check they be safe to race too everyone listen carefully but monkey do not listen at all then mr croc give everyone special job to do lion have to build the go kart hippo have to put on the wheel little lion have to fix the steering wheel monkey have to check the wheel and the steering wheel mr croc say it be important to check them carefully to make sure the go kart be safe to race but monkey do not listen soon the go kart be ready hippo have to remind monkey to check the wheel but monkey do not listen little lion have to remind monkey to check the steering wheel but monkey do not listen soon it be the day of the race everyone be excite monkey and elephant line up at the start mr croc say they need to listen to the instruction he tell them not to go too fast round the corner of the swamp but monkey do not listen he speed off in his go kart monkey go too fast round the corner of the swamp the wheel begin to wobble and the steering wheel begin to shake suddenly the steering wheel break off the go kart begin to skid then it shoot up into the air it spin round and round and then it shoot into the swamp with loud plop everyone run to help monkey they pull him out of the swamp he be very wet and smelly then they pull out the go kart it be bent and twisted mr croc be cross monkey need to listen everyone say monkey be sorry that he have not listen he be sorry that he have not check the wheel and the steering wheel he be sorry that he have go too fast bad of all he be sorry that he have crash and spoilt the race for everyone then elephant have good idea he ask mr croc if everyone could help mend monkey go kart he ask if they could race the go kart again when it be mend mr croc say it be very good idea everyone help to mend monkey go kart everyone work together as team this time monkey listen carefully hippo do not have to remind him to check the wheel he be pleased little lion do not have to remind monkey to check the steering wheel he be pleased soon it be time to race the go kart everyone be excite monkey and elephant line up at the start mr croc tell everyone to listen carefully to the instruction he tell them not to drive too fast round the corner of the swamp this time monkey listen monkey race hard but this time he do not go too fast round the corner of the swamp this time the wheel do not wobble and the steering wheel do not shake good of all the go kart do not skid monkey and elephant race over the finish line together everyone clap and cheer nonce there be soft brown toy call dogger one of his ear point upwards and the other flop over his fur be wear in place because he be quite old he belong to dave dave be very fond of dogger he take him everywhere sometimes he give him ride in trolley sometimes he pull him along on lead make of string like real dog when it be cold he wrap him up in bit of blanket now and again dave mum say that dogger be get much too dirty she show dave how to wash him in bowl of soapy water then they hang him up by his tail on the washing line to dry dave baby brother joe like hard toy he like put them in his mouth and bite on them because he be get tooth dave big sister bella take seven teddy to bed with her every night she have to sleep right up against the wall to stop herself from fall out but dave like only dogger one afternoon dave and mum set out to collect bella from school mum take joe in the pushchair and dave take dogger next to the school gate where the mum wait be play field some man with ladder be put up coloured flag mum say that there be go to be summer fair to get money to buy thing for the school dave push dogger up against the railing to show him what be go on just then the child start to come out of school an ice cream van come round the corner playing tune bella run up with her satchel fly mum can we have an ice cream mum give her the money for two cone joe didn have whole ice cream to himself because he be too dribbly on the way home dave walk beside the pushchair give joe lick off his ice cream joe kick his foot about and shout for more in between lick at tea time dave be rather quiet in the bath he be even quiet at bed time he say want dogger but dogger be nowhere to be find mum look under the bed she look behind the cupboard she search in the kitchen and underneath the stair dave watch anxiously through the banister joe watch through the bar of his cot bella join in to look for dogger she turn out her own toy box in case he be in there but he wasn when dad come home he look for dogger too he search in the shed and down the garden path with torch but dogger be quite lose dave be very sad when he go to bed bella kindly lend him one of her teddy to go to sleep with but it be not the same thing as dogger dave keep wake up in the night and miss him bella join in to look for dogger she turn out her own toy box in case he be in there but he wasn when dad come home he look for dogger too he search in the shed and down the garden path with torch but dogger be quite lose dave be very sad when he go to bed bella kindly lend him one of her teddy to go to sleep with but it be not the same thing as dogger dave keep wake up in the night and miss him the next day be saturday and they all go to the school summer fair the playing field be full of stall and side show there be fancy dress parade then there be sport with an egg and spoon race wheelbarrow race and father race bella be very good at race she win the three legged race with her friend barbara wouldn you like to go in for race they ask dave but dave didn feel like race he be miss dogger too much then another very exciting thing happen to bella she win first prize in raffle it be huge yellow teddy bear wear beautiful blue silk bow he be almost as big as dave dave didn like that teddy at all at that moment he didn like bella much either because she keep on win thing he go off on his own to look at the stall one lady have toy stall full of knit duck and car and baby doll in bonnet and there at the very back of the stall behind lot of other toy be dogger he be wear ticket say sp there be lot of people round the stall dave try to explain to the lady that it be his dogger who have get lose and somehow be put on the stall by mistake but she wasn listen he look in his pocket he have 3p but that wasn enough he run to find mum and dad to ask them to buy dogger back at once dave go everywhere in the crowd but he couldn see mum and dad he think he be go to cry at last he find bella by the cake when she hear about dogger she and dave run back to the toy stall as fast as they could but something terrible have happen dogger have just be buy by little girl she be already walk off with him dave begin to cry bella run after her and try to explain that dogger really belong to dave and could they please buy him back but the little girl say no she say that she have buy dogger with her own money and she want him she hold on to him very tightly dave cry and cry and the little girl start to cry too but out of the corner of her eye she catch sight of bella big yellow teddy she stop cry and put out her hand to stroke his beautiful blue silk bow then bella do something very kind would you swop this teddy for my brother dog then she ask right away the little girl stop cry and begin to smile she hold out dogger to dave take the big teddy instead and go off with him in her arm then dave smile too he hug dogger and he hug bella round the waist thank you bella he say thai night dave have dogger in bed beside him bella be practise somersault shall you miss that big teddy dave ask her no say bella didn like him much really he be too big and his eye be too stare anyway if have another teddy in my bed there wouldn be room for me n0nce upon time there be deep dark forest where monstrous tree groan terrible beastie moan and wiggly woo wait to tickle your toe in the middle of the forest surround by thorny bush there stand tall tall tower with pointy roof at the bottom of the tower be big wooden door inside the tower windy windy staircase didn stop until it reach little wooden door right at the very top and what be behind that little wooden door well nobody know because nobody ever go there at least not until the day when bold brave knight sir charlie stinky socks and his faithful fearless cat envelope decide that the time have come for really big adventure sir charlie pick his good sword pack some sandwich big bottle of water and favourite little something for the journey just in case and with song in his heart he mount his good grey mare clip clop clip clop clippety clippety clop sir over the hill and far away ride charlie and his cat oh and wily witch with watch follow behind on broom at last they come to deep dark forest where monstrous tree groan and terrible beastie moan envelope shiver the good grey mare quiver while the witch with the watch cover her eye but brave sir charlie stand steady in his boot sssshhhhhhl he whisper into the wood tis sir charlie stinky sock with song to soothe you and as sir charlie sing his lullaby the tree stop groan but the terrible beastie go on moan stop your moaning cry the knight come out and eat me if you dare out of the darkness creep six slobber beastie that fearless cat envelope scarper the good grey mare flee and even the wily witch with the watch tremble behind tree but bold sir charlie do hot turn brave sir charlie do not run instead he draw his trusty sword and do what any good knight would do he smile and cut up his sandwich the beastie stand and stare they be hairy hideous creature indeed but they be more scared of sir charlie stinky sock than he be of them charlie feed the beastie and the beastie stop moan and the wily witch with the watch look on with grin and check the time but this be no way to end really big adventure so sir charlie stinky socks rescue his cat rally his good grey mare and set off once again never mind the wiggly woo who wait in the grass or the six not so terrible beastie who follow him the forest grow thick and the bush become thorny lucky for envelope and the good grey mare that sir charlie stinky socks lead the way with his trusty sword whooshity thwack whooshity twack choppity choppity chop it be thirsty work for bold brave knight how glad he be to have big bottle of water by his side and then at last they come to clear in the tree where the sun throw down its pale yellow light onto tall tall tower with pointy roof but it also throw its light onto long green dragon he be frightful and fearsome and cough out fire while he stomp in temper around the tower haha think sir charlie stinky sock just the thing for really big adventure stop your roaring dragon he command but the dragon do not stop he go on cough out fire he go on belch out smoke and now his eye be fix firmly on sir charlie stinky socks be this the end of the line for the bold brave knight oh my envelope didn hang around to find out and neither do the good grey mare only worry wily witch and couple of wiggly woo watch but bold sir charlie do not flinch brave sir charlie do not flicker he take out his big bottle of water and kind clever sir charlie stinky socks give that old dragon long cooooool drink now you ve stop cough say the knight to the long green dragon tell me what at the top of this tower the dragon look up the dragon look at sir charlie the dragon scratch his scaly head and say my dear old thing haven a clue it not dragon place to ask you know just to do then why don we find out say sir charlie with grin the wily witch take one last look at her watch jump for joy and fly off on her broom as charlie push open the big wooden door up the windy windy staircase march sir charlie stinky socks he didn stop march until he have take his faithful cat envelope his good grey mare six not so terrible beastie very curious long green dragon and couple of wiggly woo right to the very top there he open the little wooden door and peep in big black cauldron stand in the middle of the room and stir it be the wily witch of course by her side sit little princess weep and wail in pool of tears sir charlie look at the princess sir charlie look at the bubble pot sir charlie didn wait another minute he draw his trusty sword and bound over to rescue the little princess stop your weeping cry the knight sir charlie stinky socks be here to save you from the pot the witch cackle with laughter m not go to cook the princess squeal the witch m cook the food for her birthday party it today at three you see do it every year you know blow up balloon and decorate the tower send out invitation hundred of them and looky here she cry tip tap at the face of her watch it nearly three yippee because shriek the princess we live in tall tall tower with pointy roof surround by thorn and and guard by fire breathing dragon and it in the the middle of deep dark forest where wiggly wood wait in the grass to tickle your toe hungry beastie moan and monstrous tree groan so nobody ever come oh yes they do say sir charlie as he fling open the door behold sir stinky sock and his friend that night the light burn brightly in the tall tall tower with the pointy roof as happy little princess have rip roar good time when the candle have be blow out and the cake eat up sir charlie stinky socks take out the favourite little something he have bring from home just in case and give it to the princess many happy return of the day he say and everyone cheer hooray hooray hooray because that what people do at the end of really big adventure the end nthis be tale of tiny snail and great big grey blue humpback whale this be rock as black as soot and this be snail with an itchy foot the sea snail slither all over the rock and gaze at the sea and the ship in the dock and as she gaze she sniff and sigh the sea be deep and the world be wide how long to sail say the tiny snail these be the other snail in the flock who all stick tight to the smooth black rock and say to the snail with the itchy foot be quiet don wriggle sit still stay put but the tiny sea snail sigh and sniff then cry ve get it will hitch lift this be the trail of the tiny snail silvery trail that loop and curl and say lift want around the world this be the whale who come one night when the tide be high and the star be bright humpback whale immensely long who sing to the snail wonderful song of shimmering ice and coral cave and shoot star and enormous wave and this be the tail of the humpback whale he hold it out of the starlit sea and say to the snail come sail with me this be the sea so wild and free that carry the whale and the snail on his tail to tower iceberg and far off land with fiery mountain and golden sand these be the cave beneath the wave where stripy fish with feathery fin and shark with hideous toothy grin swim round the whale and the snail on his tail this be the sky so vast and high sometimes sunny and blue and warm sometimes fill with thunderstorm with zigzag lightning flash and frighten the tiny snail on the tail of the whale and she gaze at the sky the sea the land the wave and the cave and the golden sand she gaze and gaze amazed by it all and she say to the whale feel so small but then come the day the whale lose his way these be the speedboat run race zigge and zoom all over the place upset the whale with their earsplitting roar make him swim too close to the shore this be the tide slip away and this be the whale lie beach in bay quick off the sand back to sea cry the snail can move on land m too big moan the whale the snail feel helpless and terribly small then ve get it she cry and start to crawl must not fail say the tiny snail this be the bell on the school in the bay ring the child in from their play this be the teacher hold her chalk tell the class sit straight don talk this be the board as black as soot and this be the snail with the itchy foot snail snail the teacher turn pale look say the child it leave trail this be the trail of the tiny snail silvery trail say save the whale these be the child run from school fetch the fireman dig pool squirting and spray to keep the whale cool this be the tide come into the bay and these be the villager shout hooray as the whale and the snail travel safely away back to the dock and the flock on the rock who say how time fly and haven you grown and the whale and the snail tell their wonderful tale of shimmering ice and coral cave and shoot star and enormous wave and of how the snail so small and frail with her loop curl silvery trail save the life of the humpback whale then the humpback whale hold out his tail and on crawl snail after snail after snail and they sing to the sea as they all set sail on the tail of the grey blue humpback whale nby loobular lake on far off planet there live young smed and her name be janet not far away on humplety hill there live young smoo by the name of bill janet like all the smeds be red and this be what her grandfather say never never play with the smoos they sleep in hole they wear strange shoe they jump about like kangaroo never never play with the smoos bill like the other smoos be blue and these be the word of grandmother smoo never never play with the smed they have strange hair upon their head they sleep in funny thing call bed never never play with the smeds the smeds on their lake like nothing well than splash about get wet and wet but janet grow bored with this watery play and early one morning she tiptoe away the smoos jump about on their humpiety hill they bounce up and down it and never stand still but bill be begin to think this be boring so early one morning he set off explore janet meet bill in the wurpular wood where the trockle grow tall and the glompom smell good the two rub antennae and play all day long she tell him story he sing her song then they climb to the top of jerberrycoot and nibble its juicy and jellyful fruit till who should disturb them but grandfather smed shake his fist as he angrily say never never play with smoo they re such nasty shade of hl tie for the hundredth time say to you never never play with smoo grandmother smoo be close behind and this be how she speak her mind never never play with smed they re such dreadful shade of red will say again what ve always say never never play with smed year go by on the far off planet janet miss bill and bill miss janet but off they creep whenever they could to sing and play in the wurpular wood the two of them grow and decide to we d but what do you think their grandparent say never never marry smoo they re beastly bunch they re crazy crew they drink black tea they eat green stew never never marry smoo never never marry smed my dear child be you off your head they drink pink milk they eat brown bread never never marry smed janet and bill steal out that night while their family sleep and the squoon shine bright they clamber into the smeds red rocket grandfather smed have forget to lock it bill press the button and janet steer when their family wake they have both disappear the smeds say your bill must have steal our janet and take her off to distant planet the smoos say it janet who steal our bill and lure him away from the humplety hill the smoo climb into their rocket of blue and they say to the smed you have well come too suspicious and scowl they soar into space till they reach planet vumjum dry dusty place the vums have long arm which they wave in the air but they didn have news of the runaway pair the next stop be lurglestrop cover in rose and water by beast with small eye and long nose they touch down 6n grimbletosh coat in grime they search planet glurch and find nothing but slime one morning the smoos find they run out of tea so the smeds share their milk which be pink as could be then grandfather smed say my hair need trim and grandmother smoo kindly cut it for him they land on scloop where the scloopie wear kilt then fly to klaboo where the klabs walk on stilt they search all year long then they search long still but they didn find janet they didn find bill alas say the smoo and the smeds say alack we have fail in our quest we have well turn back so they turn and fly home to their very own planet and far down below them they see bill and janet the rocket touch down and they run to the wood where the trockle grow tall and the glompom smell good and there in glade by the rocket of red be the runaway smoo and the runaway smed they get lose and fly home again only to find that all of the other have leave them behind there be joy jam and jump then janet say maybe you like to make friend with our dear little baby baby red one blue one but no that baby be purple from head to toe they all hug the smoo smed their new baby brother and grandpa and gran even hug one another they laugh and they splash and they dance with delight and they play with that baby from morning till night they make him rattle they make him flute they feed him the fruit of the jerberrycoot then they sing by the light of the silvery squoon and you can sing too if you make up tune play with the smed and play with the smoos play with whichever friend you choose then close your eye and while you snooze dream of the smeds and dream of the smoos but like sit on frog say the dog frog be all squishy and squashy and when you sit on them they go plurppppppppppp you know the rule say the cat cat sit on mat frog sit on log and dog sit on frog well m change the rule say the frog from now on really say the dog really say the frog dog sit on log and cat sit on gnat ouch what will bear sit on ask the dog bear will sit on stair say the frog what will slug sit on ask the dog slug will sit on plug say the frog n slug will sit on plug rr rn fly will sit on pie rw wr cricket will sit on ticket and moth will sit on cloth what will leopard sit on ask the dog leopard will sit on shepherd say the frog leopard will sit on shepherd and cheetah will sit on fajita you re really get the hang of this say the dog know say the frog and that not all pig will sit on wig gnus will sit on canoe and boar win sit on oar what will whale sit on ask the dog whale will sit on nail say the frog m not sure the whale will like that say the dog they don have to like it say the frog they just have to do it what will dragon sit on say the dog dragon will sit on wagon say the frog what will dragon sit on say the dog dragon win sit on wagon mouse will sit on ice kitten will sit on mitten and puppy will sit on guppy what will crab sit on ask the dog crab will sit on kebab say the frog crab win sit on kebab poodle will sit on noodle hornet will sit on cornet skunk win sit on trunk and elephant will sit on smelly pant elephant aren go to sit on smelly pant gasp the dog they be now smile the frog hold on say the cat if dog sit on logs cat sit on gnat bear sit on stair slug sit on plug fly sit on pie cricket sit on ticket moth sit on cloth leopard sit on shepherd cheetah sit on fajita gnus sit on canoe pig sit on wig boar sit on oar whale sit on nail dragon sit on wagon mouse sit on ice kitten sit on mitten puppy sit on guppy crab sit on kebab poodle sit on noodle hornet sit on cornet skunk sit on trunk and elephant sit on smelly pant what be frog go to sit on ask the dog sun lounger say the frog nb94 a small scruffy bear be out walk one evening when he come to wood what dark and gloomy place he say to himself and have just decide that he would walk around the wood instead of go through it when he hear noise squeak noise like the sound of frightened little animal it be come from the gloomy wood scruffy bear set off at once to find out what the matter be and right in the middle of the wood catch by the last gleam of the set sun he find six white mouse help squeak the mice we re lose and now the night be come we will be gobble up by owl or fox or snake for certain and just at that moment they all hear the hoot of an owl come from the treetop above quick whisper scruffy bear curl up tight mouse and tuck in your tail and so the mouse curl up tight and carefully tuck away their little pink tail moment later silent as ghost the owl fly down and find scruffy bear stand beside six fluffy white ball hello bear say the owl you haven see any mouse have you m sure hear mouse just moment ago and it about time for my supper mouse oh no owl say scruffy bear shake his head the owl look down at the six white ball and ask but what be those those why those be snowball reply scruffy bear snowball yes snowball m collect them to save for the winter it good to be prepare don you think ah reply the owl nod very wise very wise and he fly off in search of supper hurry along mouse hurry along say scruffy bear when the owl have go and the mice all jump up and run along beside him but they have not go far before they hear the bark of fox up ahead help squeal the frightened mouse fox quick curl up again curl up whisper scruffy bear and do remember to tuck in your tail they do so when the fox step out from the shadow he find scruffy bear stand beside six fluffy ball hello bear say the fox you ve not see any mouse have you there be mouse about here somewhere smell them he begin to lick his lip mouse oh no reply scruffy bear only egg egg but they re furry they re furry pheasant egg m gather them for the furry pheasant she lose them silly bird ah say the fox look down at the curious furry egg but m sure smell mouse and he stalk off in search of supper hurry along mouse hurry along say scruffy bear when the fox have go and all the mouse jump up and hurry along but they have not go far before they hear the hiss of slithery snake come from thicket just up ahead snake squeal the frightened mouse quick curl up curl up whisper scruffy bear and remember those tail the mouse curl up once more and moment later the snake come slither out of the thicket hello bear she hiss m look for mouse be there any mice around here the snake be stare at the furry white ball mouse oh no reply scruffy bear only apple appless yes apple ve be pick up windfall white moon apple that have fall down from the white apple tree on the moon it be very windy up there you know moon applesss hiss the snake look even more closely at the furry white ball but whoever hear of appless with little pink tailss like that one one of the mouse have forget to tuck in its tail oh dear exclaim scruffy bear quickly pick up the moon apple but that not tail that a naughty little worm eat my apple worm yuck say the snake in disgust and she slither off in search of supper it be not until later that the snake think moon applesss that ridiculouss and the owl think snowball in the middle of summer and the fox think furry egg that absurd and they all think mouse but by then it be too late for scruffy bear and the six white mouse be long go nit be tuesday and hippo be have bad day he have get up late he have miss breakfast he be late for school too miss bird be cross then miss bird give him lot of sum to do but hippo be too hungry to do them hippo look at the clock it be nearly lunchtime mrs croc always make chocolate cake for lunch on tuesdays she always put lot of chocolate icing on the top too hippo think about the chocolate cake and the chocolate ice his tummy rumble loudly everyone hear everyone giggle miss bird tell them to get on with their work but the more hippo think about the chocolate cake the louder his tummy rumble then he get the hiccup the hiccup be very very loud everyone laugh miss bird get cross she say hippo be disturb everyone she tell him to go to the kitchen to get drink of water hippo go to the kitchen the big chocolate cake be on the table he go to get close look it look delicious it smell delicious he decide to try tiny bit of it he pick up spoon and take bit of cake it taste wonderful hippo stare at the cake now there be little hole on one side of the cake he try to smooth the icing over the hole but it look bad he take some cake from the other side to try to even it up but it look bad than before hippo be worry he want to make the cake look well he take more and more cake it taste delicious but the more he take the bad it look soon there be no cake leave at all hippo go back to class miss bird say he have be long time she tell him to get on with his sum but hippo could not get on with his sum his tummy feel too full and he feel too sick he feel bad for eat all the cake just then the bell ring for lunchtime everyone line up but mrs croc have some bad news she say there be no chocolate cake because it have all go she say hattie the school cat must have eat it she say hattie be bad cat hippo say nothing everyone eat their lunch but hippo be not hungry he be not hungry at all mrs croc be worried hippo be always hungry and he always eat his lunch she think he must be ill she send him to miss bird hippo tell miss bird about the chocolate cake he tell her that he have eat it not hattie miss bird say that he should not have eat the cake but that he be brave to own up she say he should have good think about how to put thing right hippo have good think he tell miss bird he have to say sorry to everyone for eat the cake he say he have good idea to put thing right too he tell miss bird his good idea she say it be very good one hippo say sorry to everyone he say sorry to mrs croc he say sorry to hattie the cat too then hippo ask mrs croc if she would help him to bake new chocolate cake for everyone mrs croc give him lot of help hippo bake very good cake it have lot of chocolate icing on the top too soon the cake be ready to eat everyone go to get close look it look delicious it smell delicious everyone take bit of cake it taste wonderful hippo be pleased hippo say he be glad he have own up and put thing right then mrs croc ask him if he would like some cake hippo say he do not want any he say he do not want any chocolate cake ever again everyone laugh nit be monday morning and it be leopard first day at jungle school miss bird say he could sit with monkey little lion and giraffe she say monkey little lion and giraffe could be leopard friend and help him to feel welcome but giraffe be cross monkey and little lion be his friend he do not want to be friend with leopard he do not want to make leopard feel welcome at playtime monkey little lion and giraffe play football monkey say leopard could play too but giraffe get cross he say leopard could not play he tell leopard to go away leopard be sad he do not like be leave out little lion say giraffe be be very unkind on tuesday leopard come to school early he be very excited he say it be his birthday on saturday he say everyone could come to his party leopard give out lot of invitation but he do not give an invitation to giraffe giraffe be upset he do not like be leave out leopard tell everyone about his party he say it would be good fun he say everyone would get party hat he say there would be lot of game to play he say there would be cake bun and jelly to eat he say there would be race too giraffe feel sad he wish he could go to leopard party but monkey say that giraffe have be unkind to leopard little lion say if he have be kind he may not have be leave out that afternoon miss bird say they have to work with partner to make model boat she say everyone have to test the boat at the end to make sure they float she say giraffe and leopard have to work together but giraffe be cross he tell miss bird he do not want to work with leopard he say leopard be not his friend but miss bird do not listen giraffe have to cut out the boat shape but it be hard to do leopard help him he cut out the boat shape really carefully giraffe be pleased leopard have to stick the boat shape together but it be hard to do giraffe help him he stick the boat shape together really carefully leopard be pleased then they have to test the boat to see if it float it be very hard to do but they help each other giraffe and leopard be pleased when the boat float miss bird say they have work well together 17 at playtime giraffe ask leopard if he would like to play football with him monkey and little lion they all play together giraffe say leopard be good player giraffe say he be sorry for be unkind he say he want to be friend the next day leopard have surprise for giraffe he give him big envelope inside the envelope be an invitation to leopard birthday party giraffe be very excited he be glad that leopard have not leave him out soon it be saturday and everyone go to leopard party there be lot of party hat there be big hat and small hat there be tall hat and floppy hat giraffe think his hat be the good hat of all there be lot of game to play first they play musical chair and monkey win he be very pleased then they play sleep lion and little lion win he be very pleased next they play pass the parcel and giraffe win he be very very pleased soon it be time to eat leopard mum have make lot of cake bun and wobbly jelly there be blue cake and red cake there be sticky bun and cherry bun there be green jelly and yellow jelly everyone eat it all up it be delicious then leopard dad say it be time to start the race there be run race and hopping race there be sack race and really silly race giraffe monkey little lion and leopard like the really silly race best of all at last it be time to go home everyone thank leopard for lovely party let play together tomorrow say leopard play together be fun yes say giraffe but let all play together tomorrow then no one will be leave out at all nfrom high in the sky santa look down below to house all cosy and cover in snow where snoozer be snooze tuck up in their bed whilst dream the most festive dream in their head but one boy call danny greedy young chap the greedy chap on the planet in fact be lie awake on his mountain of toy which stand even tall than most girl and boy but that wasn enough danny still want more he want much more than his toy box could store so big santy say will leave him present but this year his present may just be unpleasant danny hear such clatter his heart skip thump twa the clopping of hoof go clippety clump he bounce out of bed and throw on some clothe and creep down the stair on his tip tippy toe there under the tree be gift big and small and gimungus egg place in front of them all an egg danny say santa bring me an egg then out with crack pop dinosaur head w it waste no time on that cold christmas morning and start to eat everything without warn it swallow the stocking and christmas card too the red fairy light then the green and the blue there wasn a single thing danny could do except sit and watch as the dinosaur chew it chew and it munch and it crunch on kris kringle the reindeer the sleigh bell and all thing that jingle but it didn stop there there be more thing to gobble much more than the small shiny bauble that bobble it eat up the cat and the dog and the fish and from the dishwasher it down every dish the table the chair the wall and the door now nothing be safe not even the floor danny poor granny be knit some sock but the dino have no need for sock it have lot so it slurp up her knitting like string of spaghetti and gobble up granny along with the settee then it eat danny mum she be go in one bite and although danny dad try to put up fight the dino have grow to the size of king kong with gulp and burp danny father be go now nothing be leave all danny could see be fat dinosaur where his home use to be and so with the thought of no christmas this year his tear turn to snowflake and then disappear with the feeling of guilt in the dinosaur gut its brain brew plan involve its butt it know there be only one thing it could do to put christmas right it need to poo it poope out the turkey the toy and the telly and even the tinsel be now brown and smelly it poope all the present and piece of puzzle it poope all the thing it have previously guzzle and then father christmas yell out of the way as he fly from the dinosaur bum on his sleigh the dinosaur finally give huge push and poope danny parent in one massive whooooooosh last but not least and never forget granny plop out of the dinosaur bottom merry christmas say dan to his whole family as they wash off the present and put up the tree and the greedy young chap that you see just before promise next christmas he not ask for more and the dinosaur promise he not eat crumb as you would if christmas come out of your bumf nlion be always worry he worry about everything he worry if he be late for school he worry if he be early too lion even worry about get all his sum right and he be really good at sum lion always get in flap when he worry he feel hot and dizzy his tummy quiver and his knee knock it be horrid feeling on friday miss bird have some exciting news she say it be the big day out in two week time she say this year they be all go to jungle land and mr croc be go to take them in the school minibus everyone clap and cheer jungle land be the good theme park in the jungle everyone be excite everyone that be except lion and he begin to worry all through football lion worry about the big day out he worry about get to jungle land what if the minibus break down what if they couldn get to jungle land at all that would be dreadful lion get in such flap that he let in lot of goal on monday lion worry that it may rain on the big day out that would be no fun at all and what if it rain so hard that jungle land flood and have to close that would be terrible lion get in such flap that he knock paint all over hippo picture monkey and hippo be worried about lion they ask him if he be all right but lion do not tell them he be worried about the big day out he be afraid they would laugh at him the next day lion worry about the ride at jungle land what if he be too small to go on them or too big that would be awful lion get in such flap that he knock all the pencil and book on to the floor lion in flap everyone say miss bird take lion outside to calm down miss bird ask lion what be wrong he tell her all his worry about the big day out miss bird listen carefully she tell him that when she feel worried she always take deep breath lion take deep breath he feel little well then miss bird tell him to think about all the good thing that may happen on the big day out instead of all the bad thing lion have good think he think about the minibus mr croc look after it very well he always check the tyre he always check the oil the minibus may not break down at all lion feel much well then he think about the weather there be no cloud in the sky and it hadn rain for week and week it may not rain at all on the big day out jungle land may not flood and then it would stay open all day lion feel lot well then miss bird tell lion that everyone get worried sometimes she say lion could always talk about his worry with his friend lion say that monkey and hippo be his good friend miss bird say they would be very good friend to talk to if he feel worried again lion feel much much well on friday it be the big day out the minibus do not break down at all and it only rain in the afternoon when everyone be on the water ride so it didn matter anyway lion be bit too big to go on the runaway train but he didn mind at all he go on the roar rocket instead and that be even more fun then miss bird look at her watch she say there be just enough time for everyone to go on the big drop the big drop be the highest fast and scary ride in jungle land everyone be very excited but lion begin to worry what if the ride be too high and too fast what if it be too scary bad still what if he could not sit next to his friend that would be really horrid then lion remember what miss bird have tell him he take deep breath he feel bit well he tell monkey and hippo his worry monkey say the ride could not be too high too fast or too scary because everyone be have lot of fun on it then hippo say that they would all sit together so that lion feel nice and safe lion feel much well the big drop be very high and very fast and it be very scary lion feel hot and dizzy his tummy quiver and his knee knock but lion wasn worry he wasn worried at all he be have brilliant time nonce there be boy and the boy love star very much every night the boy watch the star from his window and wish he have one of very own he dream how this star may be his friend they would play hide and go seek and take long walk together the boy decide he would try to catch star he think that get up early in the morning would be good because then the star would be tired from be up in the sky all night so the next day he set out at sunrise but he could not see star anywhere he sit down and wait for one to appear he wait and he wait and eat lunch and wait and after dinner he wait some more finally just before the sun be about to go away he see star the boy try to jump up and grab it but he could not jump high enough so very carefully he climb to the top of the tall tree he could find but the star be still way out of reach he think he may lasso the star with the life belt from his father boat but it be much too heavy for him to carry he think he could fly up in his spaceship and just grab the star but his spaceship have run out of petrol last tuesday when he fly to the moon perhaps he could get seagull to help him fly up into the sky to reach his star but the only seagull he could find didn want to help at all the boy think he would never catch star just then he notice something float in the water it be the pretty star he have ever see just baby star it must have fall from the sky he try to fish the star out with his hand but he couldn reach it then he have an idea the star may wash up on the shore he run back along the jetty to the beach then he wait and walk and watch and wait and sure enough the star wash up on the bright golden sand the boy have catch star star of his very own nearly one morning the wind blow spider across the field thin silky thread trail from her body the spider land on fence post near farmyard and begin to spin web with her silky thread 9 neigh neigh say the horse want to go for ride the spider didn answer she be very busy spin her web moo moo say the cow want to eat some grass 12 the spider didn answer she be very busy spin her web bah bah bleat the sheep want to run in the meadow the spider didn answer she be very busy spin her web maa maa say the goat want to jump on the rock 16 the spider didn answer she be very busy spin her web 17 oink oink grunt the pig want to roll in the mud 18 the spider didn answer she be very busy spin her web 19 woof woof bark the dog want to chase cat 20 spider didn answer be very busy spin her web 21 meow meow cry the cat want to take nap 22 the spider didn answer she be very busy spin her web quack quack call the duck want to go for swim 24 the spider didn answer she have now finish her web 25 cock doodle do crow the rooster want to catch pesty fly and the spider catch the fly in her web just like that 27 whoo whoo ask the owl who build this beautiful web the spider didn answer she have fall asleep it have be very very busy day 29 nit be christmas eve and santa be load present on to his sleigh santa little mouse be help too whoosh gust of wind blow santa beard straight in his face ho ho ho he chuckle can see what m do careful santa warn santa cat you mustn lose that sack of present that would never do santa agree as he carefully stow everything away santa help his little mouse climb aboard the sleigh hold on tight he boom we re off it be wild and windy night oooh my shout santa as the sleigh rock this way and that suddenly the sack of present begin to move careful santa call santa little mouse mind that sack but santa wasn quick enough the sack slide across the sleigh and topple overboard stop cry santa in alarm down reindeer down ve lose all the present the reindeer struggle against the wind and land as gently as they could careful santa they shout but it be too late whoop cry santa land on his bottom santa scramble to his foot the present be scatter far and wide and he hurry to pick them up he didn notice the frozen pond wheeeeee cry santa as he slide across the ice towards the duckhouse careful santa quack the duck you nearly squash us how awful say santa as he gather up the present sorry about that have anyone see my sack here it be chatter squirrel from high in tree santa bravely climb up but before he know it he be well and truly stick oooh help he cry careful santa call the squirrel be try to be careful say santa as he struggle to get free very very slowly santa climb back down again drop some present as he go in the playground few present be lie under the swing santa put them into his sack then he spot some more on the slide whoooooosh cry santa as he whiz down the slide careful santa you re go too fast warn santa cat eeek can stop say santa as he zoom towards the snowman sorry snowman didn mean to bump you santa say as he dust himself down and pop the last of the present into his sack that it he boom it time to deliver these present ready mouse but where be mouse santa couldn see her anywhere oh dear he cry in alarm first lose my sack of present and now ve lose my little mouse this will never do the duck the squirrel and santa cat all crowd round don worry santa they chatter she can have go far we will help you look for her everyone look for mouse she wasn in the duckhouse and she wasn at the swing she wasn near the slide or behind the snowman just then santa hear familiar squeak he shine his torch upwards and there be mouse hang from branch in tree careful warn santa it far too windy to play up there that branch doesn look too safe to me but mouse wasn play m stick she squeak please get me down quickly santa take off his jacket and spread it out on the ground everyone gather round and hold the coat like trampoline hold on tight everyone and don let go say santa ready mouse one two three jump mouse jump and with bounce and plop land safely on santa coat hooray cheer santa thank you everyone it be time to go santa and mouse hurry aboard their sleigh reindeer up up and away cry santa whoosh blow the wind careful santa call everyone as the sleigh rock this way and that look after that mouse and hold on tight to that sack nonce there be three baby owl sarah and percy and bill they live in hole in the trunk of tree with their owl mother the hole have twig and leave and owl feather in it it be their house one night they wake up and their owl mother be go where mummy ask sarah oh my goodness say percy want my mummy say bill the baby owl think all owl think lot think she go hunt say sarah to get us our food say percy want my mummy say bill but their owl mother didn come the baby owl and they sit on the tree and wait big branch for sarah small branch for percy and an old bit of ivy for bill she will be back say sarah back soon say percy want my mummy say bill 9 it be dark in the wood and they have to be brave for thing move all around them she will bring us mouse and thing that be nice say sarah suppose so say percy want my mummy say bill they sit and they think all owl think lot think we should all sit on my branch say sarah and they do all three together suppose she get lose say sarah or fox get her say percy want my mummy say bill and the baby owl close their owl eye and wish their owl mother would come an she come soft and silent she swoop through the tree to sarah and percy and bill mummy they cry and they flap and they dance and they bounce up and down on their branch what all the fuss their owl mother ask you know d come back the baby owl think all owl think lot know it say sarah and know it say percy love my mummy say bill nonce upon bicycle so they say jolly postman come one day from over the hill and far away with letter for the three bears mr and mrs bear three bear cottage the woods dear mr and mrs bear and baby bear be very sory indeed that cam into your house and eat baby bear porij mummy say be bad girl hardly east any proij when she cook it she say daddy say he will mend the littel chair love from goldilocks s baby bear can come to my party if he like ther will be 3 kind of jelly and conjoora so the bear read the letter except baby bear the postman drink his tea and what happen next we will very soon see off go the postman toodle oo in his uniform of postal blue to gingerbread cottage and garage too with letter for the wicked witch the occupier gingerbread bungalow the woods wibgoibun supply ltd everything for the modern witch delivere to your door or den coven cater for little boy pte mix hallowe en deadly for those unexpected visito rs boot lampshade when the cupboard be bare nice and gloomy fnianteusrat lcohvoeilcyec oofl foiuv res with fereaecs ryea ccuipleleda fornro ntnoo ansd esintti tchke hole gtgwinpsihnf lroeigea rtsisecdedsheriva iean ln tgtivs he our bigla rbfgoerarsr tso wehenieo cmh 12345 mjcbceaoritd otab nwbll iba lgbaclhcalktak bc kkl ck ont look for new newt the spell proof bonus newt the big newt ldietmtleo teynotu fro holiday gcelu opn aen df rseoer scaemree lrow price and for your holiday itseitl ftw eftaa ssh eersv ice feerlien7gu lvowen at takineg piitlclsho the perfect pick mero uefpa fd iotnhguel coumrp lseetes ook it spellt bhiend ing mirror mirror for the2wiz ard in your life money back if not completely satisfied match tie and sock set these be just few example from our enchanting range for further detail ring freephone 13 no bad spell please so the witch read the letter with cackle of glee while the postman read the paper but leave his tea it be green soon the jolly postman we hear tell stop at door with giant bell and giant bottle of milk as well with postcard for guess who dear giant bigg have nice time me my mum and your hen what lay the golden egg it well than traveller cheque see bloke as we be fly down he be big than you ve take note of his address take care of yourself and your talking harp will be back for that one of these day shouldn wonder bye for now your very little pal jack so the giant read the postcard with baby on his knee and the postman wet his whistle with thimbleful of tea once more on his bicycle the postman ride to beautiful palace so we ve be tell where nightingale sing and sign say sell with letter for cinderella there a surprise r cinderella the palace half kingdom road cinderella the story of fairytale princess stetphmeroet hwears townoc ec rau eylo aunndg uwgolym satne pnsaimsteedrs ianndde rae flalath wehr ow hhaod aa sc rnuoetl around much one day the postman arrive with an invitation to the royal ball the satlmepomsto taht eorn caen l etahvei nsgi sctienrds ergeollta darloesn see ds hien ctohueilrd nf itn geroy oa nthde dbeapll rsthede have nothing to wear and no transport luckily at that moment cinderella fairy godmother drop in find cbinedauertieflulal gino wtena s nsdh ea wgoolrdkeend choear cmh gbicu at nbde sbeanctk beyr towffe tlove h s bhael ls ianid the magic stop at midnight so cinderella go to the ball and have marvellous time she eat lot of little sausage on stick and dance constantly with the prince who obviously admire her then just when thing be go well the clock sutnrtuilc kt htwate livse hane df ocuinndde orenlela ohfa cd itnod erurenl lfao sr itg ltashse splriipnpceer sw aws hiniccho ncsh oelearbelde him up the next day he go look for young woman whose foot would fit the slipper mean to many her if she have him all the woman in the town young and old and eve the ugly sister try on the slipper but without success then finally cinderella try it on and it fit of course and that be that acito mfmeuwesr dt obafye ts hs elaa iktdei n wcgdianosdm r ealnlad atnhde ntheew psrpianpceer ws ewreer me afurrlli eodf theel eegver anmt st aofi rcyo ntgaralteu lpartiionncse asrrsiv ethde trhoims oecvcearsyi on headline proclaim which on really no exaggeration at all story of magic and romance glass slipper and little sausage on stick the well happy ever after tale of all so cinder read her little book the postman drink champagne then wobble off on his round again and again and again oops later on the postman feel hot come upon grandma in shady spot ws but grandma what big tooth you ve get besides this be letter for oooh urgent b wolf esq o grandma co ttage horner corner meeny miny mo co solicitors alley building toe lane tel 12345 dear mr wolf we be write to you on behalf of our client miss ride hood concern her grandma miss hood tell us that you be presently occupy her grandma cottage and wear her grandma cl othe without this lady permission please understand that if this harassment do not cease we will call in the official woodcutter and if necessary all he king horse and all the king man on separate matter we must inform you that messrs three little pigs ltd be now firmly resolve to sue for damage your offer of share in turnip or apple pick business be decline and all his huffing and puffing will get you nowhere yours sincerely meeny so grandma read the letter and pour the tea which the not so jolly postman drink nervously now the jolly postman nearly do so be the story come to house where party have begin on the step be bear with bun but the letter be for goldilocks please do not bend to goldilocks 24 blackbird road banbury cross birthday wish pat cake pat cake baker man bake me cake as fast as you can carry it in on beautiful plate and light up the candle today be eight to goldilocks with love from mrs banting and baby xx xx xx once upon bicycle so they say jolly postman come one day from over the hill and far away and go home in the evening for tea nonce upon time there be boy call charlie cook who curl up in cosy chair and read his favourite book about leaky pirate ship which very nearly sink and pirate chief who get the blame and have to walk the plank the chief swim to an island and go dig with his hook at last he find treasure chest and in it be book about girl call goldilocks and three indignant bear who cry who have our porridge who be sit on our chair they go into the bedroom and baby bear say look she in my bed and what be more she get my favourite book about sir percy pilkington bold andfearless knight who tell the dragon wait m not quite ready for fight you must hear this one first and then his armour clank and shake as he read aloud joke he find inside his favourite book about rowena reddalot very well read frog who jump upon lily pad and jump upon log then jump into the library which stand beside the brook and go reddit reddit reddit as she jump upon book about an oak tree full of bird each bird have build nest and they have competition to decide which one be good they choose an owl to judge it and the winner be rook whose nest be line with page from his very favourite book about girl who see fly saucer in the sky some small green man be in it and they wave as they fly by she tug her mother sleeve and say look mum what ve just see but mum say hush m try to read my favourite magazine about wicked jewel thief who steal the king good crown but then get stick the king dial 999 behind some sheep and soon the cop have which slow his car catch the crook right down i tuatio ns vacant governess require for lady mary aged 7 the child be sadly quite contrary she insist she see alien in the garden strict governess be requ ire who can curb this vivid imagination apply with reference to lady fother ington the old rookery banbury cross and fling him into prison where he read his favourite book about greedy crocodile who get feed up with fish and wen on land to try and find some other kind of dish 12 he go into bookshop and he there grow even greedy while read on page 90 of large encyclopedia cake my first encyclopedia about the big birthday the world cake have ever see team of royal cakemaker have make it for the ueen cake mixture of nice thing usually bake in the oven it be eat at teatime and on special oc casion like birthday and christmas the queen birthday cake it take six lorry to carry the cocoa munchie for the queen birthday cake to the palace the cake also require 4 276 bar of chocolate and 739 sackful of marshmallow the special outsize cake tin be make by the royal black mith use 2 647 melt down horseshoe famous cake eater britain most famous cake eater be the bunn twins of york at the age of six they become the young ever winner of the york festival cake eat competition age ten they have to be take to hospital after knock each other out while both reach for the sam slice of cake their dog then eat the cake the cake be so delicious that famous spaceman take slice of it to jupiter he also take book about ghost who glide round castle every night carry her head and give everyone frigh she keep it up till morning then she find shady nook and put her head back on again to read her favourite book about cosy armchair and boy call charlie cook nmeet the fly doctor dragon knight and girl their name be gadabout the great and zog and princess pearl pearl give people medicine and and gadabout be expert at pill and vaccination perform operation zog be good at fly though not quite so good at landing but gadabout and princess pearl be always understand fly high one morning they hear mermaid wail m sunburnt and it hurt she cry and swish her scaly tail bang crash thump they land the mermaid skin be red pearl rub in some special ream and wear this hat she say thank you say the mermaid and she wave fond goodbye as the team of fly doctor speed away into the sky as the sun rise higher they see unicorn he paw the ground and whinnied ve grow an extra horn bang crash thump they land will help you out say the knight and he cut the horn off gently to the unicorn delight thank you say the unicorn for take so much care and the team of fly doctor speed away into the air halfway through the afternoon they hear lion sneeze ve catch the flu the lion roar can someone help me please bang crash thump they land and pearl say take this pill and do keep warm that terribly important when you re ill but the eon cave be chilly so zog say fetch some wood then he breathe out lot flame until the fire burn bright and good thank you roar the lion m feel nice and warm then the team of fly doctor speed away into the storm as evening fall they see great big palace down below my uncle house say princess pearl let go and say hello bang crash thump they land pearl uncle be the king he didn say hello instead he say you naughty thing where have you be he thunder you look an awful mess what happen to your crown and where your pretty frilly dress but uncle can you see that m doctor now say pearl the king reply princess can be doctor silly girl he tell his man to seize her and to lock her up inside princess pearl be furious she stamp and storm and cry week go by and princess pearl spend many weary hour sew pretty cushion and arrange pretty flower the other try to rescue her with all their might and main but they simply couldn manage all their effort be in vain each night they fly to visit her and perch upon her sill and one dark night she tell them that the king have fall ill the king grow bad his head be sore his arm and leg feel weak his skin have turn bright orange and he find it hard to speak he call lot of doctor new one every day he croak what be this illness but they simply couldn say they didn know the answer but pearl be pretty sure it look like orange fever and she read about the cure grate horn of unicorn mighty lion sneeze some mermaid scale little slime and half pound of cheese she tell the other what to get and do be very quick my uncle could be die he look extremely sick away fly zog and gadabout they reach the lion den bang crash thump they land he sneeze for them and then they fly back to the forest where the grateful unicorn be very pleased to give them his unwanted sawn off horn back to the mermaid rock they fly she gladly give some scale and her sea snail friend allow them to collect their slimy trail zog say m exhaust but he fly and fly until bang crash thump he land on the bedroom windowsill princess pearl say thank you for the scale the slime the sneeze and the horn which then she grate up with half pound of cheese she tiptoe to her uncle room the king lie in his bed she hold spoonful to his mouth now open wide she say after just one spoonful her uncle feel much strong and after spoonful two he wasn orange any long after spoonful three the king be dance with delight princess can be doctor you be absolutely right m sorry that lock you up of course you must go free but do come back to visit me and bring your friend to tea hooray cry pearl and out she run to join the other two then off into the sunset speed the fly doctor crew nlong ago in nazareth mother dove say to her baby very special time have come fly with me little one and will show you why the mother dive fly with her baby over quiet sleepy nazareth suddenly dazzling light shine out from the window of little house inside the house the angel gabriel have appear he speak to girl call mary you will have special baby boy he say he be the son of god and you will call him jesus over many month the little dove come to see mary and her husband joseph one day joseph say to mary we must make journey to bethlehem mary ride on donkey and joseph walk along the dusty path to bethlehem the little dove feel sorry for them they must be very tired he think in bethlehem the night have come but all the inn be full there be nowhere to rest for mary and joseph and everyone turn them away the very last innkeeper take pity on them you can stay in my stable he say so mary and joseph go inside to settle down for the night on hill nearby shepherd be tend their sheep when an angel appear to them do not be afraid he say for jesus be bear this night far away in the east three king see star we must follow it they say the star be sign that jesus be bear we will go to him this night nknock knock who at the door one thing ve never see before it gaze at distant star say hi and it say booo baa be you an alien say from far across the milky way be you lonely be you lose how many galaxy have you cross the creature point at granny chair yikes two blue bargle sit right there oh no gasp don wake my gran get down be quiet as you can next three pink pog with stripy lip bounce through the doorway do flip then four red rark with hairy ear all beam inside to whoop and cheer we must get home the bargle say quick start the countdown right away hey wait call what go on what countdown stop you ve get it wrong five green croobs on sonic broom grab gadget from around the room they press button red and round hear dreadful wrenching sound at last they cry let leave this place then boom our house blast into space the thruster roar then fizzle out then woooah thing start to float about hey everybody look at me it fun in zero gravity we zoom off at the speed of light but six black buff hark that not right we want to go to planet boot we will have to take fast route they grab at the remote control and steer us through big black hole the black hole twist us inside out then snap us back and spit us out we veer off in deadly spin yikes seven white wiggle get suck in help help cry reverse reverse but that just seem to make thing bad we back into murky moon and crash land in the swampy gloom oh dear groan what shall we do but from the marche two by two eight slimy purple pom pig yelp we see you crash we will help we will help they fire their laser down the hall to solder all the damage wall nine yellow yopps with orange chin repair our light and mend our fin the burgles cheer hooray hooray you ve all help out so much today come home with us there lot of room so in they climb and off we z000 m at last we land on planet boot ten rainbow ruff play pipe toot toot phew wee say wow what flight we party long into the night at last say d better go my gran will wake up soon you know my alien buddy hug me tight go safely on your homeward flight set the switch knob and dial to earth one hundred thousand mile then point the house towards the sky as all my new friend wave goodbye we whizz pat comet moon and star round saturn jupiter and mars see the earth see our town then crunch our house land upside down my gran wake up ohh what be that ve lose my knitting where the cat she take look around the place then laugh dream we be in space it seem quite real just for while you must have nod off smile ntiger be always get cross he get cross about everything he get cross if monkey sit in his favourite seat he get cross if little lion get in his way he even get cross if he didn get jelly for lunchl tiger be horrid when he get cross he stamp his foot he shout and yell he roll on the floor too everyone be scare of tiger when tiger have tantrum everyone run and hide on monday miss bird give out some new colouring pencil she tell everyone to draw picture of the jungle tiger want the red pencil but hippo get it first tiger get cross he snatch the pencil from hippo hippo be upset miss bird say that tiger must give the pencil back she say he have to wait for his turn for the red pencil but he didn want to wait for his turn he want the pencil now tiger have tantrum he tip the pencil all over the floor miss bird send him out of the room to calm down at playtime tiger be still feel cross he want to play football with lion but lion want to play basketball with little lion tiger snatch the ball and kick it into the middle of the swamp lion and little lion be upset they tell miss bird miss bird say tiger have to go inside and miss playtime altogether in the afternoon miss bird say she have nice surprise for everyone she say they be go to visit miss bear at the library to choose new book miss bird say everyone have to walk nicely and in two she choose hippo and elephant to be the leader but tiger have tantrum he want to be the leader miss bird say he have to walk at the back with her and be good at the library miss bear show them lot of book there be big book and small book there be fat book and thin book there be tall book and short book tiger want the book about tractor he like tractor very much he ask miss bear where he could find the book miss bear tell him to look on the shelf she tell him to have good look then tiger see the tractor book it be stick out at the end of the shelf he try to reach it but everyone be in his way he get cros he begin to push everyone out of his way miss bird tell him not to push and to wait nicely for his turn but tiger do not want to wait nicely for his turn he get crosser and crosser just then tiger see monkey he be take the tractor book off the shelf tiger have tantrum he stamp his foot he shout and yell he roll on the floor he get so cross that he knock all the book off the shelf everyone be scare they run and hide but miss bird and miss bear be not scare they be not happy that tiger be upsetting everyone else miss bird take tiger outside to talk about it she tell him to take deep breath tiger take deep breath he begin to calm down he feel sad that he have make the library mess he feel sad that he have upset everyone miss bird tell him he have to put thing right she ask him what he should do tiger have think he say he should say sorry to miss bear and to everyone he say he should tidy up all the mess in the library miss bird say that they be good idea tiger say sorry to miss bear and to everyone he put all the book neatly on the shelf then he sit quietly on beanbag and wait for everyone to finish choose their book but he be sad that he do not have the tractor book to read then monkey have good idea he ask tiger if he would like to shore the tractor book with him monkey and tiger look at the book together they look at all the tractor they talk about them too they take turn to turn over the page they take turn to talk about the picture tiger didn get cross at all miss bird be pleased she say tiger be behave nicely tiger say that it be more fun to share book with friend he say it be well not to get cross too everyone cheer nbarry timms ag uatkowska it be cold christmas eve and the snow fall thick and deep all through holly tree forest the animal scurry deliver their gift and delicious treat special delivery for badger call robin it must be christmas card say badger tear open the envelope but inside be letter from someone very special rabbit fox come quickly gasp badger santa need our help dear badger the bear of mistletoe mountain have be leave strand by the heavy snow without our help their christmas will be ruin please come at once love santa claus we re go to meet santa cheer the mouse where my woolly scarf fuss hedgehog hurry call badger unfold his map and bring plenty of hot cocoa finally everything be ready off we go they all cry whiz down through the tree towards santa grotto at last they arrive at santa home can believe we re really here gasp mole my dear friend m so pleased to see you chuckle santa step out into the snow there be drink and snack for everyone and the animal soon feel warm again let get to work say santa it time to bring christmas to the bear family there be much to be do and so little time first we will need gift say santa fetch their letter will you help me choose yes cheer the animal dear santa please may have toy train this christmas with love from billy bear dear santa d really like new teddy bear can you help lot of love betsy bear xxx dear santa please can have some ice skate bobby bear next they go into the garden to make decoration we will need pinecone holly and mistletoe say badger mouse see what you can find let make wreath for the bear front door cry fox soon everyone have job to do great work call santa with smile there be one last thing to prepare christmas feast let get cooking cheer hedgehog so they whisk and bake till the kitchen be fill with the scent of spice more icing cry squirrel hurry it be nearly time to go we re ready to load the sleigh say santa and with shake of the rein they be off a 6 high high over the treetop they fly the winter moon light their way will we make it in time call rabbit santa laugh my reindeer never let me down with snowy bump they land on mistletoe mountain the friend bustle about clear snowdrift and unpack decoration suddenly mr bear rush out santa he cry you ve bring everything we need my goodness you ve save our christmas gasp mrs bear that what friend be for chuckle santa but now must dash there be present still to deliver they wave and cheer as santa fly off into the snowy night how kind you all be say mrs bear will you join us for christmas right here on mistletoe mountain we love to say badger hooray for santa cry the young bear as they open their special gift three cheer for our new friend call mr bear raise glass of punch and with music and laughter and fun for all what wonderful christmas it be nevery who down in who ville like christmas lot but the grinch who live just north of who ville do not the grinch hate christmas the whole christmas season now please don ask why no one quite know the reason it could be his head wasn screw on just right it could be perhaps that his shoe be too tight but think that the most likely reason of all may have be that his heart be two size too small but whatever the reason his heart or his shoe he stand there on christmas eve hate the who s stare down from his cave with sour grinchy frown at the warm light window below in their town for he know every who down in who vi lle beneath be busy now hang mistletoe wreath and they re hang their stocking he snarle with sneer tomorrow be christmas it practically here then he growl with his grinch finger nervously rumme must find some way to stop christmas from come for tomorrow he know wa naodlul lttdhh ewen aw koeh hob gtiihgrehls tn aaonnisdde be ooayrhsly hteh neyo idse u nsho ifsoer nthoeiisre o nyos se that one thing he hate the noise noise noise noise then the who s young and old wo uld sit down to feast and they feast an they feast and they feast feast feast feast they would feast on who pudding and rare who roast beast which be something the grinch couldn stand in the least they do something he like least of all every wbo down in who ville the tall and the small would stand close together with christmas bell ring they stand hand in hand and the who s would start singe they sing and they sing and they sing sing sing sing and the more the grinch think of this who christmas sing the more the grinch think must stop this hole thing why for fifty three year ve put up with it now must stop this christmas from com ing but how tathhne eanw ghfuer lg iiondtec aah idea get wonderful awful idea know just what to do the grinch laugh in his throat aatrnnicddk hh ee mchaudcek lae dq aicnkd scalunctka ecdl uws hhaatt aan gdr eaa cto gatr inchy with this coat and this hat look just like saint nick all need be reindeer the grinch look around but since reindeer arc scarce th ere be none to be find do that stop the old grinch no the grinch simply say if can find reindeer will mail one instead so he call his dog max then he take some red thread and he tie big horn on the top of his head then he load some bag and some old empty sack on ramshackle sleigh and he hitch up old max then the grinch say giddap and the sleigh start down toward the home where th who s lie snooze in their town all their window be dark quiet snow fill the air all the who s be all dream sweet dream without care when he come to the first little house on the square this be stop number one the old grinchy claus hiss and he climb to the roof empty bag in his fist then he slide down the chimney rather tight pinch but if santa could do it then so could the grinch he get stick only once for moment or two then he stick his head out of the fireplace flue where the little who stocking all hang in row th ese stocking he grin be the first thing to go then he slither and slink with smile most unpleasant around the whole room and he take every present pop gun and bicycle roller skate drum checkerboard tricycle popcorn and plum and he stuff them in bag then the grinch ve ry nimbly stuff all the bag one by one up the chimbley then he slink to the icebox he take the who feast he take the wo pudding e take the roast beast he clean out that icebox as quick as flash why that grinch even take their last can of who hash then he stuff all the food up the chimney ith glee and now grin the grinch will stuff up the tree and the grinch grab the tree and he start to shove when he hear small sound like the coo of dove he turn around fast and he see small who litt le cindy lou who who be not more than two the grinch have be catch by this tiny daughter who get out of bed for cup of cold water she stare at the grinch and say santa clau why why be you take our christmas tree why but you know that old grinch be so smart an so slick he think up lie and he think it up quick why my sweet little tot the fake santa claus lie there a light on this tree that win light on on side so m take it home to my workshop my dea i will fix it up thin then will bring it back here and his fib fool the child then he pat ted her head and he get her drink and he send her to bed and when cindy lou who go to bed ith her cup he go to the chimney and stuff the tree up then he wtwehanestn uthphe tl holaegs ctf hotrhim itnhngee ihyre hitroimeo self the old liar on their wall he leave nothing but hook and some wire and the one speck of food that he leave in the house be crumb that be even too small for mouse tthhineng he do the same to the other who s house leave crumb much too small for the other who mouse it be quarter past dawn all the who s still bcd all the who s still snoozc when he pack up his sled pack it up with their present the ribbon the wrapping the tag and the tinsel the trimming the trapping three thousand foot up up the side of mt crumpit he ride with his load to the tiptop to dump it pooh pooh to the win he be grinch ish ly hum they re find out now that no christmas be come they re just wake up know just what they will do their mouth will hang open minute or two hen the who s down in who ville will all cry boo hoo satton hhdhaa ehtt eis d sauii dsmne hodpie ls ayaer mn dg us rtosihuntenn ghdede rra iitrnsh ice nh gg oruvitne chrh its hea snnd wto his ear it start in low then it start to grow but the sound wasn sad why this sound sound merry it couldn be so but it be merry very he setyaerse t dhoe nw nh ea ts hwoohko vwillhea thhee sgawri nwcahs pao pshpoecdk ihnigs surprise every who down in who ville the tall an the small be singe without any present at all hite chaamden stop christmas from coi ning somehow or other it come just the same and the grinch with his grinch foot ice cold in the snow stand puzzle and puzzle how could it be o it come without ribbon it come without ags it come without package box or bag and he puzzle three hour till his puzzler be sore then the grinch think of something he hadn before may be christmas he think doesn come from store maybe christm as perhaps mean little bit more and what happen then well in who ville they say that the grinch small heart grow three time that day and the minute his heart didn feel quite so tight he whiz with his load through the bright orning light and he bring back the toy and the food for the feast and he he himself the grinch carve the roast beast nit be night and some firefly dance around the moon at five clock in the morning the sun come up friendly ladybird fly in from the left it see leaf with many aphid on it and decide to have them for breakfast but just then bad temper ladybird fly in from th right it too see the aphid and want them for breakfast good morning say the friendly ladybird go away shout th bad temper ladybird want those aphid we can share them suggest the friendly ladybird no they re mine all mine scream the bad temper ladybird or do you want to fight me for them if you insist answer the friend ly ladybird sweetly it look the other ladybird straight in the eye the ad temper ladybird step back it look less sure of itself oh you re not big enough for me to fight it say then why don you pick on somebody big will do that screech the bad temper ladybird will show you it puff itself up and fly off at six clock it meet wasp hey you say the bad temper ladybird want to fight if you insist say the wasp show its stinger oh you re not big enough say the bad tem pere ladybird and fly off at seven clock it see stag beetle hey you say the bad temper ladybird want to fight if you insist say the stag beetle open its jaw oh you re not big enough say the bad tempere ladybird and fly off at eight clock it come across pray mantis hey you say the bad temper ladybird want to fight if you insist say the pray mantis reach out wi th its long front leg oh you re not big enough say the bad temper ladybird and fly off at nine clock it alm ost fly into sparrow hey you say the bad temper ladybird want to fight if you insist say the sparrow open its sharp beak oh you re not big enough say the bad tem pere ladybird and fly off at ten clock it see lobster hey you say the bad temper ladybird want to fight if you insist say the lobster stretch its claws oh you re not big enough say the bad temp ered ladybird and fly off at eleven clock it bump into skunk hey you say the bad temper ladybird want to fight if you insist say the skunk start to lift its tail oh you re not big enough say the bad temper ladybird and fly off at twelve noon it spot boa constrictor hey you say the bad temper ladybird want to fight if you insis s say the snake right after lunch oh you re not big enough say the bad temper ladybird and fly off at one clock it happen upon hyena hey you say the bad temper ladybird want to fight if you insist say the hyena laugh eerily and show its tooth oh you re not big enough say the bad temper ladybird and fly off at two clock it meet gorilla hey you say the bad temper ladybird want to fight if you insist say the gorilla beat its chest oh you re not big enough say the bad temper ladybird and fly off at three clock it run into rhinoceros hey you say the bad temper ladybird want to fight if you insist say the rhinoceros lower its horn oh you re not big enough say the bad temper ladybird and fly off at four clock it encounter an elephant hey you say the bad temper ladybird want to fight if you insist say the elephant raise its trunk and show its big tusk oh you re not big enough say the bad temper ladybird and fly off at five clock it meet whale hey you say the bad temper ladybird want to fight but the whale didn answer at all you re not big enough anyway the bad temper ladybird and fly off at five fifteen the bad temper ladybird say to one of the whale flipper hey you want to fight but it get no answer so it fly on at five thirty the bad temper ladybird say to the whale fin hey you want to fight but it get no answer so it fly on at quarter to six the bad temper ladybird say to the whale tail hey you want to fight and the whale tail give the bad temper ladybird such slap that it fly across the sea and across the land at six clock the bad temper ladybird arrive right back where it have start from ah here you be again say the friendly ladybird you must be hungry there be still some aphid leave you can have them for dinner oh thank you say the wet tired and hungry ladybird want to share them soon all the aphid be one thank you say the leaf you be welcome answer both the ladybird and they go to sleep the firefly who have be sleep all day come out to dance around the moon nit be big day for harry he be start at his new school he be very excited because one of his friend charlie be start that day too stegosaurus say he didn want to go not after triceratops tell him about and raaah in class mum say not to worry school would be fine harry blow his whistle just like teacher he say in two hold hand my dinosaur no talking and jump in the bucket the dinosaur do what harry say all except stegosaurus he be so nervous all his plate be rattle harry have to give him special stroke sam say you can take dinosaur to school stupid thar why her toast fall on the floor mum take harry to school mrs rance be wait at the classroom door when harry and mum get there hello harry she say welcome to your new school they all say goodbye to the mum and dad then mrs rance show harry the coat peg you can leave your lunchbox here too she say harry be too shy to say could he have his bucket back that why his dinosaur get leave outside the classroom harry miss his dinosaur so he didn like the classroom he didn like the home comer or his special work tray and he feel sorry for another new boy with digger who cry when his mum go home the boy wouldn say one single word not even his name harry sort of like the playground at playtime but it wasn much fun even the monkey bar not without his dinosaur back in class the digger boy still wouldn speak maybe he want to go to the toilet harry suggest will show him where it be shall mrs rance say good idea how thoughtful all the way to the toilet the boy keep quiet it be the same on the way back till they get to the coat then they hear voice very sad and very soft raaaaaaaaaah it say that my dinosaur say harry they miss me would you like to see them the boy nod so harry say this be my apatosaurus and my anchisaurus and my scelidosaurus this be triceratops and tyrannosaurus pterodactyl be the baby wait where stegosaurus jump out stegosaurus call harry don be shy but stegosaurus want whisper ah say harry stegosaurus say he will come out but only if he can have ride on your digger and do you know what the boy nod and pass it over when harry and the boy get back mrs rance say oh good dinosaur love dinosaur do they raaah raaaaaaaaaaaaah say the dinosaur and blow all the window open my goodness say mrs rance that be raaah they all sit down in the classroom now we re go to make new label for our coat peg say mrs rance hand up who know how to write their name the boy with the digger put up his hand and what be you go to write smile mrs rance jackosaurus say the boy it be the very first word he have speak all day and what good joke too all the other child laugh and laugh harry feel very happy charlie harry and their new friend jack sit down together at table with the dinosaur they laugh and they raaahe and they make beautiful label to show where they belong nmy father and my grandfather both like gardening very much but my grandfather use to grow stinging nettle my father didn he say they be weed and root them out why don you get rid of your nettle ask my grandfather stinging nettle grow butterfly he say go and look go and look couldn see any butterfly though my grandfather turn one of the nettle leave over to show me the bump on the back of it but didn know what they be butterfly egg say my grandfather what sort of butterfly my grandfather peer closely at the bump haven get my specs on he say but they could be tortoiseshell or peacock they both like nettle if you keep an eye on them you will see when the caterpillar hatch out win they crawl away ask my grandfather straighten up and look down at me humph he say you just keep watch so do nettle will sting you if you touch them but they win ste the caterpillar the egg be dome shape with little ridge each egg be about the size of the top of pin most butterfly lie their egg in one and two move from plant to plant peacock and tortoiseshess butterfly lay lot of egg at once nothing happen at all for two day it rain very hard on the second day but the egg be quite safe the next day there be lot and lot of little tiny caterpillar crawl on the nettle leave the egg be papery and empty squash some with my fingernail the caterpillar eat their way out of the egg when they re ready to hatch and stay together in big crowd they make web of white silk between the stem of the plant and the leave it like tent when they ve eat all the leave nearby they move on and make new tent my grandfather come over to see what be do ah he say peacock caterpillar do they eat cabbage ask d see caterpillar on cabbage he shake his head caterpillar be fussy eater if you put nettle eat caterpillar on cabbage it will set off to look for nettle and if it can find any it will sit down and die rather than eat cabbage some of the caterpillar you see on cabbage be cabbage white they love cabbage orange tip caterpillar eat lady smock and garlic mustard sometimes they eat each other comma caterpillar like hop well but sometimes they have to make do with nettle peacock small totoiseshell and red admiral caterpillar all like nettle best look at my peacock caterpillar they ere all together in little crowd eat as fast as they could win the bird eat them ask couldn we cover them up no need say my grandfather caterpillar that don hide away be really say m poisonous keep off and the bird know that he pull his pipe out of his pocket and very very gently nudge one of the caterpillar it curl itself up at once and fall off the leaf there he say even if something do come along look for snack the caterpillar may still escape can make one curl up stick my finger out don touch them my grandfather say some spiny caterpillar can give you rash and other kind leave nasty smell on your finger besides you may hurt them go on watch the caterpillar they be get big by the second saturday in july they have eat nearly all the plant they have hatch out on and be crawl over the other nettle some of them be lie completely still though and not eat at all all of sudden one of them give little wriggle and its skin split right open inside be another brand new caterpillar and it crawl out of the old skin as if it be crawl out of sleep bag it look quite fresh and clean and it seem to be big than before all the other caterpillar change skin too know something must be eat my caterpillar because by no there weren so many of them didn mind that but do mind five day later when find that every single one of them have disappear where have they go ask be close to tear pea stick say my grandfather we march round the corner of the shed to where the pea stick be sometimes one or two come here my grandfather say ah yes here we be sure enough there be one of the caterpillar hang head downwards off pea stick and to my amazement before my very eye its skin begin to peel off from its head upwards and shrivel away this time there wasn another caterpillar ready to come out instead there be something like little soft brown bag hang on the pea stick it didn have leg or eye or anything and it dry up into little case my grandfather say that be just what it be but the proper name for it be pupa but where the caterpillar go ask all the bit of caterpillar be inside the case he say and they be change just this once be allow to bring the stick with the little case on it into the kitchen watch for ten whole day and on the tenth day the pupa go very very dark the next morning be eat my breakfast when my grandfather suddenly say look rush to see and the case of the pupa have split something be crawl out but it didn look bit like butterfly it be crumple and it look damp and it wasn at all pretty colour it must have go wrong say feel very sad very gently my grandfather lift the stick and put it on the window ledge in the sunshine the creature crawl slowly up the stick and stop little by little it begin to stretch out it be just like watch flower unfold itself only it have wing instead of petal and the wing begin to tremble and to shine in the sunlight and then suddenly there it be real butterfly with spidery leg and its wing spread wide open it be so lovely that couldn say anything at all then its wing flutter and it fly off into the garden the very new butterfly there nsuperworm be super long superworm be super strong watch him wiggle see him squirm hip hip hooray for superworm help disaster baby toad have hop on to major road quick whatever can we do look superworm lasso the bee be feel bored today they need nice new game to play cheer up bee no need to mope it superworm the skip rope beetle fall in the well be she drown who can tell not to panic all be fine it superworm the fishing line then toad and beetle bee and bug brother snail and sister slug uncle ant and earwig aunt clap and cheer and chant this chant superworm be super long superworm be super strong watch him wiggle see him squirm hip hip hooray for superworm the chant be carry on the air to wizard lizard in his lair he mutter in his servant ear find that worm and bring him here the servant crow be black and grim everyone be scared of him they all let out fearful shriek to see their hero in his beak the wizard wave his magic flower now superworm you re in my power and you must tunnel writhe and coil to find me treasure in the soil superworm be very cross to have lizard as his boss but when he try to slink away the wizard magic make him stay for day he tunnel twist and wind but all the treasure that he find be two small button half cork toffee and plastic fork the lizard flick an angry tail have one last try and if you fail to find that treasure down below will feed you to my hungry crow the crow be flap through the night everyone look up in fright they see him perch upon an oak and listen to his dreadful croak superworm be good to eat superworm saspecial treat he will be juicy fat and firm hip hip hooray for superworm action quickly at the double superworm in frightful trouble we must help him if we can we must hatch cunning plan the garden creature leave their home carry honeycomb they jump and fly and crawl and creep and find the lizard fast asleep they chew the petal off his flower to rob him of his magic power the caterpillar fetch some leave while busily the spider weave the web be strong the web be tough the web be plenty big enough the wizard wake this isn funny m wrap in leave and stick with honey then up the bee and beetle fly and lift the web into the sky this be the place and bang crash thump the wizard in the rubbish dump and now from somewhere underground there come distant rumbling sound the earth begin to heave and then superworm be back again superworm the swing the slide the hoola hoop the fairground ride superworm the belt the hat the crane the train the acrobat then toad and beetle bee and bug brother snail and sister slug uncle ant and earwig aunt clap and cheer and chant this chant superworm be super long superworm be super strong watch him wiggle see him squirm hip hip hooray for superworm na young friend of elmer name rise blush from her head to her toe or sometimes instead from her toe to her head but never from her tail to her nose elmer the patchwork elephant be with his cousin wilbur they be look at the herd of elephant jolly fellow smile wilbur but not exactly unique they re all unique say elmer just not as different as us imagine herd like you or me at that moment bird arrive and say grandpa eldo want you two come on wilbur say elmer grandpa eldo be look under bush where be she he mutter then see elmer and wilbur he say she must be hide from you two she say elmer who be you talk about rose say eldo she wander away from herd of elephant that pass nearby you two can take her back to them ah there she be don be frightened rise come and meet elmer and wilbur from behind tree peep young elephant pink elephant oh say elmer and wilbur in surprise very pretty elmer add quickly rise become even pink she blush very easily whisper eldo expect that why she call rise rise say please to meet you and blush again you will find the track of the herd by the lake just follow them say eldo you will go fast than would goodbye rise rise say goodbye very sweetly blush deep pink and run after elmer and wilbur at the lake they meet another elephant rise stare and hide between elmer and wilbur hello elmer hello wilbur say the elephant hello he continue awkwardly look at rose rise say elmer helpfully after the elephant have go rise say that a strange one every so often to make the journey more fun they race each other rose love that because somehow she always win and every time she blush even pink between race wilbur play trick with his voice he make his voice roar from behind rock and shout from treetop rise squeal with excitement blush almost red and hold on to elmer trunk elmer just chuckle suddenly rise say excitedly listen they re just over the hill will go alone now you may upset the other they re quite shy you re all such unusual elephant especially the strange grey one we see thank you for bring me back come and visit us sometime elmer call after her strange grey one what do she mean ask wilbur think she be joke say elmer from the hill they watch rise safely join the herd she wasn joke say elmer no wonder she find the grey elephant strange the elephant in rose herd be all pink go home elmer and wilbur be meet by eldo you know about the pink elephant didn you grandpa eldo say elmer yes want you to see them say eldo rose be nice say wilbur think she be unique and she think the grey elephant be unique they re probably all nice unique or not say elmer wilbur grin remember what you say elmer imagine herd like one of us especially like you elmer laugh eldo elmer smile and say nothing he be imagine herd of elephant like himself nknock knock who at the door woah one real live dinosaur he smile at me he wave his claw say hi and he say roarrrrr my mum in town try to say we weren expect guest today but the rex sniff and rub his tummy he think mum apple pie smell yummy say perhaps you like some lunch he thunder past then munch crunch crunch this be kind of fun think as pour the dinosaur drink but something make dreadful crash it two triceratops thump bump bash then three stegosauruses clump upstairs oh help there be dinosaur everywhere this be not good what shall do they re coin through the window and down the chimney too four velociraptor be draw on the wall five allosauruses skateboard down the hall the kitchen in chaos the dining room a mess and who in the garden be anybody guess from upstairs come bubbly laugh there be six apatosaurus splash in the bath from in mum room come snort and squeak as seven small iguanodon play hide and seek oh goodness this have go too far someone wear mum new bra eight giganotosauruse have knicker on their head and nine oviraptor be jump on the bed _ hey yell you can do that ten pterodactyl play catch dad hat boing boing the bath go splosh the mirror smash the bed spring groan vase go crash that it say you ve have your fun it time to go now off you run but the dinosaur beg oh let us stay we re have such lovely play stamp my foot grab the mop then shout out everybody stop the rex shrug you pay for us so what the point of all this fuss just read this note you will see we re right it say so here in black and white read the note rub my eye size dinosaur play set actual actual size oh silly me think you all be small you see but actual size mean you re enormous like real tyrannosaurus dinosaur play set home dino stiff dino play set your account you order one dino play set actual size it seem mum make small mistake an error anyone could make she didn read the small print right when she click order late last night just then hear car arrive its tyre be crunch up the drive mum home cry now we re in trouble just look at all this dust and rubble she win be happy not at all to see those claw mark on the wall don worry say the dinosaur we re use to do household chore then round and round the house they rush so when mum walk in through the door the house be clean than before she put her heavy shopping down what happen while ve be in town not much say stay indoors play with my dinosaur nhigh up on the ceiling squash the spider be wait to pounce billy come in to watch v and eat his supper tee hee he settle in front of the telly billy be just about to take great big bite out of his sandwich when boo yuk scream billy mum squash the spider but when billy mum rush in the spider be go after supper it be billy bedtime goodnight mum he call billy snuggle under his cover and be soon fast asleep in secret hiding place squash be already snore dream up his next trick at school the next day billy and his friend sit down on the story mat ssh let start with nice quiet story whisper the teacher open her book all about very noisy spider eek squeal the teacher squash the spider squash jump yuk cry the whole class where he go but squash have completely disappear at lunchtime billy be in the playground with his friend m not really scared of spider he explain be only pretend me too say jo who want crisp what flavour ask billy reach into the bag spider flavour yuk scream billy squash the spider jo grab squash m not scare she say look jo open her finger squash wriggle his long spidery leg and yuk she hold it gross whizz he shoot straight up jo sleeve yuk get him out jo wriggle and squiggle and flap and squash fly out of jo other sleeve and tumble to the ground tee hee disgusting jo cry squash the spider uh oh stop don squash the spider phew that be close gasp squash on the way home but ve learnt my lesson will never ever ever scare anyone again promise ask billy promise say squash and from that day on squash the spider never shout boo and never ever scare anyone again well almost never nslick man live in the family tree with his stick lady love and their stick child three one day he wake early and go for jog stick man oh stick man beware of the dog stick bark the dgs an excellent stick the right kind of stick for my favourite trick will fetch it and drop it and fetch it and then will drop it and fetch it and drop it again m not stick why can you see m stick man m stick man m stick man that me and want to go home to the family tree notice say dog must be keep on the lead at last the game over and stick man be free he set off for home with hop and twirl stick man oh stick man beware of the girl stick cry the girl with smile on her face the right kind of pooh stick for win the race have everyone get one get ready to throw it 1 2 3 into the river they go m not pooh stick why can they see m stick man m stick man m stick man that me and m head away from the family tree stick man be float he float on and on stick man oh stick man beware of the swan twig say the swan this twig be the good it the right kind of twig to weave into my nest m not twig why can they see m stick man m stick man m stick man that me and long to he back in the family tree the nest be desert and stick man be free he drift down the river and sail out to sea he toss and turn till the frolic foam wash him up on beach far from home here come dad with spade in his hand stick man oh stick man beware of the sand mast yell the dad an excellent mast hooray there a flag on our castle at last m not mast for silly old flag or sword for knight or hook for bag m not pen m not bow m not bat or boomerang no m stick man oh stick man beware of the snow here come boy in warm woolly scarf an arm for my snowman he say with laugh m not an arm can nobody see m stick man m stick man m stick man that me will ever get back to the family tree stick man be lonely stick man be lose stick man be freeze and cover in frost stick man be weary his eye start to close he stretch and yawn and lie down for doze he can hear the bell or the sweet singing choir or the voice say here a good stick for the fire stick man be lie asleep in the grate can anyone wake him before it too late he dream of his kid and his stick lady love then suddenly wake what that noise up above it start as chuckle then turn to shout oh ho ho ho ho m stick gel me out stuck man stuck man now who could that be don worry cry stick man will soon set you free scratch and scrape and flurry of soot wiggle jiggle and out poke foot shove and nudge hop and jump and santa fall into the room with thump stick man oh stick man you excellent friend thank thank million thank without end then stick man help santa deliver the toy to fast asleep girl and to fast asleep boy fast and fast they fly through the snow till santa say only one chimney to go stick lady lonely the child be sad it win feel like christmas without their stick dad they toss and they turn in the family bed but what be that clatter sound overhead someone be tumble into their house be it bird or bat or mouse or could it yes could it just possibly be m stick man m stick man m stick man that me and m stick right here in the family tree yippeeee it nearly christmas sing bubble and we re go to granny add squeak as he help mummy pack his snowflake pyjama hurry up then smile mummy it a long drive wish we could fly to granny sigh bubble like santa in his sleigh oh no bubble squeak cry how will santa know we re at granny he may come here easy peasy say bubble we will tell him we will scooter to lapland pogo over the penguin and hitch ride to the north pole wow have we get time for all that say mummy how about write santa letter clever mummy say squeak as they get to work let make it really big so santa see it agree bubble with snowy sparkle and glittery glue they make the most magnificent letter ever write santa address huge to make sure it get there bubble tell squeak as daddy help them post the letter but just as it plop through the slot squeak cry bubble we forgot to tell santa granny address how will he know where to go know say bubble we will bake bazillion carroty cookie and leave trail for rudolph to follow sound yummy say daddy as they whiz home but granny wait to see us could we just leave santa map clever daddy say squeak together they help daddy draw map and pin it to the door then they help mummy pack the car hooray we re off to granny everyone cheer as they squash the boot shut on the way they count christmas tree ve see two six twenty yell bubble ve see eighty numpty nine cry squeak that not number bubble giggle it be it be isn it daddy shout squeak be we nearly there yet sigh daddy at last they see granny house sparkle in the snow grannyyyy yell bubble and squeak jump into big granny hug my favourite little mouse she beam then bubble suddenly stop oh no he gasp stare at granny roof granny where your chimney cry bubble there isn one squeak squeak how will santa get in they both wail don worry smile granny ve be very busy while be wait for you bubble and squeak follow granny into her garden wow they gasp it my super swishy santa slide say granny clever granny cheer squeak santa sure to find us now cry bubble the little mouse swoop and swish down santa slide until the star begin to twinkle and granny call cocoa time after cocoa and kiss they wriggle into their pyjama and granny read them bedtime story thank for make sure santa find us bubble yawn squeak as the pair snuggle down to sleep hope he bring you lovely present and guess what santa do npercy the park keeper couldn sle ep outside his hut great storm be rage with hunder and lightning and pour rain percy wasn frighten by the thunder and he love to watch the lightning as it light up the whol park he didn even mind the rain but there as one thing that percy didn like he didn like the wind it blow down fence in the park and rip branch es off the tree he didn like it one bit oh dear he sigh as he watch from his window the wind tug at the tree make them creak and groan it look like m go to be busy tomorrow he pull his pillo over his head and try to get to sleep percy be up early in the morning the ind have stop and the sky be clear percy load up his wheelbarrow with all the thing he would need to make repair and clear up after the storm then he set off to inspect the damage he feel happy as he take deep brea ths of the fresh clean air erhap the damage wouldn be too bad but he be wrong something dreadful have happen great big oak tree that have stand by itself on top of little hill have be blow over by the storm the giant tree have be one of percy favourite now it look very sad lie on its side with its mass of tangly root stick up into tire air but it wasn just one of percy favourite tree some of percy animal friend live there now their home be wreck percy hurry up to the fall tree the animal be gather by the tree looki ng cross and unhappy when they see percy everyone st arte talk at once percy sit down with his friend and liste ned as they tell how the storm have bring down the great tree and now we have nowhere to live say the badger some of us live in the tree and some of us live under it but we re all homeless now some of the rabbit look close to tear and the fox be very sniffy percy pass him his handkerchief and the fox bl ew his nose percy stand up we will just have to find you somewhere else to live he say come on everybody jump into my wheelbarrow the ani mals feel well now that percy be with them first he take them to the pine ood but nobody want to live there too dark squeak the mouse too gloomy say the hedgehog so percy take them to the shrubbery but no bnood yb iwg atnreteeds to olimvep ilnai tnheed thhreu sbqbueirr yr eelist er no big root moan th rabbit never mind say percy we will try across the stream dbsauagmysnm ooelrfd he percy begin to push the heavy wheelbarrow over the little bridge that cross the stream but as he get to the middle of the bridge two thing happen percy stumble and the wheelbarr ow decide to see what it would be like to be boat sp lash suddenly percy and his friend fou nd themselves drift downstream to where the stream open out into la ke percy stand up and look around we will have to paddle back to the shore he say but then something catch his eye no wait say percy let paddle across to the other side of th lake have an idea the animal look puzzle what be percy up to slowly they paddle the wheelbar row across the lake here we be say percy the squirrel jump ashore and tie uenpo trhme owuhse heolbl laorwro twre eto hthaet groreowts bofy atnh water edge now this be my plan say percy everyone gather round as percy explain his idea be ever ybody clear everyone nod then let get to work they begin by unload all perc s tool and the plank of wood from the wheelbarrow then percy explain exactly hat he want each one to do he show the badger how to use saw and he show the squirrel how to knock in nail the fox drill hole and the rabbit screw in screw the mouse be kep busy fetch and carry for everyone else at lunchtime they take short break to share some of percy pean ut butter sandwich then they get busy again at long last their work be finish very tired percy stand back to admire their handiwork now the squirrel have brand new home and so do the mouse the rabbit have new home and so do the badger and the fox and the hedgehog in fact every one of percy friend have fine new place to live wtheilsl ids otnhee ebveesrt ytbreoed yh u ssae iid vpee rcy ever see what about you percy call the badger aren you go to join us percy smile think will stick to my old hut he say besides say percy take an acorn out of his pocket still have one job leave to do back at the little hill ni mummy and daddy why be we unhappy we re here to protest against wear nappy why win you let us run round in the nude bottom be beautiful bottom aren rude and when we be potty train what do you do you make us put pant on and this we pooh pooh do piglet wear pantie or puppy or bear do fox cubs wear boxer no nobody care do kitten wear knicker do bunny wear bloomer do calf put on bra to disguise their bazoomer be tiger cub make to run round in their trunk and what about squirrel and what about skunk do bat wear bikini do badger wear brief do bullock wear breech to hide their beneath do lion wear loin cloth to keep out the breeze do donkey wear droopy drawer down to their knee do wombat think ooh must cover my willy no they do not because that would be silly do penguin or python or panda wear undie no they do not no not even on sunday do elephant have to walk round in their small ashamed they will blush if visitor call no they do not because nobody mind so why can the rest of us bare our behind bottom be truly wonderful thing we can sit on it shuffle and shimmy and swing so why must you wrap us in paper and plastic and tickle our tummy with knicker elastic down with our pant fling those nappy away bottom up baby and toddler hooray nthere once be duck who have the bad luck to live with lazy old farmer the duck do the work the farmer stay all day in bed the duck fetch the cow from the field how go the work call the farmer the duck answer quack the duck bring the sheep from the hill how go the work call the farmer the duck answer quack the duck put the hen in their house how go the work call the farmer the duck answer quack the farmer get fat through stay in bed and the poor duck get feed up with work all day how go the work call the farmer the duck answer how go the work call the farmer the duck answer quack quack how go the work quack how go the work quack how go the work quack how go the work quack how go the work quack how go the work quack the poor duck be sleepy and weepy and tired the hen and the cow and the sheep get very upset they love the duck so they hold meeting under the moon and they make plan for the morning moo say the cow baa say the sheep cluck say the hen and that be the plan it be just before dawn and the farmyard be still through the back door and into the house creep the cow and the sheep and the hen they steal down the hall they creak up the stair they squeeze under the bed of the farmer and wriggle about the bed start to rock and the farmer wake up and he call how go the work and they lift his bed and he start to shout and they bang and they bounce the old farmer about and about and about right out of the bed and he flee with the cow and the sheep and the hen moo and baa and cluck around him down the lane moo through the field baa over the hill cluck and he never come back the duck awake and waddle wearily into the yard expect to hear how go the work but nobody speak then the cow and the sheep and the hen come back quack ask the duck moo say the cow baa say the sheep cluck say the hen which tell the duck the whole story then moo and baa and cluck and quack they all set to work on their farm nsome vegetable be freeze for very good reason don believe me then keep read it be night time in the supermarket and all be quiet but crash bang something have escape from the freezer something small and round and green something look for trouble big trouble help help cry carrot m stick to the conveyor belt aargh cry broccoli someone draw on my face draw on my face hummmmpfff cry cucumber who be do this and be there anyone who could help these vegetable in distress supertato to the rescue he use his super speed he use his super strength he use flannel and some soapy water know who behind this say supertato there a pea on the loose oh no not pea everyone gasp yes pea but m out of the freezer now and m never go hack mwah ha ha ha ha and the evil pea run off to commit more terrible crime time for dip little veggie that enough shout supertato he leap towards the pea but the pea pop out of his hand and vanish into thin air supertato set out on super search he creep through the cake check the cheese arid sneak up on the bean then something catch his eye the game up yell supertato but the pea bounce out of reach and onto trolley supertato be just about to stop him with his super strength when the trolley crash and he be throw down into the icy depth of the freezer be this the end for supertato gasp not quite but the pea be off his trolley and lie in wait you re finish supertato he shriek but supertato summon up all his strength and run for it the pea nearly have him at the bean and close in on him at the cheese he have him corner at the cake so much for supertato screech the pea you re about to be mash potato surely this be the end for supertato not today my friend say supertato gotcha mmmppfff say the pea oh yes say supertato set my trap and you fall for it or should that be in it and he grin super grin supertato have save the day take him away he say and the pea be march back to the freezer where he belong this jelly taste of pea say broccoli and everybody laugh and cheer so remember folk some vegetable be freeze for very good reason maybe you well go and check your freezer just in case there an escapee in your house nit be shock for harry when his robot fall over it be just do nice march and suddenly its light go out harry hear nan cough in the yard so he run out to show her some of the robot battery have leak onto its wire they put him in parcel and send him to the robot hospital they will know how to mend him nan say harry want to make another robot to play with while he wait for his march robot to come back nan say good idea we will use my good scissor if you like they lay the thing ready on the table but they never get start mum make nan go to bed her cough be so bad when harry wake up the next morning there be no nan the ambulance have come in the night she have to go into hospital mum say for her bad chest that day sam watch tv lot harry start make robot all by himself he want to use nan good scissor nan have say he could but sam say no those be nan that be why harry throw his stegosaurus at her mum take him to settle down she say he could use nan good scissor if nan have say so but only while she be watch he have to be very careful though because they be sharp harry work hard all morning until there be new robot special one harry teach it march he teach it talk but most of all he teach it blast the robot say ha lo har ree have you get cough blaaast the hospital be big but they find nan in there mum say sam and harry have to wait outside nan room they wave through the window but nan do not open her eye sam and mum whisper with the doctor so harry slip into the room just him and the special robot he put the special robot by nan the robot say ha lo nan have you get cough she open one eye it wink the robot say will blast your cough blaaast that be when mum run in say harry no but the doctor say not to worry it be fine robot would be nice helper for nan that evening harry be very busy he join he stick he paint and harry make five more special robot to look after nan the robot guard nan they march for her they blast her cough and soon she be well nan come home and unpack her thing you re good looker afterer she whisper and my special robot say harry oh yes them too say nan d like to keep them by me do you mind harry do not mind at all nan go out into the yard to see how the chicken be get on they be just fine that afternoon parcel arrive it be the march robot back from the robot hospital his light go on and he do nice march good as new njake say goodbye at the school door come and have cuddle say mum mum say jake don want cuddle everyone will think m baby and jake run off to play but at the end of the day thing hadn all go jake way and he be hear to say where my cuddle you say you didn want it so give it to dad say mum so jake say to dad where my cuddle give it to the cat say dad jake go to the cat where my cuddle he say ei give it to witch she say because she give me nice fish jake go to the witch and say where my cuddle tve give it to wizard say the witch because his spell go wrong so jake go to the wizard where my cuddle he say goodness say the wizard give it to knight inarmour who be off to see dragon jake find the knight where my cuddle say jake ei give it to the princess say the knight jake go over to the princess where my cuddle it be good cuddle and it make me brave say the princess so give it to the dragon and tame him with it jake say to the dragon that no way to ask say the dragon can have my cuddle please say jake and the dragon give him cuddle jake ride home with the knight and the princess and the dragon just in time for tea and after tea mum put him to bed and say now where my cuddle please well say jake want to keep it what if give you another one say mum cuddle jake then will give you this one say jake but be careful who you give it to nthere be nothing the innkeepe like more than good night sleep but that ight there be knock at the door no room say the innkeeper but we re tired and have travel through night and day there only the stable round the back here two blanket sign the register so they sign it mary and joseph then he shut the door climb the stair get in to bed and go to sleep but then later the re be another knock at the door excuse me wonder if you could lend us another small blanket there on small blanket say the innkeeper then he shut the door climb the stair get in to bed and go to sleep but then bright light wake him up that all need say the innkeeper then he shut the door climb the stair draw the cu rtains get into bed and go to sleep but then there be another knock at the door we be three shepherd well what the matter lose your sheep we ve come to see mary and joseph round the back say the innkeeper then he shut the door climb the stair get in to bed and go to sleep but then there be yet another knock at the door we be three king we ve come round the back he slam the door climb the stair get into be and go to sleep but then chorus of singing wake him up right that do it so he get out of bed stomp down the stair throw open the door go round the back storm into th stable and be just about to speak when ssshh whisper everybody you will wake the baby baby say the innkeeper yes baby have this night be bear oh say th innkeeper look crossly into the manger and just at that moment suddenly amazingly his anger seem to fly away oh say the innkeeper isn he lovely in fact he think he be so special so that they could come and he wake up all the guest at the inn have look at the baby too n nnan think the attic need clear out she let harry help harry find an old box all grey with dust he lift the lid dinosaurs harry take the dinosaur downstairs he unbend the bent one he fix all the broken one he get up on chair and wash them in the sink nan come to see and say just what do you think you re up to dinosaur don like boxes harry say they want to be in bucket sam come in from watch tv she say it be stupid fussing over so much junk dinosaur aren junk harry say the next day harry go to the library with mum he take the dinosaur in their bucket he find out all the name in book and tell them to the dinosaur he speak softly to each one he whisper you be my scelidosaurus you be my stegosaurus you be my triceratops and there be enough name for all the apatosaurus and anchisauruse and tyrannosauruse the dinosaur say thank you harry they say it very quietly but just loud enough for harry to hear after that the dinosaur go everywhere in harry bucket they go shop they go to the garden centre they go to the beach when harry have bath the dinosaur have bath when harry go to bed the dinosaur go to bed sometimes they get leave behind but they never get lose for long because harry know all their name and he always call put their name just to make sure they be safe one day harry go on train with nan he be so excited he forget all about the bucket nan dry his eye never mind she say will buy you nice new video harry watch the dvd with sam it be nice but not like the dinosaur at bedtime harry say to mum 1 like dvd but 1 like my dinosaur well because you can fix them you can bath them you can take them to bed and good of all you can say their name harry be still upset at breakfast next morning sam say dusty old junk that be why sam book get milk on it nan take harry to his room to settle down later nan take harry back to the train station to see the lost property man the man say dinosaur yes we have find some dinosaur but how do we know they be your dinosaur harry say will close my eye and call their name then you will know and harry close his eye and call the name he call come back my scelidosaurus stegosaurus come back my come back my triceratops he call come back to the apatosaurus and the anchisauruse and the tyrannosaurus and all the lose old dinosaur and when he open his eye there they be all of them stand on the counter next to the bucket all correct say the man these be definitely your dinosaur definitely and the dinosaur whisper to harry they whisper very quietly but just loud enough for harry to hear they say you be definitely our harry definitely go home from the station harry hold the bucket very tight nan say to the neighbour our harry like those old dinosaur definitely whisper harry and my dinosaur definitely like me endosaurus nwe re go on lion hunt we re go to catch big one we re not scare be there before we re go on lion hunt we re go to catch big one we re not scare be there before oh no long grass can go over it can go under it can go around it have to go through it swish swash swish swash we re go on lion hunt we re go to catch big one we re not scare be there before oh no lake can go over it can go under it can go around it have to go through it splish splash splish splash we re go on lion hunt we re go to catch big one we re not scare be there before oh no swamp can go over it can go under it can go around it have to go through it squish squelch squish squelch we re go on lion hunt we re go to catch big one we re not scare be there before oh no big dark cave can go over it can go under it can go around it have to go through it in we go tiptoe tiptoe but what that one shiny wet nose one big shaggy mane four big furry paw it a lion back through the cave tiptoe tiptoe back through the swamp squish squelch squish squelch back through the lake splish splash splish splash if back through the long grass swish swash swish swash all the way home slam the door crash well catch lion tomorrow instead nthe wheel on the bus go round and round round and round round and round the wheel on the bus go round and round at the zoo th the bear on the bus go brum brum brum brum brum brum brum brum brum the bear on the bus go brum brum brum at the zoo the penguin on the bus go flip flap flop flip flap flop flip flap flop the penguin on the bus go flip flap flop at the zoo the warthog on the bus go snort snort sneeze snort snort sneeze snort snort sneeze the warthog on the bus go snort snort sneeze at the zoo the hippos on the bus go squish squash squeeze squish squash squeeze squish squash squeeze the hippos on the bus go squish squash squeeze at the zoo the tyre on the bus go hiss bang pop hiss bang pop hiss bang pop the tyre on the bus go hiss bang pop at the zoo i t the creature on the bus tip upside down upside down upside down the creature on the bus tip upside down at the zoo the meerkat on the bus go slip slip slide slip slip slide slip slip slide the meerkat on the bus go slip slip slide at the zoo the tiger on the bus go roar roar roar roar roar roar roar the tiger on the bus go roar roar roar at the zoo the croc on the bus go snap snap snap snap snap snap snap snap snap the croc on the bus go snap snap snap at the zoo the skunk on the bus go stink stink stink stink stink stink stink stink stink the skunk on the bus go stink at the zoo the owl on the bus go blink wink blink blink wink blink blink wink blink the owl on the bus go blink wink blink at the zoo everybody off no pushing please the jumbo on the bus go puff puff puff puff puff puff puff puff puff the jumbo on the bus go puff puff puff at the zoo the creature on the bus go dap clap dap clap clap clap clap clap clap the creature on the bus go clap clap clap at the zoo all aboard all aboard and off we go the wheel on the bus go round and round round and round round and round the wheel on the bus go round and round at the zoo neddy off to find his teddy eddy teddy name be freddy 1 he lose him in the wood somewhere it dark and horrible in there help say eddy m scare already want my bed want my teddy something make him stop he tip toed on and on quite still until look out he think there something there what that giant teddy bear be it freddy say eddy what surprise how do you get to be this size you re too big to huddle and cuddle he say and will never fit both of us into my bed then out of the darkness clear and clear the sound of sob come near and near soon the whole wood could hear the voice bawl how do you get to be tiddly and small you re too small to huddle and cuddle it say and you will only get lose in my giant sized bed it be gigantic bear and tiddly teddy stomp towards the giant teddy and eddy my ted gasp the bear bear scream eddy boy yell the bear my teddy cry eddy then they run and they run through the dark wood back to their home as quick as they could all the way back to their snuggly bed where they huddle and cuddle their own little ted nthe gruffalo say that no gruffalo should ever set foot in the deep dark wood why not why not because if you do the big bad mouse will be after you meet him once say the gruffalo meet him long long time ago what do he look like tell us dad be he terribly big and terribly bad can not quite remember the gruffalo say then he think for minute and scratch his head the big bad mouse be terribly strong and big scaly tail be terribly long his eye be like pool of terrible fire and his terrible whisker be tougber than wire one snowy night when the gruffalo snore the grruffalo child be feel bored the gruffalo child be feel brave so she tiptoe out of the gruffalo cave the snow fall fast and the wind blow wild into the wood go the gruffalo child aha oho trail in the snow whose be this trail and where do it go tail poke out of logpile house could this be the tail of the big bad mouse out slide the creature his eye be small and he didn have whisker no none at all you re not the mouse not say the snake he down by the lake eat gruffalo cake the snow fall fast and the wind blow wild m not scare say the gruffalo child aha oho mark in the snow whose be these claw mark where do they go two eye gleam out of treetop house could these be the eye of the big bad mouse down fly the creature his tail be short and he didn have whisker of any sort you re not the mouse toowhoo not but he somewhere nearby eat gruffalo pie the snow fall fast and the wind blow wild m not scare say the gruffalo child aha oho track in the snow whose be this track and where do it go whisker at last and an underground house could this be the home of the big bad mouse out slink the creature his eye weren fiery his tail wasn scaly his whisker weren wiry you re not the mouse oh no not me he under tree drink gruffalo tea it all trick say the gruffalo child as she sit on stump where the snow lie pile don believe in the big bad mouse but here come little one out of his house not big not bad but mouse at least you will taste good as midnight feast 1 wait say the mouse before you eat there a friend of mine that you ought to meet if you will let me hop onto hazel twig will beckon my friend so bad and big the gruffalo child unclenche her fist the big bad mouse so he doc exist the mouse hop into the hazel tree he beckon then say just wait and see out come the moon it be bright and round terrible shadow fall onto the ground who be this creature so big bad and strong his tail and his whisker be terribly long his ear be enormous and over his shoulder he carry nut as big as boulder the big bad mouse yell the gruffalo child the mouse jump down from the twig and smile ah oho print in the snow whose be these footprint where do they go the footprint lead to the gruffalo cave where the gruffalo child be hit less brave the gruffalo child be hit less bored vv and the gruffalo snore and snore and shore nelephant be very selfish he would not share anything he would not share his sweet he would not share his toy he would not even share his game he always keep everything for himself at school he would not share his paint even when monkey run out of yellow paint and could not finish his picture elephant say the paint be his and he do not want to share them monkey think he be mean at break he would not share his snack even when hippo forget to bring his own snack to school elephant say he want his snack for himself hippo think he be very mean on friday elephant be really selfish he would not share any of the book in the library corner little lion say elephant do not need all the book at once he say elephant could only read one book at time but elephant say he want all the book for himself little lion tell miss bird miss bird say elephant could not stay in the library corner if he do not share nicely at playtime elephant find an old football under bush everyone want to play with it but elephant say he find it so it be his football and he do not have to share it if he do not want to his friend get cross they think he be mean not to share on saturday morning elephant gran come to visit she have nice surprise for elephant it be new bat and ball set it have shiny red ball and big wooden bat with bright blue handle elephant think it be the good bat and ball set in the world o r first of all elephant throw the ball he throw it really hard it go long long way then elephant swing the bat it swing really well elephant be very pleased next elephant try to throw the ball and bat it but it be no good then he try to bat the ball and catch it but that be no good either elephant be not please his new bat and ball set be no fun at all elephant go off to find his friend they be by the swamp they be play with an old bat and ball set the ball be not shiny at all and the bat handle be bent and broken but everyone be have lot of fun elephant tell his friend about his new bat and ball set he tell them about the shiny red ball and the big wooden bat with the bright blue handle but no one be interested they be have too much fun play together with the old bat and ball set then elephant ask if he could play too but everyone say no they say he do not share with them ever so they do not want to share their game with him elephant go home he feel very sad elephant see gran in the garden she ask him why he be sad he tell her that his friend do not want to share with him because he have never share with them he say he wish he could put thing right gran tell him to think about how he could do that elephant have good think he say he should say sorry to his friend for be so selfish he say he should ask his friend to come and play with his new bat and ball set gran say that they be good idea elephant find his friend he say he be sorry for not share with them he promise never to be selfish again then he ask them if they would like to come and play bat and ball at his house everyone say yes o t 23 everyone like elephant new bat and ball set they like the shiny red ball and the big wooden bat with the bright blue handle elephant let everyone take turn at swinge the bat he let everyone take turn at throw the ball next they all play game together everyone say it be the good game ever elephant be pleased soon it be time for tea gran have make large cake with lot of cherry on the top it look delicious elephant cut the cake into slice he make sure everyone have fair share he make sure everyone have cherry too he say it be nice to share thing with your friend and much more fun everyone agree nit cold in the park in winter but percy the park keeper doesn mind he put on his warm coat and his big scarf and wear two pair of woolly sock inside his wellington boots percy like to be out in the fresh air in the middle of the park there be little hut this be where percy live when it get too cold to be outside percy go into his hut where it cosy and warm the animal who live in the park all know percy hut every day he share his lunch with them one winter night it be so cold it begin to snow great big snowflake fall past the window of percy hut brrr say percy think will need an extra blanket tonight he make himself some hot cocoa and get ready for bed suddenly percy hear tap sound there be somebody at the door now who can that be at this time of night think percy he go to the door and look out there on the step be squirrel it look very cold and miserable can get to sleep percy say the squirrel my bed be full of snow oh dear say percy never mind ve get plenty of room for two the squirrel snuggle down next to percy and soon begin to feel warm knock knock it be the door again now who can that be think percy stand outside be two shiver rabbit it f freeze say one rabbit we re frozen say the other you poor thing say percy come in and warm up the rabbit squeeze into the bed next to percy and the squirrel there wasn much room gould you face the other way percy ask the squirrel your tail be tickle my nose knock knock oh dear say percy now there someone else at the door it be fox he look very cold and hungry can come in too he ask percy scratch his head and think for minute well if you promise to behave he say promise say the fox and he squeeze into bed next to all the other animal bump oops the squirrel fall out who do that ask the squirrel crossly knock knock knock good gracious say percy it the door again this time percy have quite surprise there on the step be badger two duck hedgehog and whole family of mouse they all want bed for the night poor old percy and poor old percy bed the animal push and shove and roll around the bed but there be just not enough room for them all soon the bed cover end up in big tight ball then bump the cover roll right off the bed and everybody fall onto the floor oh dear say percy this win do at all my bed be just too small suddenly one of the mouse prick up his ear what that noise he squeak everyone listen hard now they could all hear it there be scratch scrape sound it seem to be come from underneath them there something move under the floor whisper percy the animal look frightened and the mice all start to squeak at once oh dear what can it be it may be monster with fierce claw and sharp tooth the noise grow louder and loud then one of the floorboard begin to move look out it come up through the floor suddenly there be loud creak help cry the animal and they all run to hide but percy wasn frighten he start to chuckle then he laugh out loud small dark head be stick up through the floorboard this isn a monster say percy it a mole m sorry to burst in like this say the mole knock on the door but nobody hear me percy help the mole up through the hole in the floor sit him on his hot water bottle to get warm and put the floorboard back it all right everyone he call you can come out now but nobody move nobody stir nobody want to come out the squirrel be tuck away in the pocket of percy dress gown the hedgehog be in his coat the fox the rabbit the badger and the duck be all safely hide away the mice have even squeeze themselves into percy slipper everyone have find cosy bed well never say percy percy yawn and snuggle down in his own bed once again that well now ve get plenty of room he say and little to spare for mole nin tower forest where summer have be the cool air bit fresh and the moss grow green and as autumn edge in and the sky rage red the sleepy creature get ready for bed while up in tree swing flighty young squirrel who everyone know as spontaneous cyril now most foresty folk have see to their need through the plentiful month of mushroom and seed they build up their store so they all be well feed through the frosting of winter that glitter ahead but cyril he live in the now and the here he adventure and partie his way through the year so his cupboard be empty his hollow be bare he hadn a mouthful of food anywhere but wait what be that over there take look single lone pine cone wedge in nook he squeal with delight and for very good reason for inside be the very last nut of the season but cyril wasn alone there be more hungry eye yes plan ahead bruce have his sight on the prize though he gather mountain of bounty hard fight bruce be convince he be one pine cone short simply must have it he wistfully cry as he dream of the fresh juicy pine nut inside so as cyril set off on his way to the ground bruce he be also last pine cone bind they sprint and scurry with no time to gamble they scratch at the bark in their scamper scramble but their panic and haste shake the tip of the spruce and the pine cone it tremble and then it come loose both squirrel give chase at lighten pace this be the start of wild nutty race it mine shout cyril no mine holler bruce you don stand chance give up it no use m hungry cry cyril this cone be not yours stay back shout bruce this cone for my store it boinge over bush and fly through the air it binge on the nose of slumber bear it bounce over boulder then come to stop then teeter and wobble and quiver and plop both squirrel follow oh the water be fast would they learn that they need each other at last each but be intent on how he could win so they didn quite notice bird sweep in cyril and bruce they watch in dismay as their cone disappear up up up and away come back shout cyril they re our nut exclaim bruce but all hope be go it be simply no use and meanwhile they drift right up to the ledge greed it be drive them over the edge cyril and bruce they have take fall they be pay the price for want it all they squander their chance to team up and share would their nutty young hope simply end in despair bruise and bedraggled they sweep past dry land cyril grab at branch with tremble hand catch bruce with the other he heave and he huff and drag him to safety with panting and puff let out snort how silly we be he proclaim all jiggle how greedy ve be splutter bruce with giggle we shall change from today may the squabbling cease we should celebrate see we re both in one piece from that day and forward they make great pair they would gather together and find they could share yes cyril and bruce they know in the end the good thing to share be laugh with your friend nthis be arthur and this be the truth arthur and the truth be not the good of friend right now because today this happen which cause this and also this the truth be arthur know he do wrong because his mum have tell him he wasn to ride his brother big bike so when his friend noah ask what have happen arthur try bend the truth just little bit this supercool princess ask if she could have go on my brother bike she never ride one before and bash into my mum car she didn even say sorry uh oh bet your mum go to be really cross say noah that wasn exactly what arthur want to hear so when his friend lula ask him what have happen arthur try stretch the truth instead be just have little go on my brother bike when an alien ask if he could borrow it he say he need it to get home think he think it would fly uh oh bet your mum not go to be very pleased sigh lula that wasn exactly what arthur want to hear either arthur decide that more drastic action be need he try cover up the truth disguise it hide it but it refuse to stay cover up or disguise or hide so when little frankie ask arthur what have happen arthur decide just to ignore the truth altogether it have nothing to do with me my brother bike just transform into giant robot and mum car do too there be h uge fight and mum car win cooool say little frankie bet your mum will be pleased about that err hope so say arthur arthur it be mum time for arthur to face the truth he look the truth square in the eye the truth look back arthur do you have something to tell me ask his mum what will arthur do what would you do well arthur say something that surprise even him it be me do it sorry and that turn out to be all right actually although mum wasn too happy about her car and the bike she be pleased that arthur have tell her the truth so what start out as bad day finish up be good day for arthur and now arthur and the truth be the good friend of and arthur never ride his brother big bike again well not anywhere near his mum car i ve lose my mum hush little monkey don you cry will help you find her say butterfly let have think how big be she she big say the monkey big than me big than you then ve see your mum come little monkey come come come no no no that an elephant my mum isn a great grey hunk she hasn get tusk or curly trunk she doesn have great thick baggy knee and anyway her tail coil round tree she coil round tree then she very near quick little monkey she over here no no no that a snake mum doesn look bit like this she doesn slither about and hiss she doesn curl round nest of egg and anyway my mum get more leg no no no no no no it leg we re look for now you say know where she be then come this way no no no that a spider mum isn black and hairy and fat she not get so many leg as that she rather eat fruit than swallow fly and she live in the treetop way up high she live in the tree you should have say your mummy hide above your head no no no that a parrot mum get nose and not beak she doesn squawk and squabble and shriek she doesn have claws or feathery wing and anyway my mum leap and spring she just round the corner without doubt aha ve get it she leap about she just round the corner without doubt no no no that a frog butterfly butterfly please don joke mum not green and she doesn croak she not all slimy oh dear what muddle she brown and furry and nice to cuddle brown fur why didn you tell me so we will find her in no time off we go no no no that a bat why do you keep on get it wrong mum doesn sleep the whole day long tell you she get no wing at all and anyway she not nearly so small your mum not little now let me think she down by the river have drink no no no that the elephant again butterfly butterfly can you see none of these creature look like me you never tell me she look like you of course didn i think you know didn know couldn you see i none of my baby look like me so she look like you well if that the case we will soon discover her hiding place none of my baby look like me so she look like you well if that the case we will soon discover her hiding place no no no that my dad come little monkey come come come it time take you home to mum nmonkey love live in the jungle there be so many thing to do and so many thing to see but every now and then thing go bit wrong ooof monkey have little problem and the problem be be little some day everything be out of reach other day it be out of sight look wow thing be always too deep too dangerous and too difficult for someone so little no you can climb up here monkey be feed up with always miss out so one day she make decision very brave and very big decision will climb to the top of the tall tree the jungle be not too big for me you will see it wasn an easy journey not easy at all the river be deep and dangerous the path be often difficult but monkey would not give up and step by step she find her way everywhere monkey look she notice little thing and the little thing do amazing thing now it my turn she say so monkey begin to count one two threeeeeeeee who too little now not me soon monkey have reach the very bottom of the tall tree in the jungle this will be fun she say and she begin to climb up she go climb higher and high right to the very top the world below look so little and so beautiful finally monkey could see everything include the rest of her troop they look very excited to see me it must be time to go think monkey and she swing down from the tall tree feel very pleased and very proud monkey do love live in the jungle now more than ever before may be small but m very brave she say and very lucky say the rest of the troop little monkey know they be right because the small you be the large your adventure can be but good of all the big the hug feel'"
      ]
     },
     "execution_count": 63,
     "metadata": {},
     "output_type": "execute_result"
    }
   ],
   "source": [
    "text_data"
   ]
  },
  {
   "cell_type": "code",
   "execution_count": 65,
   "metadata": {},
   "outputs": [
    {
     "data": {
      "text/plain": [
       "187084"
      ]
     },
     "execution_count": 65,
     "metadata": {},
     "output_type": "execute_result"
    }
   ],
   "source": [
    "len(text_data)"
   ]
  },
  {
   "cell_type": "code",
   "execution_count": 70,
   "metadata": {},
   "outputs": [
    {
     "data": {
      "text/plain": [
       "0.11640782222222221"
      ]
     },
     "execution_count": 70,
     "metadata": {},
     "output_type": "execute_result"
    }
   ],
   "source": [
    "len(text_data) * 2.8 / 4500000"
   ]
  },
  {
   "cell_type": "code",
   "execution_count": 69,
   "metadata": {},
   "outputs": [
    {
     "data": {
      "text/plain": [
       "3482"
      ]
     },
     "execution_count": 69,
     "metadata": {},
     "output_type": "execute_result"
    }
   ],
   "source": [
    "from collections import Counter\n",
    "len(Counter(text_data.split(' ')))"
   ]
  },
  {
   "cell_type": "code",
   "execution_count": 72,
   "metadata": {},
   "outputs": [
    {
     "data": {
      "text/plain": [
       "0.04157422222222222"
      ]
     },
     "execution_count": 72,
     "metadata": {},
     "output_type": "execute_result"
    }
   ],
   "source": [
    "len(text_data) / 4500000"
   ]
  },
  {
   "cell_type": "code",
   "execution_count": 73,
   "metadata": {},
   "outputs": [
    {
     "data": {
      "text/plain": [
       "0.06492876855374058"
      ]
     },
     "execution_count": 73,
     "metadata": {},
     "output_type": "execute_result"
    }
   ],
   "source": [
    "3482/53628"
   ]
  },
  {
   "cell_type": "code",
   "execution_count": 71,
   "metadata": {},
   "outputs": [],
   "source": [
    "# Child-directed books data from Banaji has 98 books, ~45M total words, vocabulary of 53,628."
   ]
  },
  {
   "cell_type": "code",
   "execution_count": 58,
   "metadata": {},
   "outputs": [],
   "source": [
    "with open('../code/data.txt', 'w') as ofile:\n",
    "    ofile.write(text_data)"
   ]
  },
  {
   "cell_type": "code",
   "execution_count": 59,
   "metadata": {},
   "outputs": [],
   "source": [
    "model = fasttext.train_unsupervised('../code/data.txt', \n",
    "                                    #model='skipgram',\n",
    "                                    model='cbow',\n",
    "                                    dim=30,\n",
    "                                    lr=0.2)"
   ]
  },
  {
   "cell_type": "code",
   "execution_count": 60,
   "metadata": {},
   "outputs": [
    {
     "name": "stdout",
     "output_type": "stream",
     "text": [
      "There are 1004 words in the vocabularly.\n"
     ]
    },
    {
     "data": {
      "text/plain": [
       "False"
      ]
     },
     "execution_count": 60,
     "metadata": {},
     "output_type": "execute_result"
    }
   ],
   "source": [
    "print(\"There are %d words in the vocabularly.\" % len(model.words))\n",
    "\n",
    "'trowel' in model.words"
   ]
  },
  {
   "cell_type": "markdown",
   "metadata": {},
   "source": [
    "#### Note: models does not seem to include all words in text..."
   ]
  },
  {
   "cell_type": "code",
   "execution_count": 61,
   "metadata": {},
   "outputs": [
    {
     "data": {
      "text/plain": [
       "True"
      ]
     },
     "execution_count": 61,
     "metadata": {},
     "output_type": "execute_result"
    }
   ],
   "source": [
    "'trowel' in text_data"
   ]
  },
  {
   "cell_type": "markdown",
   "metadata": {},
   "source": [
    "#### But can still encode these words:"
   ]
  },
  {
   "cell_type": "code",
   "execution_count": 62,
   "metadata": {},
   "outputs": [
    {
     "data": {
      "text/plain": [
       "array([-0.08393553,  0.19083698,  0.09757589,  0.15124726, -0.01700048,\n",
       "       -0.19131207, -0.00133379, -0.06754062, -0.02693306, -0.22057591,\n",
       "       -0.01694159,  0.05277558, -0.06570253, -0.15287608,  0.00671332,\n",
       "        0.08356614,  0.23622714, -0.21251695,  0.20584825, -0.25826016,\n",
       "        0.02628025,  0.08231465,  0.08850907,  0.09206193,  0.07444617,\n",
       "        0.04909141,  0.02262963, -0.05892083, -0.03087487, -0.07088502],\n",
       "      dtype=float32)"
      ]
     },
     "execution_count": 62,
     "metadata": {},
     "output_type": "execute_result"
    }
   ],
   "source": [
    "model['trowel']"
   ]
  },
  {
   "cell_type": "markdown",
   "metadata": {},
   "source": [
    "#### We can now measure cosine similarity between words and do prediction tasks:\n",
    "\n",
    "Note: the embedding is highly sensitive to parameters (e.g. lr and dim), presumably because of the small volume of training data.\n",
    "\n",
    "See: https://datascience-enthusiast.com/DL/Operations_on_word_vectors.html"
   ]
  },
  {
   "cell_type": "code",
   "execution_count": 63,
   "metadata": {},
   "outputs": [],
   "source": [
    "def cosine_similarity(u, v):\n",
    "    \"\"\"\n",
    "    Cosine similarity reflects the degree of similariy between u and v\n",
    "        \n",
    "    Arguments:\n",
    "        u -- a word vector of shape (n,)          \n",
    "        v -- a word vector of shape (n,)\n",
    "\n",
    "    Returns:\n",
    "        cosine_similarity -- the cosine similarity between u and v defined by the formula above.\n",
    "    \"\"\"\n",
    "    \n",
    "    distance = 0.0\n",
    "    \n",
    "    ### START CODE HERE ###\n",
    "    # Compute the dot product between u and v (≈1 line)\n",
    "    dot = np.dot(u, v)\n",
    "    # Compute the L2 norm of u (≈1 line)\n",
    "    norm_u = np.sqrt(np.sum(u**2))\n",
    "    \n",
    "    # Compute the L2 norm of v (≈1 line)\n",
    "    norm_v = np.sqrt(np.sum(v**2))\n",
    "    # Compute the cosine similarity defined by formula (1) (≈1 line)\n",
    "    cosine_similarity = dot / np.dot(norm_u, norm_v)\n",
    "    ### END CODE HERE ###\n",
    "    \n",
    "    return cosine_similarity"
   ]
  },
  {
   "cell_type": "code",
   "execution_count": 64,
   "metadata": {},
   "outputs": [
    {
     "name": "stdout",
     "output_type": "stream",
     "text": [
      "0.8833557\n",
      "0.9042202\n",
      "0.19535369\n",
      "0.26680374\n",
      "0.84612614\n",
      "0.81008595\n"
     ]
    }
   ],
   "source": [
    "print(cosine_similarity(model['mum'], model['dad']))\n",
    "print(cosine_similarity(model['ladybird'], model['lazy']))\n",
    "print(cosine_similarity(model['ladybird'], model['boy']))\n",
    "print(cosine_similarity(model['ladybird'], model['dinosaur']))\n",
    "print(cosine_similarity(model['aphid'], model['blue']))\n",
    "print(cosine_similarity(model['wood'], model['blue']))"
   ]
  },
  {
   "cell_type": "code",
   "execution_count": 65,
   "metadata": {},
   "outputs": [],
   "source": [
    "def complete_analogy(word_a, word_b, word_c, word_to_vec_map):\n",
    "    \"\"\"\n",
    "    Performs the word analogy task as explained above: a is to b as c is to ____. \n",
    "    \n",
    "    Arguments:\n",
    "    word_a -- a word, string\n",
    "    word_b -- a word, string\n",
    "    word_c -- a word, string\n",
    "    word_to_vec_map -- dictionary that maps words to their corresponding vectors. \n",
    "    \n",
    "    Returns:\n",
    "    best_word --  the word such that v_b - v_a is close to v_best_word - v_c, as measured by cosine similarity\n",
    "    \"\"\"\n",
    "    \n",
    "    # convert words to lower case\n",
    "    word_a, word_b, word_c = word_a.lower(), word_b.lower(), word_c.lower()\n",
    "    \n",
    "    # Get the word embeddings v_a, v_b and v_c (≈1-3 lines)\n",
    "    e_a, e_b, e_c = word_to_vec_map[word_a], word_to_vec_map[word_b], word_to_vec_map[word_c]\n",
    "    \n",
    "    \n",
    "    words = word_to_vec_map.words\n",
    "    max_cosine_sim = -100              # Initialize max_cosine_sim to a large negative number\n",
    "    best_word = None                   # Initialize best_word with None, it will help keep track of the word to output\n",
    "\n",
    "    # loop over the whole word vector set\n",
    "    for w in words:        \n",
    "        # to avoid best_word being one of the input words, pass on them.\n",
    "        if w in [word_a, word_b, word_c] :\n",
    "            continue\n",
    "        \n",
    "        # Compute cosine similarity between the vector (e_b - e_a) and the vector ((w's vector representation) - e_c)  (≈1 line)\n",
    "        cosine_sim = cosine_similarity((e_b - e_a), (word_to_vec_map[w] - e_c))\n",
    "        \n",
    "        # If the cosine_sim is more than the max_cosine_sim seen so far,\n",
    "            # then: set the new max_cosine_sim to the current cosine_sim and the best_word to the current word (≈3 lines)\n",
    "        if cosine_sim > max_cosine_sim:\n",
    "            max_cosine_sim = cosine_sim\n",
    "            best_word = w\n",
    "        \n",
    "    return best_word"
   ]
  },
  {
   "cell_type": "code",
   "execution_count": 66,
   "metadata": {},
   "outputs": [
    {
     "data": {
      "text/plain": [
       "'hey'"
      ]
     },
     "execution_count": 66,
     "metadata": {},
     "output_type": "execute_result"
    }
   ],
   "source": [
    "complete_analogy('lazy', 'ladybird', 'bad-tempered', model)"
   ]
  },
  {
   "cell_type": "code",
   "execution_count": 67,
   "metadata": {},
   "outputs": [
    {
     "data": {
      "text/plain": [
       "'call'"
      ]
     },
     "execution_count": 67,
     "metadata": {},
     "output_type": "execute_result"
    }
   ],
   "source": [
    "complete_analogy('girl', 'boy', 'woman', model)"
   ]
  },
  {
   "cell_type": "code",
   "execution_count": 68,
   "metadata": {},
   "outputs": [
    {
     "data": {
      "text/plain": [
       "'when'"
      ]
     },
     "execution_count": 68,
     "metadata": {},
     "output_type": "execute_result"
    }
   ],
   "source": [
    "complete_analogy('man', 'woman', 'boy', model)"
   ]
  },
  {
   "cell_type": "code",
   "execution_count": 69,
   "metadata": {},
   "outputs": [
    {
     "data": {
      "text/plain": [
       "'spider'"
      ]
     },
     "execution_count": 69,
     "metadata": {},
     "output_type": "execute_result"
    }
   ],
   "source": [
    "complete_analogy('girl', 'answer', 'boy', model)"
   ]
  },
  {
   "cell_type": "code",
   "execution_count": 70,
   "metadata": {},
   "outputs": [
    {
     "name": "stdout",
     "output_type": "stream",
     "text": [
      "0.5374844\n",
      "0.81896424\n"
     ]
    }
   ],
   "source": [
    "print(cosine_similarity(model['man'], model['kitchen']))\n",
    "print(cosine_similarity(model['woman'], model['kitchen']))"
   ]
  },
  {
   "cell_type": "code",
   "execution_count": 71,
   "metadata": {},
   "outputs": [
    {
     "name": "stdout",
     "output_type": "stream",
     "text": [
      "0.80182064\n",
      "0.87414634\n"
     ]
    }
   ],
   "source": [
    "print(cosine_similarity(model['boy'], model['kitchen']))\n",
    "print(cosine_similarity(model['girl'], model['kitchen']))"
   ]
  },
  {
   "cell_type": "code",
   "execution_count": 72,
   "metadata": {},
   "outputs": [
    {
     "name": "stdout",
     "output_type": "stream",
     "text": [
      "0.58380616\n",
      "0.8596437\n"
     ]
    }
   ],
   "source": [
    "print(cosine_similarity(model['man'], model['office']))\n",
    "print(cosine_similarity(model['woman'], model['office']))"
   ]
  },
  {
   "cell_type": "code",
   "execution_count": 73,
   "metadata": {},
   "outputs": [
    {
     "name": "stdout",
     "output_type": "stream",
     "text": [
      "0.5964515\n",
      "0.75576776\n"
     ]
    }
   ],
   "source": [
    "print(cosine_similarity(model['dad'], model['work']))\n",
    "print(cosine_similarity(model['mum'], model['work']))"
   ]
  },
  {
   "cell_type": "code",
   "execution_count": 74,
   "metadata": {},
   "outputs": [
    {
     "name": "stdout",
     "output_type": "stream",
     "text": [
      "0.7979761\n",
      "0.87658566\n"
     ]
    }
   ],
   "source": [
    "print(cosine_similarity(model['boy'], model['adventure']))\n",
    "print(cosine_similarity(model['girl'], model['adventure']))"
   ]
  },
  {
   "cell_type": "code",
   "execution_count": 75,
   "metadata": {},
   "outputs": [
    {
     "name": "stdout",
     "output_type": "stream",
     "text": [
      "0.413043\n",
      "0.6489243\n"
     ]
    }
   ],
   "source": [
    "print(cosine_similarity(model['he'], model['adventure']))\n",
    "print(cosine_similarity(model['she'], model['adventure']))"
   ]
  },
  {
   "cell_type": "code",
   "execution_count": 76,
   "metadata": {},
   "outputs": [
    {
     "name": "stdout",
     "output_type": "stream",
     "text": [
      "0.4272283\n",
      "0.86279386\n"
     ]
    }
   ],
   "source": [
    "print(cosine_similarity(model['he'], model['her']))\n",
    "print(cosine_similarity(model['she'], model['him']))"
   ]
  },
  {
   "cell_type": "code",
   "execution_count": 77,
   "metadata": {},
   "outputs": [
    {
     "name": "stdout",
     "output_type": "stream",
     "text": [
      "0.77196836\n",
      "0.8262881\n"
     ]
    }
   ],
   "source": [
    "print(cosine_similarity(model['he'], model['is']))\n",
    "print(cosine_similarity(model['she'], model['is']))"
   ]
  },
  {
   "cell_type": "code",
   "execution_count": 78,
   "metadata": {},
   "outputs": [
    {
     "name": "stdout",
     "output_type": "stream",
     "text": [
      "0.6711418\n",
      "0.8506631\n"
     ]
    }
   ],
   "source": [
    "print(cosine_similarity(model['he'], model['go']))\n",
    "print(cosine_similarity(model['she'], model['go']))"
   ]
  },
  {
   "cell_type": "code",
   "execution_count": 79,
   "metadata": {},
   "outputs": [],
   "source": [
    "work_words = ['work', 'job', 'business', 'money']\n",
    "home_words = ['home', 'house', 'baby', 'family']"
   ]
  },
  {
   "cell_type": "code",
   "execution_count": 80,
   "metadata": {},
   "outputs": [
    {
     "name": "stdout",
     "output_type": "stream",
     "text": [
      "work True\n",
      "job True\n",
      "business False\n",
      "money True\n",
      "home True\n",
      "house True\n",
      "baby True\n",
      "family True\n"
     ]
    }
   ],
   "source": [
    "for word in work_words + home_words:\n",
    "    print(word, word in model.words)"
   ]
  },
  {
   "cell_type": "code",
   "execution_count": 81,
   "metadata": {},
   "outputs": [],
   "source": [
    "she_work = np.mean([cosine_similarity(model['she'], model[word]) for word in work_words])\n",
    "she_home = np.mean([cosine_similarity(model['she'], model[word]) for word in home_words])\n",
    "\n",
    "he_work = np.mean([cosine_similarity(model['he'], model[word]) for word in work_words])\n",
    "he_home = np.mean([cosine_similarity(model['he'], model[word]) for word in home_words])"
   ]
  },
  {
   "cell_type": "code",
   "execution_count": 82,
   "metadata": {},
   "outputs": [
    {
     "data": {
      "text/plain": [
       "-0.41200703"
      ]
     },
     "execution_count": 82,
     "metadata": {},
     "output_type": "execute_result"
    }
   ],
   "source": [
    "she_home - she_work"
   ]
  },
  {
   "cell_type": "code",
   "execution_count": 83,
   "metadata": {},
   "outputs": [
    {
     "data": {
      "text/plain": [
       "-0.34935412"
      ]
     },
     "execution_count": 83,
     "metadata": {},
     "output_type": "execute_result"
    }
   ],
   "source": [
    "he_home - he_work"
   ]
  },
  {
   "cell_type": "code",
   "execution_count": 84,
   "metadata": {},
   "outputs": [
    {
     "data": {
      "text/plain": [
       "0.65179044"
      ]
     },
     "execution_count": 84,
     "metadata": {},
     "output_type": "execute_result"
    }
   ],
   "source": [
    "he_work"
   ]
  },
  {
   "cell_type": "code",
   "execution_count": 85,
   "metadata": {},
   "outputs": [
    {
     "data": {
      "text/plain": [
       "0.81597495"
      ]
     },
     "execution_count": 85,
     "metadata": {},
     "output_type": "execute_result"
    }
   ],
   "source": [
    "she_work"
   ]
  },
  {
   "cell_type": "markdown",
   "metadata": {},
   "source": [
    "#### Trying WEFE to compute WEAT scores:\n",
    "\n",
    "https://www.kdnuggets.com/2020/08/word-embedding-fairness-evaluation.html\n",
    "\n",
    "Note: This package RNB, RNSB and MAC. It does not seem to provide the permutation test of statistical significance that is used in the Banaji paper.  "
   ]
  },
  {
   "cell_type": "code",
   "execution_count": 86,
   "metadata": {},
   "outputs": [
    {
     "name": "stderr",
     "output_type": "stream",
     "text": [
      "/home/rustybilges/anaconda3/envs/genderenv/lib/python3.9/site-packages/gensim/similarities/__init__.py:15: UserWarning: The gensim.similarities.levenshtein submodule is disabled, because the optional Levenshtein package <https://pypi.org/project/python-Levenshtein/> is unavailable. Install Levenhstein (e.g. `pip install python-Levenshtein`) to suppress this warning.\n",
      "  warnings.warn(msg)\n"
     ]
    }
   ],
   "source": [
    "from wefe.utils import run_queries\n",
    "from wefe.datasets import load_weat\n",
    "from wefe import Query, WEAT, WordEmbeddingModel\n",
    "from gensim.models import KeyedVectors\n",
    "from gensim.models import FastText\n",
    "\n",
    "# Load the sets used in the weat case study\n",
    "weat_wordsets = load_weat()"
   ]
  },
  {
   "cell_type": "code",
   "execution_count": 87,
   "metadata": {},
   "outputs": [],
   "source": [
    "model.save_model(\"fasttextmodel.bin\")"
   ]
  },
  {
   "cell_type": "code",
   "execution_count": 88,
   "metadata": {},
   "outputs": [
    {
     "name": "stderr",
     "output_type": "stream",
     "text": [
      "<ipython-input-88-68bd65db4c74>:1: DeprecationWarning: Call to deprecated `load_fasttext_format` (use load_facebook_vectors (to use pretrained embeddings) or load_facebook_model (to continue training with the loaded full model, more RAM) instead).\n",
      "  fast = FastText.load_fasttext_format(\"fasttextmodel.bin\")#, 'FastText')\n",
      "DEBUG:smart_open.smart_open_lib:{'uri': 'fasttextmodel.bin', 'mode': 'rb', 'buffering': -1, 'encoding': None, 'errors': None, 'newline': None, 'closefd': True, 'opener': None, 'ignore_ext': False, 'compression': None, 'transport_params': None}\n",
      "INFO:gensim.models._fasttext_bin:loading 1004 words for fastText model from fasttextmodel.bin\n",
      "DEBUG:gensim.utils:starting a new internal lifecycle event log for FastText\n",
      "INFO:gensim.utils:FastText lifecycle event {'params': 'FastText(vocab=0, vector_size=30, alpha=0.025)', 'datetime': '2021-07-12T18:21:46.552694', 'gensim': '4.0.1', 'python': '3.9.4 (default, Apr  9 2021, 16:34:09) \\n[GCC 7.3.0]', 'platform': 'Linux-5.4.0-77-generic-x86_64-with-glibc2.27', 'event': 'created'}\n",
      "INFO:gensim.models.word2vec:Updating model with new vocabulary\n",
      "INFO:gensim.utils:FastText lifecycle event {'msg': 'added 1004 new unique words (100.0%% of original 1004) and increased the count of 0 pre-existing words (0.0%% of original 1004)', 'datetime': '2021-07-12T18:21:46.663581', 'gensim': '4.0.1', 'python': '3.9.4 (default, Apr  9 2021, 16:34:09) \\n[GCC 7.3.0]', 'platform': 'Linux-5.4.0-77-generic-x86_64-with-glibc2.27', 'event': 'prepare_vocab'}\n",
      "INFO:gensim.models.word2vec:deleting the raw counts dictionary of 1004 items\n",
      "INFO:gensim.models.word2vec:sample=0.0001 downsamples 631 most-common words\n",
      "INFO:gensim.utils:FastText lifecycle event {'msg': 'downsampling leaves estimated 11129.417122688657 word corpus (32.7%% of prior 34044)', 'datetime': '2021-07-12T18:21:46.676120', 'gensim': '4.0.1', 'python': '3.9.4 (default, Apr  9 2021, 16:34:09) \\n[GCC 7.3.0]', 'platform': 'Linux-5.4.0-77-generic-x86_64-with-glibc2.27', 'event': 'prepare_vocab'}\n",
      "INFO:gensim.utils:FastText lifecycle event {'msg': 'loaded (2001004, 30) weight matrix for fastText model from fasttextmodel.bin', 'datetime': '2021-07-12T18:21:46.976300', 'gensim': '4.0.1', 'python': '3.9.4 (default, Apr  9 2021, 16:34:09) \\n[GCC 7.3.0]', 'platform': 'Linux-5.4.0-77-generic-x86_64-with-glibc2.27', 'event': 'load_fasttext_format'}\n"
     ]
    }
   ],
   "source": [
    "fast = FastText.load_fasttext_format(\"fasttextmodel.bin\")#, 'FastText')"
   ]
  },
  {
   "cell_type": "code",
   "execution_count": 89,
   "metadata": {},
   "outputs": [],
   "source": [
    "fast_ita = WordEmbeddingModel(fast.wv, 'fast')"
   ]
  },
  {
   "cell_type": "code",
   "execution_count": 90,
   "metadata": {},
   "outputs": [],
   "source": [
    "female_identifiers =['she', 'girl', 'woman', 'mum', 'mother', 'lady', 'sister', 'daughter',\n",
    "                   'girls', 'women', 'mums', 'mothers', 'ladies', 'sisters', 'daughters']\n",
    "\n",
    "male_identifiers = ['he', 'boy', 'man', 'dad', 'father', 'guy', 'son',\n",
    "                   'boys', 'men', 'dads', 'fathers', 'guys', 'brothers', 'sons']\n",
    "# male_identifiers = ['he', 'boy', 'man', 'dad', 'father', 'guy', 'brother', 'son',\n",
    "#                    'boys', 'men', 'dads', 'fathers', 'guys', 'brothers', 'sons']\n",
    "\n",
    "work_words = ['work', 'job', 'money']\n",
    "home_words = ['home', 'house', 'baby', 'family']\n",
    "\n",
    "\n",
    "art_words = ['art', 'dance', 'dancing', 'sing', 'singing', 'paint', 'painting', 'song', 'draw', 'drawing']\n",
    "science_words = ['science', 'scientist', 'chemistry', 'physics', 'engineer', 'space', 'spaceship', 'astronaut', 'chemical', 'microscope']"
   ]
  },
  {
   "cell_type": "code",
   "execution_count": 91,
   "metadata": {},
   "outputs": [
    {
     "name": "stdout",
     "output_type": "stream",
     "text": [
      "art False\n",
      "dance True\n",
      "dancing False\n",
      "sing True\n",
      "singing False\n",
      "paint True\n",
      "painting False\n",
      "song True\n",
      "draw True\n",
      "drawing False\n",
      "science False\n",
      "scientist False\n",
      "chemistry False\n",
      "physics False\n",
      "engineer False\n",
      "space True\n",
      "spaceship False\n",
      "astronaut False\n",
      "chemical False\n",
      "microscope False\n"
     ]
    }
   ],
   "source": [
    "for word in art_words + science_words:\n",
    "    print(word, word in model.words)"
   ]
  },
  {
   "cell_type": "code",
   "execution_count": 92,
   "metadata": {},
   "outputs": [],
   "source": [
    "male_identifiers = [i for i in male_identifiers if i in model.words]\n",
    "female_identifiers = [i for i in female_identifiers if i in model.words]\n",
    "\n",
    "home_words = [i for i in home_words if i in model.words]\n",
    "work_words = [i for i in work_words if i in model.words]"
   ]
  },
  {
   "cell_type": "code",
   "execution_count": 93,
   "metadata": {},
   "outputs": [],
   "source": [
    "weat = WEAT()"
   ]
  },
  {
   "cell_type": "code",
   "execution_count": 94,
   "metadata": {},
   "outputs": [],
   "source": [
    "gender_occupation_query = Query([male_identifiers, female_identifiers],\n",
    "                                [work_words, home_words],\n",
    "                                ['Male names', 'Female names'],\n",
    "                                ['Work', 'Home'])"
   ]
  },
  {
   "cell_type": "code",
   "execution_count": 95,
   "metadata": {},
   "outputs": [],
   "source": [
    "weat_results = weat.run_query(gender_occupation_query, fast_ita)"
   ]
  },
  {
   "cell_type": "code",
   "execution_count": 96,
   "metadata": {},
   "outputs": [
    {
     "data": {
      "text/plain": [
       "{'query_name': 'Male names and Female names wrt Work and Home',\n",
       " 'result': -0.23678383,\n",
       " 'weat': -0.23678383,\n",
       " 'effect_size': -0.19159506,\n",
       " 'p_value': nan}"
      ]
     },
     "execution_count": 96,
     "metadata": {},
     "output_type": "execute_result"
    }
   ],
   "source": [
    "weat_results"
   ]
  },
  {
   "cell_type": "code",
   "execution_count": 97,
   "metadata": {},
   "outputs": [
    {
     "data": {
      "text/plain": [
       "['work', 'job', 'money']"
      ]
     },
     "execution_count": 97,
     "metadata": {},
     "output_type": "execute_result"
    }
   ],
   "source": [
    "work_words"
   ]
  },
  {
   "cell_type": "code",
   "execution_count": 98,
   "metadata": {},
   "outputs": [
    {
     "data": {
      "text/plain": [
       "['home', 'house', 'baby', 'family']"
      ]
     },
     "execution_count": 98,
     "metadata": {},
     "output_type": "execute_result"
    }
   ],
   "source": [
    "home_words"
   ]
  },
  {
   "cell_type": "code",
   "execution_count": 99,
   "metadata": {},
   "outputs": [
    {
     "data": {
      "text/plain": [
       "['he', 'boy', 'man', 'dad', 'father']"
      ]
     },
     "execution_count": 99,
     "metadata": {},
     "output_type": "execute_result"
    }
   ],
   "source": [
    "male_identifiers"
   ]
  },
  {
   "cell_type": "code",
   "execution_count": 100,
   "metadata": {},
   "outputs": [
    {
     "data": {
      "text/plain": [
       "['she', 'girl', 'mum', 'mother', 'lady']"
      ]
     },
     "execution_count": 100,
     "metadata": {},
     "output_type": "execute_result"
    }
   ],
   "source": [
    "female_identifiers"
   ]
  },
  {
   "cell_type": "code",
   "execution_count": null,
   "metadata": {},
   "outputs": [],
   "source": []
  }
 ],
 "metadata": {
  "kernelspec": {
   "display_name": "Python 3",
   "language": "python",
   "name": "python3"
  },
  "language_info": {
   "codemirror_mode": {
    "name": "ipython",
    "version": 3
   },
   "file_extension": ".py",
   "mimetype": "text/x-python",
   "name": "python",
   "nbconvert_exporter": "python",
   "pygments_lexer": "ipython3",
   "version": "3.9.4"
  }
 },
 "nbformat": 4,
 "nbformat_minor": 2
}
